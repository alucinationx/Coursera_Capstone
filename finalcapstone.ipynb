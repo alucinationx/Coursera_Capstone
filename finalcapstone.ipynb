{
  "nbformat": 4,
  "nbformat_minor": 0,
  "metadata": {
    "colab": {
      "name": "Untitled3.ipynb",
      "provenance": [],
      "collapsed_sections": [],
      "authorship_tag": "ABX9TyMqRLm1fFN35AemGXdrWybH",
      "include_colab_link": true
    },
    "kernelspec": {
      "name": "python3",
      "display_name": "Python 3"
    },
    "language_info": {
      "name": "python"
    }
  },
  "cells": [
    {
      "cell_type": "markdown",
      "metadata": {
        "id": "view-in-github",
        "colab_type": "text"
      },
      "source": [
        "<a href=\"https://colab.research.google.com/github/alucinationx/Coursera_Capstone/blob/main/finalcapstone.ipynb\" target=\"_parent\"><img src=\"https://colab.research.google.com/assets/colab-badge.svg\" alt=\"Open In Colab\"/></a>"
      ]
    },
    {
      "cell_type": "code",
      "metadata": {
        "colab": {
          "base_uri": "https://localhost:8080/"
        },
        "id": "l5x63O7LeK3R",
        "outputId": "a9e85930-1749-4c78-a4f5-43476097eb66"
      },
      "source": [
        "#import libraries\n",
        "!pip install geocoder\n",
        "!pip install foursquare\n",
        "import pandas as pd\n",
        "import numpy as np\n",
        "import requests \n",
        "from pandas.io.json import json_normalize \n",
        "import folium \n",
        "import geocoder\n",
        "print('everything is fine')"
      ],
      "execution_count": 1,
      "outputs": [
        {
          "output_type": "stream",
          "text": [
            "Collecting geocoder\n",
            "\u001b[?25l  Downloading https://files.pythonhosted.org/packages/4f/6b/13166c909ad2f2d76b929a4227c952630ebaf0d729f6317eb09cbceccbab/geocoder-1.38.1-py2.py3-none-any.whl (98kB)\n",
            "\r\u001b[K     |███▎                            | 10kB 10.8MB/s eta 0:00:01\r\u001b[K     |██████▋                         | 20kB 14.7MB/s eta 0:00:01\r\u001b[K     |██████████                      | 30kB 7.7MB/s eta 0:00:01\r\u001b[K     |█████████████▎                  | 40kB 7.7MB/s eta 0:00:01\r\u001b[K     |████████████████▋               | 51kB 4.3MB/s eta 0:00:01\r\u001b[K     |████████████████████            | 61kB 4.8MB/s eta 0:00:01\r\u001b[K     |███████████████████████▎        | 71kB 5.1MB/s eta 0:00:01\r\u001b[K     |██████████████████████████▋     | 81kB 5.1MB/s eta 0:00:01\r\u001b[K     |██████████████████████████████  | 92kB 5.7MB/s eta 0:00:01\r\u001b[K     |████████████████████████████████| 102kB 3.9MB/s \n",
            "\u001b[?25hRequirement already satisfied: requests in /usr/local/lib/python3.7/dist-packages (from geocoder) (2.23.0)\n",
            "Collecting ratelim\n",
            "  Downloading https://files.pythonhosted.org/packages/f2/98/7e6d147fd16a10a5f821db6e25f192265d6ecca3d82957a4fdd592cad49c/ratelim-0.1.6-py2.py3-none-any.whl\n",
            "Requirement already satisfied: click in /usr/local/lib/python3.7/dist-packages (from geocoder) (7.1.2)\n",
            "Requirement already satisfied: six in /usr/local/lib/python3.7/dist-packages (from geocoder) (1.15.0)\n",
            "Requirement already satisfied: future in /usr/local/lib/python3.7/dist-packages (from geocoder) (0.16.0)\n",
            "Requirement already satisfied: chardet<4,>=3.0.2 in /usr/local/lib/python3.7/dist-packages (from requests->geocoder) (3.0.4)\n",
            "Requirement already satisfied: urllib3!=1.25.0,!=1.25.1,<1.26,>=1.21.1 in /usr/local/lib/python3.7/dist-packages (from requests->geocoder) (1.24.3)\n",
            "Requirement already satisfied: certifi>=2017.4.17 in /usr/local/lib/python3.7/dist-packages (from requests->geocoder) (2020.12.5)\n",
            "Requirement already satisfied: idna<3,>=2.5 in /usr/local/lib/python3.7/dist-packages (from requests->geocoder) (2.10)\n",
            "Requirement already satisfied: decorator in /usr/local/lib/python3.7/dist-packages (from ratelim->geocoder) (4.4.2)\n",
            "Installing collected packages: ratelim, geocoder\n",
            "Successfully installed geocoder-1.38.1 ratelim-0.1.6\n",
            "Collecting foursquare\n",
            "  Downloading https://files.pythonhosted.org/packages/16/c7/d51ecf7e06a75741a61ff752e5e010db8794ec0af01da98f42db7ab64ffe/foursquare-1%212020.1.30-py3-none-any.whl\n",
            "Requirement already satisfied: six in /usr/local/lib/python3.7/dist-packages (from foursquare) (1.15.0)\n",
            "Requirement already satisfied: requests>=2.1 in /usr/local/lib/python3.7/dist-packages (from foursquare) (2.23.0)\n",
            "Requirement already satisfied: chardet<4,>=3.0.2 in /usr/local/lib/python3.7/dist-packages (from requests>=2.1->foursquare) (3.0.4)\n",
            "Requirement already satisfied: idna<3,>=2.5 in /usr/local/lib/python3.7/dist-packages (from requests>=2.1->foursquare) (2.10)\n",
            "Requirement already satisfied: urllib3!=1.25.0,!=1.25.1,<1.26,>=1.21.1 in /usr/local/lib/python3.7/dist-packages (from requests>=2.1->foursquare) (1.24.3)\n",
            "Requirement already satisfied: certifi>=2017.4.17 in /usr/local/lib/python3.7/dist-packages (from requests>=2.1->foursquare) (2020.12.5)\n",
            "Installing collected packages: foursquare\n",
            "Successfully installed foursquare-1!2020.1.30\n",
            "everything is fine\n"
          ],
          "name": "stdout"
        }
      ]
    },
    {
      "cell_type": "code",
      "metadata": {
        "id": "9d9quHLRoTFw"
      },
      "source": [
        "# Define Foursquare Credentials and Version\n",
        "\n",
        "CLIENT_ID = 'W5FPHFGBRSQIAUCCW51OJVX32SVS1RLAMZN1JRWXBR2TDXB0' # your Foursquare ID\n",
        "CLIENT_SECRET = 'RELN10XSC1GQDZZX0CLOZY3E2LL12EG33E2P0BSFEO00K3K2' # your Foursquare Secret\n",
        "VERSION = '20201205' # Foursquare API version\n",
        "LIMIT = 40"
      ],
      "execution_count": 2,
      "outputs": []
    },
    {
      "cell_type": "code",
      "metadata": {
        "id": "Okq_NH9Oo95d"
      },
      "source": [
        "import requests\n",
        "\n",
        "request_parameters = {\n",
        "    \"client_id\": CLIENT_ID,\n",
        "    \"client_secret\": CLIENT_SECRET,\n",
        "    \"v\": '20201205',\n",
        "    \"section\": \"drinks\",\n",
        "    \"near\": \"Bauru\",\n",
        "    \"radius\": 10000,\n",
        "    \"limit\": 50}\n",
        "\n",
        "data = requests.get(\"https://api.foursquare.com/v2/venues/explore\", params=request_parameters)"
      ],
      "execution_count": 3,
      "outputs": []
    },
    {
      "cell_type": "code",
      "metadata": {
        "colab": {
          "base_uri": "https://localhost:8080/"
        },
        "id": "BFLKz-bjAazp",
        "outputId": "9b1cc525-6f88-4019-85af-f099ce64c2c0"
      },
      "source": [
        "d = data.json()[\"response\"]\n",
        "d.keys()"
      ],
      "execution_count": 4,
      "outputs": [
        {
          "output_type": "execute_result",
          "data": {
            "text/plain": [
              "dict_keys(['suggestedFilters', 'geocode', 'headerLocation', 'headerFullLocation', 'headerLocationGranularity', 'query', 'totalResults', 'suggestedBounds', 'groups'])"
            ]
          },
          "metadata": {
            "tags": []
          },
          "execution_count": 4
        }
      ]
    },
    {
      "cell_type": "code",
      "metadata": {
        "colab": {
          "base_uri": "https://localhost:8080/"
        },
        "id": "0UB9UuzLq9og",
        "outputId": "d69df99b-321e-4e0b-ef97-c458605f5bd3"
      },
      "source": [
        "d[\"headerLocationGranularity\"], d[\"headerLocation\"], d[\"headerFullLocation\"]"
      ],
      "execution_count": 5,
      "outputs": [
        {
          "output_type": "execute_result",
          "data": {
            "text/plain": [
              "('city', 'Bauru', 'Bauru')"
            ]
          },
          "metadata": {
            "tags": []
          },
          "execution_count": 5
        }
      ]
    },
    {
      "cell_type": "code",
      "metadata": {
        "colab": {
          "base_uri": "https://localhost:8080/"
        },
        "id": "zGxWvIj6AouB",
        "outputId": "96ab694d-f06e-4312-dc08-feb3a4ebf30b"
      },
      "source": [
        "d[\"suggestedBounds\"], d[\"totalResults\"]"
      ],
      "execution_count": 6,
      "outputs": [
        {
          "output_type": "execute_result",
          "data": {
            "text/plain": [
              "({'ne': {'lat': -22.312547858979208, 'lng': -49.02842730721986},\n",
              "  'sw': {'lat': -22.373439135701844, 'lng': -49.10085438487687}},\n",
              " 47)"
            ]
          },
          "metadata": {
            "tags": []
          },
          "execution_count": 6
        }
      ]
    },
    {
      "cell_type": "code",
      "metadata": {
        "colab": {
          "base_uri": "https://localhost:8080/"
        },
        "id": "vE6dIiIwAryc",
        "outputId": "6d17ce45-2685-4659-b172-22d0a90b1e39"
      },
      "source": [
        "d[\"geocode\"]"
      ],
      "execution_count": 7,
      "outputs": [
        {
          "output_type": "execute_result",
          "data": {
            "text/plain": [
              "{'cc': 'BR',\n",
              " 'center': {'lat': -22.31472, 'lng': -49.06056},\n",
              " 'displayString': 'Bauru, SP, Brazil',\n",
              " 'geometry': {'bounds': {'ne': {'lat': -22.140281999999996,\n",
              "    'lng': -48.973036940248306},\n",
              "   'sw': {'lat': -22.401756000000024, 'lng': -49.18743418680616}}},\n",
              " 'longId': '72057594041398215',\n",
              " 'slug': 'bauru-brazil',\n",
              " 'what': '',\n",
              " 'where': 'bauru'}"
            ]
          },
          "metadata": {
            "tags": []
          },
          "execution_count": 7
        }
      ]
    },
    {
      "cell_type": "code",
      "metadata": {
        "colab": {
          "base_uri": "https://localhost:8080/"
        },
        "id": "Zj40c27pA5vl",
        "outputId": "274ebbad-3774-4c00-ce22-d3f02fe9ae01"
      },
      "source": [
        "d[\"groups\"][0].keys()\n"
      ],
      "execution_count": 8,
      "outputs": [
        {
          "output_type": "execute_result",
          "data": {
            "text/plain": [
              "dict_keys(['type', 'name', 'items'])"
            ]
          },
          "metadata": {
            "tags": []
          },
          "execution_count": 8
        }
      ]
    },
    {
      "cell_type": "code",
      "metadata": {
        "colab": {
          "base_uri": "https://localhost:8080/"
        },
        "id": "AAKdq-NWA96F",
        "outputId": "7ef0b103-dab4-4a5c-e36e-f86e5ed9d9cd"
      },
      "source": [
        "d[\"groups\"][0][\"type\"], d[\"groups\"][0][\"name\"]"
      ],
      "execution_count": 9,
      "outputs": [
        {
          "output_type": "execute_result",
          "data": {
            "text/plain": [
              "('Recommended Places', 'recommended')"
            ]
          },
          "metadata": {
            "tags": []
          },
          "execution_count": 9
        }
      ]
    },
    {
      "cell_type": "code",
      "metadata": {
        "colab": {
          "base_uri": "https://localhost:8080/"
        },
        "id": "vbB3agj7A_aL",
        "outputId": "37888dfa-a0b3-4220-d56b-b21c7a5334ea"
      },
      "source": [
        "items = d[\"groups\"][0][\"items\"]\n",
        "print(\"number of items: %i\" % len(items))\n",
        "items[0]"
      ],
      "execution_count": 10,
      "outputs": [
        {
          "output_type": "stream",
          "text": [
            "number of items: 47\n"
          ],
          "name": "stdout"
        },
        {
          "output_type": "execute_result",
          "data": {
            "text/plain": [
              "{'reasons': {'count': 0,\n",
              "  'items': [{'reasonName': 'globalInteractionReason',\n",
              "    'summary': 'This spot is popular',\n",
              "    'type': 'general'}]},\n",
              " 'referralId': 'e-4-4b9b9d3ef964a520b41336e3-0',\n",
              " 'venue': {'categories': [{'icon': {'prefix': 'https://ss3.4sqi.net/img/categories_v2/nightlife/pub_',\n",
              "     'suffix': '.png'},\n",
              "    'id': '4bf58dd8d48988d116941735',\n",
              "    'name': 'Bar',\n",
              "    'pluralName': 'Bars',\n",
              "    'primary': True,\n",
              "    'shortName': 'Bar'}],\n",
              "  'id': '4b9b9d3ef964a520b41336e3',\n",
              "  'location': {'address': 'R. Benjamim Constant, 10-45',\n",
              "   'cc': 'BR',\n",
              "   'city': 'Bauru',\n",
              "   'country': 'Brasil',\n",
              "   'formattedAddress': ['R. Benjamim Constant, 10-45', 'Bauru, SP', 'Brasil'],\n",
              "   'labeledLatLngs': [{'label': 'display',\n",
              "     'lat': -22.32203285830864,\n",
              "     'lng': -49.05903879065376}],\n",
              "   'lat': -22.32203285830864,\n",
              "   'lng': -49.05903879065376,\n",
              "   'state': 'SP'},\n",
              "  'name': 'Bar do Português',\n",
              "  'photos': {'count': 0, 'groups': []}}}"
            ]
          },
          "metadata": {
            "tags": []
          },
          "execution_count": 10
        }
      ]
    },
    {
      "cell_type": "code",
      "metadata": {
        "colab": {
          "base_uri": "https://localhost:8080/"
        },
        "id": "0zsw9wGtaQ-T",
        "outputId": "8f49156f-35ce-41e7-e666-710f9ba4f736"
      },
      "source": [
        "items[1]"
      ],
      "execution_count": 15,
      "outputs": [
        {
          "output_type": "execute_result",
          "data": {
            "text/plain": [
              "{'reasons': {'count': 0,\n",
              "  'items': [{'reasonName': 'globalInteractionReason',\n",
              "    'summary': 'This spot is popular',\n",
              "    'type': 'general'}]},\n",
              " 'referralId': 'e-4-4c40d6b1d691c9b615d58b0a-1',\n",
              " 'venue': {'categories': [{'icon': {'prefix': 'https://ss3.4sqi.net/img/categories_v2/nightlife/pub_',\n",
              "     'suffix': '.png'},\n",
              "    'id': '4bf58dd8d48988d116941735',\n",
              "    'name': 'Bar',\n",
              "    'pluralName': 'Bars',\n",
              "    'primary': True,\n",
              "    'shortName': 'Bar'}],\n",
              "  'id': '4c40d6b1d691c9b615d58b0a',\n",
              "  'location': {'address': 'R. Antonio dos Reis',\n",
              "   'cc': 'BR',\n",
              "   'city': 'Bauru',\n",
              "   'country': 'Brasil',\n",
              "   'formattedAddress': ['R. Antonio dos Reis',\n",
              "    'Bauru, SP',\n",
              "    '17013-300',\n",
              "    'Brasil'],\n",
              "   'labeledLatLngs': [{'label': 'display',\n",
              "     'lat': -22.32081804942013,\n",
              "     'lng': -49.06109806793662}],\n",
              "   'lat': -22.32081804942013,\n",
              "   'lng': -49.06109806793662,\n",
              "   'postalCode': '17013-300',\n",
              "   'state': 'SP'},\n",
              "  'name': 'Bar do Brecha',\n",
              "  'photos': {'count': 0, 'groups': []}}}"
            ]
          },
          "metadata": {
            "tags": []
          },
          "execution_count": 15
        }
      ]
    },
    {
      "cell_type": "code",
      "metadata": {
        "colab": {
          "base_uri": "https://localhost:8080/",
          "height": 1000
        },
        "id": "IoNtZGQzBJBM",
        "outputId": "755a1bce-e137-49a5-caec-bca66e9ed10b"
      },
      "source": [
        "df_raw = []\n",
        "for item in items:\n",
        "    venue = item[\"venue\"]\n",
        "    categories, uid, name, location = venue[\"categories\"], venue[\"id\"], venue[\"name\"], venue[\"location\"]\n",
        "    print(location)\n",
        "    assert len(categories) == 1\n",
        "    shortname = categories[0][\"shortName\"]\n",
        "    address =  ''\n",
        "    if hasattr(location, 'address'):\n",
        "      address = location['address']\n",
        "    if not \"postalCode\" in location:\n",
        "        continue\n",
        "    postalcode = location[\"postalCode\"]\n",
        "    lat = location[\"lat\"]\n",
        "    lng = location[\"lng\"]\n",
        "    datarow = (uid, name, shortname, address, postalcode, lat, lng)\n",
        "    df_raw.append(datarow)\n",
        "df = pd.DataFrame(df_raw, columns=[\"uid\", \"name\", \"shortname\", \"address\", \"postalcode\", \"lat\", \"lng\"])\n",
        "print(\"found %i bars\" % len(df))\n",
        "df.head()"
      ],
      "execution_count": 11,
      "outputs": [
        {
          "output_type": "stream",
          "text": [
            "{'address': 'R. Benjamim Constant, 10-45', 'lat': -22.32203285830864, 'lng': -49.05903879065376, 'labeledLatLngs': [{'label': 'display', 'lat': -22.32203285830864, 'lng': -49.05903879065376}], 'cc': 'BR', 'city': 'Bauru', 'state': 'SP', 'country': 'Brasil', 'formattedAddress': ['R. Benjamim Constant, 10-45', 'Bauru, SP', 'Brasil']}\n",
            "{'address': 'R. Antonio dos Reis', 'lat': -22.32081804942013, 'lng': -49.06109806793662, 'labeledLatLngs': [{'label': 'display', 'lat': -22.32081804942013, 'lng': -49.06109806793662}], 'postalCode': '17013-300', 'cc': 'BR', 'city': 'Bauru', 'state': 'SP', 'country': 'Brasil', 'formattedAddress': ['R. Antonio dos Reis', 'Bauru, SP', '17013-300', 'Brasil']}\n",
            "{'address': 'Rua Caetano Sampieri, 1-15', 'lat': -22.33762104221057, 'lng': -49.05886850314782, 'labeledLatLngs': [{'label': 'display', 'lat': -22.33762104221057, 'lng': -49.05886850314782}], 'cc': 'BR', 'city': 'Bauru', 'state': 'SP', 'country': 'Brasil', 'formattedAddress': ['Rua Caetano Sampieri, 1-15', 'Bauru, SP', 'Brasil']}\n",
            "{'address': 'R. Edmundo Antunes, 3-1', 'lat': -22.334209299385996, 'lng': -49.05319804800284, 'labeledLatLngs': [{'label': 'display', 'lat': -22.334209299385996, 'lng': -49.05319804800284}], 'cc': 'BR', 'city': 'Bauru', 'state': 'SP', 'country': 'Brasil', 'formattedAddress': ['R. Edmundo Antunes, 3-1', 'Bauru, SP, SP', 'Brasil']}\n",
            "{'lat': -22.315315644284784, 'lng': -49.08504637009565, 'labeledLatLngs': [{'label': 'display', 'lat': -22.315315644284784, 'lng': -49.08504637009565}], 'cc': 'BR', 'country': 'Brasil', 'formattedAddress': ['Brasil']}\n",
            "{'address': 'Rua Saint Martin 16 02', 'crossStreet': 'Rua Rodrigo Romeiro', 'lat': -22.32601153119963, 'lng': -49.06683662758987, 'labeledLatLngs': [{'label': 'display', 'lat': -22.32601153119963, 'lng': -49.06683662758987}], 'cc': 'BR', 'city': 'Bauru', 'state': 'SP', 'country': 'Brasil', 'formattedAddress': ['Rua Saint Martin 16 02 (Rua Rodrigo Romeiro)', 'Bauru, SP', 'Brasil']}\n",
            "{'address': 'R. Quintino Bocaiúva, 2-20', 'crossStreet': 'Cussy Júnior', 'lat': -22.327265281788748, 'lng': -49.08034527551882, 'labeledLatLngs': [{'label': 'display', 'lat': -22.327265281788748, 'lng': -49.08034527551882}], 'postalCode': '17017-290', 'cc': 'BR', 'city': 'Bauru', 'state': 'SP', 'country': 'Brasil', 'formattedAddress': ['R. Quintino Bocaiúva, 2-20 (Cussy Júnior)', 'Bauru, SP', '17017-290', 'Brasil']}\n",
            "{'address': 'R. Avd. Gomes Ribeiro, 20-85', 'crossStreet': 'esq. R. São Gonçalo', 'lat': -22.32844063301152, 'lng': -49.063031272747274, 'labeledLatLngs': [{'label': 'display', 'lat': -22.32844063301152, 'lng': -49.063031272747274}], 'postalCode': '17012-170', 'cc': 'BR', 'city': 'Bauru', 'state': 'SP', 'country': 'Brasil', 'formattedAddress': ['R. Avd. Gomes Ribeiro, 20-85 (esq. R. São Gonçalo)', 'Bauru, SP', '17012-170', 'Brasil']}\n",
            "{'address': 'Boulevard Shopping Nações', 'crossStreet': 'Quiosque 308', 'lat': -22.316144880180996, 'lng': -49.06606631866441, 'labeledLatLngs': [{'label': 'display', 'lat': -22.316144880180996, 'lng': -49.06606631866441}], 'postalCode': '17013-113', 'cc': 'BR', 'city': 'Bauru', 'state': 'SP', 'country': 'Brasil', 'formattedAddress': ['Boulevard Shopping Nações (Quiosque 308)', 'JTC, SP', '17013-113', 'Brasil']}\n",
            "{'address': 'R. Antônio Alves, 27-28', 'lat': -22.33628036822966, 'lng': -49.06626257178629, 'labeledLatLngs': [{'label': 'display', 'lat': -22.33628036822966, 'lng': -49.06626257178629}], 'postalCode': '17012-060', 'cc': 'BR', 'city': 'Bauru', 'state': 'SP', 'country': 'Brasil', 'formattedAddress': ['R. Antônio Alves, 27-28', 'Bauru, SP', '17012-060', 'Brasil']}\n",
            "{'address': 'R. Benjamin Constant, 1-34', 'lat': -22.32445056467674, 'lng': -49.06782299509416, 'labeledLatLngs': [{'label': 'display', 'lat': -22.32445056467674, 'lng': -49.06782299509416}], 'postalCode': '17015-370', 'cc': 'BR', 'city': 'Bauru', 'state': 'SP', 'country': 'Brasil', 'formattedAddress': ['R. Benjamin Constant, 1-34', 'Bauru, SP', '17015-370', 'Brasil']}\n",
            "{'address': 'R. Prof. Dr. José Ranieri', 'lat': -22.326503408191616, 'lng': -49.04295446993745, 'labeledLatLngs': [{'label': 'display', 'lat': -22.326503408191616, 'lng': -49.04295446993745}], 'cc': 'BR', 'city': 'Bauru', 'state': 'SP', 'country': 'Brasil', 'formattedAddress': ['R. Prof. Dr. José Ranieri', 'Bauru, SP', 'Brasil']}\n",
            "{'address': 'Otávio Pinheiro Brisola', 'lat': -22.341442, 'lng': -49.055949, 'labeledLatLngs': [{'label': 'display', 'lat': -22.341442, 'lng': -49.055949}], 'cc': 'BR', 'city': 'Bauru', 'state': 'SP', 'country': 'Brasil', 'formattedAddress': ['Otávio Pinheiro Brisola', 'Bauru, SP, SP', 'Brasil']}\n",
            "{'address': 'Av. Nossa Senhora de Fátima, 5-15', 'lat': -22.343467548695575, 'lng': -49.065793185516476, 'labeledLatLngs': [{'label': 'display', 'lat': -22.343467548695575, 'lng': -49.065793185516476}], 'cc': 'BR', 'city': 'Bauru', 'state': 'SP', 'country': 'Brasil', 'formattedAddress': ['Av. Nossa Senhora de Fátima, 5-15', 'Bauru, SP, SP', 'Brasil']}\n",
            "{'address': 'R. Nilo Peçanha, 11', 'lat': -22.32673510802182, 'lng': -49.09756224498337, 'labeledLatLngs': [{'label': 'display', 'lat': -22.32673510802182, 'lng': -49.09756224498337}], 'postalCode': '17051-130', 'cc': 'BR', 'city': 'Bauru', 'state': 'SP', 'country': 'Brasil', 'formattedAddress': ['R. Nilo Peçanha, 11', 'Bauru, SP', '17051-130', 'Brasil']}\n",
            "{'lat': -22.348428473030086, 'lng': -49.05382419071657, 'labeledLatLngs': [{'label': 'display', 'lat': -22.348428473030086, 'lng': -49.05382419071657}], 'cc': 'BR', 'country': 'Brasil', 'formattedAddress': ['Brasil']}\n",
            "{'address': 'R. Benedito Moreira Pinto, 20-02', 'lat': -22.33019540909651, 'lng': -49.0532576643798, 'labeledLatLngs': [{'label': 'display', 'lat': -22.33019540909651, 'lng': -49.0532576643798}], 'postalCode': '17011-110', 'cc': 'BR', 'city': 'Bauru', 'state': 'SP', 'country': 'Brasil', 'formattedAddress': ['R. Benedito Moreira Pinto, 20-02', 'Bauru, SP', '17011-110', 'Brasil']}\n",
            "{'address': 'Av. Duque de Caxias, 8-56', 'crossStreet': 'Antonio Alves', 'lat': -22.32908168378931, 'lng': -49.06847209024607, 'labeledLatLngs': [{'label': 'display', 'lat': -22.32908168378931, 'lng': -49.06847209024607}], 'postalCode': '17012-000', 'cc': 'BR', 'city': 'Bauru', 'state': 'SP', 'country': 'Brasil', 'formattedAddress': ['Av. Duque de Caxias, 8-56 (Antonio Alves)', 'Bauru, SP', '17012-000', 'Brasil']}\n",
            "{'address': 'Bauru Shopping', 'crossStreet': '2º Piso, Quiosque 06', 'lat': -22.341967259718395, 'lng': -49.04940548953373, 'labeledLatLngs': [{'label': 'display', 'lat': -22.341967259718395, 'lng': -49.04940548953373}], 'postalCode': '17011-900', 'cc': 'BR', 'city': 'Bauru', 'state': 'SP', 'country': 'Brasil', 'formattedAddress': ['Bauru Shopping (2º Piso, Quiosque 06)', 'Bauru, SP', '17011-900', 'Brasil']}\n",
            "{'address': 'Av. Getúlio Vargas, 17-54', 'lat': -22.347412, 'lng': -49.054977, 'labeledLatLngs': [{'label': 'display', 'lat': -22.347412, 'lng': -49.054977}], 'postalCode': '17017-383', 'cc': 'BR', 'city': 'Bauru', 'state': 'SP', 'country': 'Brasil', 'formattedAddress': ['Av. Getúlio Vargas, 17-54', 'Bauru, SP', '17017-383', 'Brasil']}\n",
            "{'address': 'Av. Getúlio Vargas, 23-98', 'lat': -22.354822829674585, 'lng': -49.048850827788, 'labeledLatLngs': [{'label': 'display', 'lat': -22.354822829674585, 'lng': -49.048850827788}], 'cc': 'BR', 'city': 'Bauru', 'state': 'SP', 'country': 'Brasil', 'formattedAddress': ['Av. Getúlio Vargas, 23-98', 'Bauru, SP', 'Brasil']}\n",
            "{'address': 'R. Constituição Qd 07', 'lat': -22.323730403385895, 'lng': -49.061990945344306, 'labeledLatLngs': [{'label': 'display', 'lat': -22.323730403385895, 'lng': -49.061990945344306}], 'cc': 'BR', 'city': 'Bauru', 'state': 'SP', 'country': 'Brasil', 'formattedAddress': ['R. Constituição Qd 07', 'Bauru, SP', 'Brasil']}\n",
            "{'address': 'Rua Antônio Alves, 32-86', 'lat': -22.338986581596636, 'lng': -49.06282032178344, 'labeledLatLngs': [{'label': 'display', 'lat': -22.338986581596636, 'lng': -49.06282032178344}], 'cc': 'BR', 'city': 'Bauru', 'state': 'SP', 'country': 'Brasil', 'formattedAddress': ['Rua Antônio Alves, 32-86', 'Bauru, SP, SP', 'Brasil']}\n",
            "{'address': 'Joaquim da Silva Marta 05-04', 'lat': -22.334188242361403, 'lng': -49.07817766542049, 'labeledLatLngs': [{'label': 'display', 'lat': -22.334188242361403, 'lng': -49.07817766542049}], 'cc': 'BR', 'country': 'Brasil', 'formattedAddress': ['Joaquim da Silva Marta 05-04', 'Brasil']}\n",
            "{'address': 'Av. Affonso José Aiello', 'lat': -22.368588660491575, 'lng': -49.05687598492359, 'labeledLatLngs': [{'label': 'display', 'lat': -22.368588660491575, 'lng': -49.05687598492359}], 'postalCode': '17018-520', 'cc': 'BR', 'city': 'Bauru', 'state': 'SP', 'country': 'Brasil', 'formattedAddress': ['Av. Affonso José Aiello', 'Bauru, SP', '17018-520', 'Brasil']}\n",
            "{'address': 'Rua Alfredo Fontão 8-11', 'crossStreet': 'Av. N. Sra. de Fátima', 'lat': -22.344769105970418, 'lng': -49.0631372054267, 'labeledLatLngs': [{'label': 'display', 'lat': -22.344769105970418, 'lng': -49.0631372054267}], 'postalCode': '17017-240', 'cc': 'BR', 'city': 'Bauru', 'state': 'SP', 'country': 'Brasil', 'formattedAddress': ['Rua Alfredo Fontão 8-11 (Av. N. Sra. de Fátima)', 'Bauru, SP', '17017-240', 'Brasil']}\n",
            "{'address': 'R. Cussy Junior, 3', 'lat': -22.326501185041543, 'lng': -49.078461122568775, 'labeledLatLngs': [{'label': 'display', 'lat': -22.326501185041543, 'lng': -49.078461122568775}], 'postalCode': '17015-120', 'cc': 'BR', 'city': 'Bauru', 'state': 'SP', 'country': 'Brasil', 'formattedAddress': ['R. Cussy Junior, 3', 'Bauru, SP', '17015-120', 'Brasil']}\n",
            "{'address': 'Boulevard Shopping Nações', 'crossStreet': 'Quiosque 304', 'lat': -22.315927771873877, 'lng': -49.06636751432487, 'labeledLatLngs': [{'label': 'display', 'lat': -22.315927771873877, 'lng': -49.06636751432487}], 'postalCode': '17013-113', 'cc': 'BR', 'city': 'Bauru', 'state': 'SP', 'country': 'Brasil', 'formattedAddress': ['Boulevard Shopping Nações (Quiosque 304)', 'Bauru, SP', '17013-113', 'Brasil']}\n",
            "{'address': 'Al Octavio Pinheiro Brisolla, 19-100', 'lat': -22.343650253763375, 'lng': -49.053981201959196, 'labeledLatLngs': [{'label': 'display', 'lat': -22.343650253763375, 'lng': -49.053981201959196}], 'cc': 'BR', 'city': 'Bauru', 'state': 'SP', 'country': 'Brasil', 'formattedAddress': ['Al Octavio Pinheiro Brisolla, 19-100', 'Bauru, SP', 'Brasil']}\n",
            "{'address': 'R. Bernardino de Campos', 'lat': -22.333731151819617, 'lng': -49.094014929498826, 'labeledLatLngs': [{'label': 'display', 'lat': -22.333731151819617, 'lng': -49.094014929498826}], 'cc': 'BR', 'city': 'Bauru', 'state': 'SP', 'country': 'Brasil', 'formattedAddress': ['R. Bernardino de Campos', 'Bauru, SP', 'Brasil']}\n",
            "{'lat': -22.33870869484611, 'lng': -49.06132216685819, 'labeledLatLngs': [{'label': 'display', 'lat': -22.33870869484611, 'lng': -49.06132216685819}], 'cc': 'BR', 'country': 'Brasil', 'formattedAddress': ['Brasil']}\n",
            "{'address': 'R. Luiz Bleriot, 8-33', 'crossStreet': 'Av. Nossa Senhora de Fátima', 'lat': -22.35284925656565, 'lng': -49.051931002965546, 'labeledLatLngs': [{'label': 'display', 'lat': -22.35284925656565, 'lng': -49.051931002965546}], 'postalCode': '17018-750', 'cc': 'BR', 'city': 'Bauru', 'state': 'SP', 'country': 'Brasil', 'formattedAddress': ['R. Luiz Bleriot, 8-33 (Av. Nossa Senhora de Fátima)', 'Bauru, SP', '17018-750', 'Brasil']}\n",
            "{'address': 'R. Luiz Levorato, 2-61', 'lat': -22.370358383199626, 'lng': -49.032405029438856, 'labeledLatLngs': [{'label': 'display', 'lat': -22.370358383199626, 'lng': -49.032405029438856}], 'postalCode': '17010-230', 'cc': 'BR', 'city': 'Bauru', 'state': 'SP', 'country': 'Brasil', 'formattedAddress': ['R. Luiz Levorato, 2-61', 'Bauru, SP', '17010-230', 'Brasil']}\n",
            "{'lat': -22.348075531443218, 'lng': -49.03279420165467, 'labeledLatLngs': [{'label': 'display', 'lat': -22.348075531443218, 'lng': -49.03279420165467}], 'cc': 'BR', 'city': 'Bauru', 'state': 'SP', 'country': 'Brasil', 'formattedAddress': ['Bauru, SP', 'Brasil']}\n",
            "{'lat': -22.33668189261099, 'lng': -49.06584737445203, 'labeledLatLngs': [{'label': 'display', 'lat': -22.33668189261099, 'lng': -49.06584737445203}], 'cc': 'BR', 'country': 'Brasil', 'formattedAddress': ['Brasil']}\n",
            "{'address': 'Praça dos Trovadores', 'lat': -22.352222891335916, 'lng': -49.05113686269613, 'labeledLatLngs': [{'label': 'display', 'lat': -22.352222891335916, 'lng': -49.05113686269613}], 'cc': 'BR', 'city': 'Bauru', 'state': 'SP', 'country': 'Brasil', 'formattedAddress': ['Praça dos Trovadores', 'Bauru, SP', 'Brasil']}\n",
            "{'address': 'Av Getulio Vargas', 'lat': -22.34280248891163, 'lng': -49.05949523235122, 'labeledLatLngs': [{'label': 'display', 'lat': -22.34280248891163, 'lng': -49.05949523235122}], 'cc': 'BR', 'city': 'Bauru', 'state': 'SP', 'country': 'Brasil', 'formattedAddress': ['Av Getulio Vargas', 'Bauru, SP', 'Brasil']}\n",
            "{'address': 'Av. Odilon Braga 2-12', 'crossStreet': 'Av. Getúlio Vargas', 'lat': -22.349738615148215, 'lng': -49.051144681481794, 'labeledLatLngs': [{'label': 'display', 'lat': -22.349738615148215, 'lng': -49.051144681481794}], 'cc': 'BR', 'city': 'Bauru', 'state': 'SP', 'country': 'Brasil', 'formattedAddress': ['Av. Odilon Braga 2-12 (Av. Getúlio Vargas)', 'Bauru, SP', 'Brasil']}\n",
            "{'address': 'Rua Antonio Dos Reis Q12', 'lat': -22.330161792775588, 'lng': -49.05807712382865, 'labeledLatLngs': [{'label': 'display', 'lat': -22.330161792775588, 'lng': -49.05807712382865}], 'cc': 'BR', 'city': 'Bauru', 'state': 'SP', 'country': 'Brasil', 'formattedAddress': ['Rua Antonio Dos Reis Q12', 'Bauru, SP', 'Brasil']}\n",
            "{'address': 'R. Monsenhor Claro, 12-72', 'crossStreet': 'R. Capitão Gomes Duarte', 'lat': -22.33431936805146, 'lng': -49.07516631933815, 'labeledLatLngs': [{'label': 'display', 'lat': -22.33431936805146, 'lng': -49.07516631933815}], 'cc': 'BR', 'city': 'Bauru', 'state': 'SP', 'country': 'Brasil', 'formattedAddress': ['R. Monsenhor Claro, 12-72 (R. Capitão Gomes Duarte)', 'Bauru, SP', 'Brasil']}\n",
            "{'address': 'Antônio Alves', 'lat': -22.337579015775713, 'lng': -49.06453812401803, 'labeledLatLngs': [{'label': 'display', 'lat': -22.337579015775713, 'lng': -49.06453812401803}], 'cc': 'BR', 'country': 'Brasil', 'formattedAddress': ['Antônio Alves', 'Brasil']}\n",
            "{'address': 'R. Luiz Levorato, 2-140', 'lat': -22.370384180275366, 'lng': -49.03171944711336, 'labeledLatLngs': [{'label': 'display', 'lat': -22.370384180275366, 'lng': -49.03171944711336}], 'postalCode': 'Brasil', 'cc': 'BR', 'city': 'Bauru', 'state': 'SP', 'country': 'Brasil', 'formattedAddress': ['R. Luiz Levorato, 2-140', 'Bauru, SP', 'Brasil', 'Brasil']}\n",
            "{'address': 'Alameda Quality Center', 'lat': -22.370671350396268, 'lng': -49.03650495039735, 'labeledLatLngs': [{'label': 'display', 'lat': -22.370671350396268, 'lng': -49.03650495039735}], 'postalCode': '17048-290', 'cc': 'BR', 'city': 'Bauru', 'state': 'SP', 'country': 'Brasil', 'formattedAddress': ['Alameda Quality Center', 'Bauru, SP', '17048-290', 'Brasil']}\n",
            "{'address': 'Rua Luiz Levorato, 2-140', 'lat': -22.370368253592012, 'lng': -49.03208854626301, 'labeledLatLngs': [{'label': 'display', 'lat': -22.370368253592012, 'lng': -49.03208854626301}], 'postalCode': 'Brasil', 'cc': 'BR', 'city': 'Bauru', 'state': 'SP', 'country': 'Brasil', 'formattedAddress': ['Rua Luiz Levorato, 2-140', 'Bauru, SP', 'Brasil', 'Brasil']}\n",
            "{'address': 'R. Luiz Levorato, Bauru - São Paulo, 17048-290', 'lat': -22.370440444286245, 'lng': -49.03207873443307, 'labeledLatLngs': [{'label': 'display', 'lat': -22.370440444286245, 'lng': -49.03207873443307}], 'postalCode': '17048-290', 'cc': 'BR', 'city': 'Bauru', 'state': 'SP', 'country': 'Brasil', 'formattedAddress': ['R. Luiz Levorato, Bauru - São Paulo, 17048-290', 'Bauru, SP', '17048-290', 'Brasil']}\n",
            "{'lat': -22.34943522978179, 'lng': -49.033499496501236, 'labeledLatLngs': [{'label': 'display', 'lat': -22.34943522978179, 'lng': -49.033499496501236}], 'cc': 'BR', 'city': 'Bauru', 'state': 'SP', 'country': 'Brasil', 'formattedAddress': ['Bauru, SP', 'Brasil']}\n",
            "{'lat': -22.35850843224766, 'lng': -49.03729254036045, 'labeledLatLngs': [{'label': 'display', 'lat': -22.35850843224766, 'lng': -49.03729254036045}], 'cc': 'BR', 'city': 'Bauru', 'state': 'SP', 'country': 'Brasil', 'formattedAddress': ['Bauru, SP', 'Brasil']}\n",
            "found 21 restaurants\n"
          ],
          "name": "stdout"
        },
        {
          "output_type": "execute_result",
          "data": {
            "text/html": [
              "<div>\n",
              "<style scoped>\n",
              "    .dataframe tbody tr th:only-of-type {\n",
              "        vertical-align: middle;\n",
              "    }\n",
              "\n",
              "    .dataframe tbody tr th {\n",
              "        vertical-align: top;\n",
              "    }\n",
              "\n",
              "    .dataframe thead th {\n",
              "        text-align: right;\n",
              "    }\n",
              "</style>\n",
              "<table border=\"1\" class=\"dataframe\">\n",
              "  <thead>\n",
              "    <tr style=\"text-align: right;\">\n",
              "      <th></th>\n",
              "      <th>uid</th>\n",
              "      <th>name</th>\n",
              "      <th>shortname</th>\n",
              "      <th>address</th>\n",
              "      <th>postalcode</th>\n",
              "      <th>lat</th>\n",
              "      <th>lng</th>\n",
              "    </tr>\n",
              "  </thead>\n",
              "  <tbody>\n",
              "    <tr>\n",
              "      <th>0</th>\n",
              "      <td>4c40d6b1d691c9b615d58b0a</td>\n",
              "      <td>Bar do Brecha</td>\n",
              "      <td>Bar</td>\n",
              "      <td></td>\n",
              "      <td>17013-300</td>\n",
              "      <td>-22.320818</td>\n",
              "      <td>-49.061098</td>\n",
              "    </tr>\n",
              "    <tr>\n",
              "      <th>1</th>\n",
              "      <td>4ce095e6df986ea85d71e816</td>\n",
              "      <td>Armazén Bar</td>\n",
              "      <td>Rock Club</td>\n",
              "      <td></td>\n",
              "      <td>17017-290</td>\n",
              "      <td>-22.327265</td>\n",
              "      <td>-49.080345</td>\n",
              "    </tr>\n",
              "    <tr>\n",
              "      <th>2</th>\n",
              "      <td>4d680dc68f70a09368731a35</td>\n",
              "      <td>Bar da Rosa</td>\n",
              "      <td>Bar</td>\n",
              "      <td></td>\n",
              "      <td>17012-170</td>\n",
              "      <td>-22.328441</td>\n",
              "      <td>-49.063031</td>\n",
              "    </tr>\n",
              "    <tr>\n",
              "      <th>3</th>\n",
              "      <td>520050da498e7ac981f1f51f</td>\n",
              "      <td>Quiosque Chopp Brahma</td>\n",
              "      <td>Brewery</td>\n",
              "      <td></td>\n",
              "      <td>17013-113</td>\n",
              "      <td>-22.316145</td>\n",
              "      <td>-49.066066</td>\n",
              "    </tr>\n",
              "    <tr>\n",
              "      <th>4</th>\n",
              "      <td>51548e26e4b044d18bda1f6f</td>\n",
              "      <td>SAMPA 27-28</td>\n",
              "      <td>Bar</td>\n",
              "      <td></td>\n",
              "      <td>17012-060</td>\n",
              "      <td>-22.336280</td>\n",
              "      <td>-49.066263</td>\n",
              "    </tr>\n",
              "  </tbody>\n",
              "</table>\n",
              "</div>"
            ],
            "text/plain": [
              "                        uid                   name  ...        lat        lng\n",
              "0  4c40d6b1d691c9b615d58b0a          Bar do Brecha  ... -22.320818 -49.061098\n",
              "1  4ce095e6df986ea85d71e816            Armazén Bar  ... -22.327265 -49.080345\n",
              "2  4d680dc68f70a09368731a35            Bar da Rosa  ... -22.328441 -49.063031\n",
              "3  520050da498e7ac981f1f51f  Quiosque Chopp Brahma  ... -22.316145 -49.066066\n",
              "4  51548e26e4b044d18bda1f6f            SAMPA 27-28  ... -22.336280 -49.066263\n",
              "\n",
              "[5 rows x 7 columns]"
            ]
          },
          "metadata": {
            "tags": []
          },
          "execution_count": 11
        }
      ]
    },
    {
      "cell_type": "code",
      "metadata": {
        "colab": {
          "base_uri": "https://localhost:8080/"
        },
        "id": "aT-QfuOCBzgr",
        "outputId": "39d7b29d-053f-4b95-ebc1-b2b8586ff369"
      },
      "source": [
        "bauru_center = d[\"geocode\"][\"center\"]\n",
        "bauru_center"
      ],
      "execution_count": 12,
      "outputs": [
        {
          "output_type": "execute_result",
          "data": {
            "text/plain": [
              "{'lat': -22.31472, 'lng': -49.06056}"
            ]
          },
          "metadata": {
            "tags": []
          },
          "execution_count": 12
        }
      ]
    },
    {
      "cell_type": "code",
      "metadata": {
        "colab": {
          "base_uri": "https://localhost:8080/",
          "height": 854
        },
        "id": "IjaCeezAB2nM",
        "outputId": "04c10e6a-2850-475e-fa3b-02dd63958847"
      },
      "source": [
        "from folium import plugins\n",
        "\n",
        "\n",
        "map_Bauru = folium.Map(location=[-22.31472, -49.06056], zoom_start=14)\n",
        "\n",
        "def add_markers(df):\n",
        "    for (j, row) in df.iterrows():\n",
        "        label = folium.Popup(row[\"name\"], parse_html=True)\n",
        "        folium.CircleMarker(\n",
        "            [row[\"lat\"], row[\"lng\"]],\n",
        "            radius=5,\n",
        "            popup=label,\n",
        "            color='red',\n",
        "            fill=True,\n",
        "            fill_color='#3186cc',\n",
        "            fill_opacity=0.7,\n",
        "            parse_html=False).add_to(map_Bauru)\n",
        "\n",
        "add_markers(df)\n",
        "hm_data = df[[\"lat\", \"lng\"]].to_numpy().tolist()\n",
        "map_Bauru.add_child(plugins.HeatMap(hm_data))\n",
        "\n",
        "map_Bauru"
      ],
      "execution_count": 13,
      "outputs": [
        {
          "output_type": "execute_result",
          "data": {
            "text/html": [
              "<div style=\"width:100%;\"><div style=\"position:relative;width:100%;height:0;padding-bottom:60%;\"><span style=\"color:#565656\">Make this Notebook Trusted to load map: File -> Trust Notebook</span><iframe src=\"about:blank\" style=\"position:absolute;width:100%;height:100%;left:0;top:0;border:none !important;\" data-html=%3C%21DOCTYPE%20html%3E%0A%3Chead%3E%20%20%20%20%0A%20%20%20%20%3Cmeta%20http-equiv%3D%22content-type%22%20content%3D%22text/html%3B%20charset%3DUTF-8%22%20/%3E%0A%20%20%20%20%3Cscript%3EL_PREFER_CANVAS%3Dfalse%3B%20L_NO_TOUCH%3Dfalse%3B%20L_DISABLE_3D%3Dfalse%3B%3C/script%3E%0A%20%20%20%20%3Cscript%20src%3D%22https%3A//cdn.jsdelivr.net/npm/leaflet%401.4.0/dist/leaflet.js%22%3E%3C/script%3E%0A%20%20%20%20%3Cscript%20src%3D%22https%3A//code.jquery.com/jquery-1.12.4.min.js%22%3E%3C/script%3E%0A%20%20%20%20%3Cscript%20src%3D%22https%3A//maxcdn.bootstrapcdn.com/bootstrap/3.2.0/js/bootstrap.min.js%22%3E%3C/script%3E%0A%20%20%20%20%3Cscript%20src%3D%22https%3A//cdnjs.cloudflare.com/ajax/libs/Leaflet.awesome-markers/2.0.2/leaflet.awesome-markers.js%22%3E%3C/script%3E%0A%20%20%20%20%3Clink%20rel%3D%22stylesheet%22%20href%3D%22https%3A//cdn.jsdelivr.net/npm/leaflet%401.4.0/dist/leaflet.css%22/%3E%0A%20%20%20%20%3Clink%20rel%3D%22stylesheet%22%20href%3D%22https%3A//maxcdn.bootstrapcdn.com/bootstrap/3.2.0/css/bootstrap.min.css%22/%3E%0A%20%20%20%20%3Clink%20rel%3D%22stylesheet%22%20href%3D%22https%3A//maxcdn.bootstrapcdn.com/bootstrap/3.2.0/css/bootstrap-theme.min.css%22/%3E%0A%20%20%20%20%3Clink%20rel%3D%22stylesheet%22%20href%3D%22https%3A//maxcdn.bootstrapcdn.com/font-awesome/4.6.3/css/font-awesome.min.css%22/%3E%0A%20%20%20%20%3Clink%20rel%3D%22stylesheet%22%20href%3D%22https%3A//cdnjs.cloudflare.com/ajax/libs/Leaflet.awesome-markers/2.0.2/leaflet.awesome-markers.css%22/%3E%0A%20%20%20%20%3Clink%20rel%3D%22stylesheet%22%20href%3D%22https%3A//rawcdn.githack.com/python-visualization/folium/master/folium/templates/leaflet.awesome.rotate.css%22/%3E%0A%20%20%20%20%3Cstyle%3Ehtml%2C%20body%20%7Bwidth%3A%20100%25%3Bheight%3A%20100%25%3Bmargin%3A%200%3Bpadding%3A%200%3B%7D%3C/style%3E%0A%20%20%20%20%3Cstyle%3E%23map%20%7Bposition%3Aabsolute%3Btop%3A0%3Bbottom%3A0%3Bright%3A0%3Bleft%3A0%3B%7D%3C/style%3E%0A%20%20%20%20%0A%20%20%20%20%3Cmeta%20name%3D%22viewport%22%20content%3D%22width%3Ddevice-width%2C%0A%20%20%20%20%20%20%20%20initial-scale%3D1.0%2C%20maximum-scale%3D1.0%2C%20user-scalable%3Dno%22%20/%3E%0A%20%20%20%20%3Cstyle%3E%23map_9fd153ca0f114a97b68141f12bbae1a1%20%7B%0A%20%20%20%20%20%20%20%20position%3A%20relative%3B%0A%20%20%20%20%20%20%20%20width%3A%20100.0%25%3B%0A%20%20%20%20%20%20%20%20height%3A%20100.0%25%3B%0A%20%20%20%20%20%20%20%20left%3A%200.0%25%3B%0A%20%20%20%20%20%20%20%20top%3A%200.0%25%3B%0A%20%20%20%20%20%20%20%20%7D%0A%20%20%20%20%3C/style%3E%0A%20%20%20%20%3Cscript%20src%3D%22https%3A//leaflet.github.io/Leaflet.heat/dist/leaflet-heat.js%22%3E%3C/script%3E%0A%3C/head%3E%0A%3Cbody%3E%20%20%20%20%0A%20%20%20%20%0A%20%20%20%20%3Cdiv%20class%3D%22folium-map%22%20id%3D%22map_9fd153ca0f114a97b68141f12bbae1a1%22%20%3E%3C/div%3E%0A%3C/body%3E%0A%3Cscript%3E%20%20%20%20%0A%20%20%20%20%0A%20%20%20%20%0A%20%20%20%20%20%20%20%20var%20bounds%20%3D%20null%3B%0A%20%20%20%20%0A%0A%20%20%20%20var%20map_9fd153ca0f114a97b68141f12bbae1a1%20%3D%20L.map%28%0A%20%20%20%20%20%20%20%20%27map_9fd153ca0f114a97b68141f12bbae1a1%27%2C%20%7B%0A%20%20%20%20%20%20%20%20center%3A%20%5B-22.31472%2C%20-49.06056%5D%2C%0A%20%20%20%20%20%20%20%20zoom%3A%2014%2C%0A%20%20%20%20%20%20%20%20maxBounds%3A%20bounds%2C%0A%20%20%20%20%20%20%20%20layers%3A%20%5B%5D%2C%0A%20%20%20%20%20%20%20%20worldCopyJump%3A%20false%2C%0A%20%20%20%20%20%20%20%20crs%3A%20L.CRS.EPSG3857%2C%0A%20%20%20%20%20%20%20%20zoomControl%3A%20true%2C%0A%20%20%20%20%20%20%20%20%7D%29%3B%0A%0A%0A%20%20%20%20%0A%20%20%20%20var%20tile_layer_2e74bf193a4a414989dfb053c04e19b4%20%3D%20L.tileLayer%28%0A%20%20%20%20%20%20%20%20%27https%3A//%7Bs%7D.tile.openstreetmap.org/%7Bz%7D/%7Bx%7D/%7By%7D.png%27%2C%0A%20%20%20%20%20%20%20%20%7B%0A%20%20%20%20%20%20%20%20%22attribution%22%3A%20null%2C%0A%20%20%20%20%20%20%20%20%22detectRetina%22%3A%20false%2C%0A%20%20%20%20%20%20%20%20%22maxNativeZoom%22%3A%2018%2C%0A%20%20%20%20%20%20%20%20%22maxZoom%22%3A%2018%2C%0A%20%20%20%20%20%20%20%20%22minZoom%22%3A%200%2C%0A%20%20%20%20%20%20%20%20%22noWrap%22%3A%20false%2C%0A%20%20%20%20%20%20%20%20%22opacity%22%3A%201%2C%0A%20%20%20%20%20%20%20%20%22subdomains%22%3A%20%22abc%22%2C%0A%20%20%20%20%20%20%20%20%22tms%22%3A%20false%0A%7D%29.addTo%28map_9fd153ca0f114a97b68141f12bbae1a1%29%3B%0A%20%20%20%20%0A%20%20%20%20%20%20%20%20%20%20%20%20var%20circle_marker_0c923f77fb3b4b3caf7ddaa16ce7facf%20%3D%20L.circleMarker%28%0A%20%20%20%20%20%20%20%20%20%20%20%20%20%20%20%20%5B-22.32081804942013%2C%20-49.06109806793662%5D%2C%0A%20%20%20%20%20%20%20%20%20%20%20%20%20%20%20%20%7B%0A%20%20%22bubblingMouseEvents%22%3A%20true%2C%0A%20%20%22color%22%3A%20%22red%22%2C%0A%20%20%22dashArray%22%3A%20null%2C%0A%20%20%22dashOffset%22%3A%20null%2C%0A%20%20%22fill%22%3A%20true%2C%0A%20%20%22fillColor%22%3A%20%22%233186cc%22%2C%0A%20%20%22fillOpacity%22%3A%200.7%2C%0A%20%20%22fillRule%22%3A%20%22evenodd%22%2C%0A%20%20%22lineCap%22%3A%20%22round%22%2C%0A%20%20%22lineJoin%22%3A%20%22round%22%2C%0A%20%20%22opacity%22%3A%201.0%2C%0A%20%20%22radius%22%3A%205%2C%0A%20%20%22stroke%22%3A%20true%2C%0A%20%20%22weight%22%3A%203%0A%7D%0A%20%20%20%20%20%20%20%20%20%20%20%20%20%20%20%20%29%0A%20%20%20%20%20%20%20%20%20%20%20%20%20%20%20%20.addTo%28map_9fd153ca0f114a97b68141f12bbae1a1%29%3B%0A%20%20%20%20%20%20%20%20%20%20%20%20%0A%20%20%20%20%0A%20%20%20%20%20%20%20%20%20%20%20%20var%20popup_53b8a04561a249adabd8be2af22cae50%20%3D%20L.popup%28%7BmaxWidth%3A%20%27100%25%27%0A%20%20%20%20%20%20%20%20%20%20%20%20%0A%20%20%20%20%20%20%20%20%20%20%20%20%7D%29%3B%0A%0A%20%20%20%20%20%20%20%20%20%20%20%20%0A%20%20%20%20%20%20%20%20%20%20%20%20%20%20%20%20var%20html_6f2c6190714d421baee562b25252674f%20%3D%20%24%28%60%3Cdiv%20id%3D%22html_6f2c6190714d421baee562b25252674f%22%20style%3D%22width%3A%20100.0%25%3B%20height%3A%20100.0%25%3B%22%3EBar%20do%20Brecha%3C/div%3E%60%29%5B0%5D%3B%0A%20%20%20%20%20%20%20%20%20%20%20%20%20%20%20%20popup_53b8a04561a249adabd8be2af22cae50.setContent%28html_6f2c6190714d421baee562b25252674f%29%3B%0A%20%20%20%20%20%20%20%20%20%20%20%20%0A%0A%20%20%20%20%20%20%20%20%20%20%20%20circle_marker_0c923f77fb3b4b3caf7ddaa16ce7facf.bindPopup%28popup_53b8a04561a249adabd8be2af22cae50%29%0A%20%20%20%20%20%20%20%20%20%20%20%20%3B%0A%0A%20%20%20%20%20%20%20%20%20%20%20%20%0A%20%20%20%20%20%20%20%20%0A%20%20%20%20%0A%20%20%20%20%20%20%20%20%20%20%20%20var%20circle_marker_7a5b7d881caf4abe9917f576263377bc%20%3D%20L.circleMarker%28%0A%20%20%20%20%20%20%20%20%20%20%20%20%20%20%20%20%5B-22.327265281788748%2C%20-49.08034527551882%5D%2C%0A%20%20%20%20%20%20%20%20%20%20%20%20%20%20%20%20%7B%0A%20%20%22bubblingMouseEvents%22%3A%20true%2C%0A%20%20%22color%22%3A%20%22red%22%2C%0A%20%20%22dashArray%22%3A%20null%2C%0A%20%20%22dashOffset%22%3A%20null%2C%0A%20%20%22fill%22%3A%20true%2C%0A%20%20%22fillColor%22%3A%20%22%233186cc%22%2C%0A%20%20%22fillOpacity%22%3A%200.7%2C%0A%20%20%22fillRule%22%3A%20%22evenodd%22%2C%0A%20%20%22lineCap%22%3A%20%22round%22%2C%0A%20%20%22lineJoin%22%3A%20%22round%22%2C%0A%20%20%22opacity%22%3A%201.0%2C%0A%20%20%22radius%22%3A%205%2C%0A%20%20%22stroke%22%3A%20true%2C%0A%20%20%22weight%22%3A%203%0A%7D%0A%20%20%20%20%20%20%20%20%20%20%20%20%20%20%20%20%29%0A%20%20%20%20%20%20%20%20%20%20%20%20%20%20%20%20.addTo%28map_9fd153ca0f114a97b68141f12bbae1a1%29%3B%0A%20%20%20%20%20%20%20%20%20%20%20%20%0A%20%20%20%20%0A%20%20%20%20%20%20%20%20%20%20%20%20var%20popup_455419016bf94769a1e4177d0a02b196%20%3D%20L.popup%28%7BmaxWidth%3A%20%27100%25%27%0A%20%20%20%20%20%20%20%20%20%20%20%20%0A%20%20%20%20%20%20%20%20%20%20%20%20%7D%29%3B%0A%0A%20%20%20%20%20%20%20%20%20%20%20%20%0A%20%20%20%20%20%20%20%20%20%20%20%20%20%20%20%20var%20html_2dd66bb58fe64feeb3ae4ea1917cd6f3%20%3D%20%24%28%60%3Cdiv%20id%3D%22html_2dd66bb58fe64feeb3ae4ea1917cd6f3%22%20style%3D%22width%3A%20100.0%25%3B%20height%3A%20100.0%25%3B%22%3EArmaz%C3%A9n%20Bar%3C/div%3E%60%29%5B0%5D%3B%0A%20%20%20%20%20%20%20%20%20%20%20%20%20%20%20%20popup_455419016bf94769a1e4177d0a02b196.setContent%28html_2dd66bb58fe64feeb3ae4ea1917cd6f3%29%3B%0A%20%20%20%20%20%20%20%20%20%20%20%20%0A%0A%20%20%20%20%20%20%20%20%20%20%20%20circle_marker_7a5b7d881caf4abe9917f576263377bc.bindPopup%28popup_455419016bf94769a1e4177d0a02b196%29%0A%20%20%20%20%20%20%20%20%20%20%20%20%3B%0A%0A%20%20%20%20%20%20%20%20%20%20%20%20%0A%20%20%20%20%20%20%20%20%0A%20%20%20%20%0A%20%20%20%20%20%20%20%20%20%20%20%20var%20circle_marker_5c0b587f1a8c41b384621901718b8a40%20%3D%20L.circleMarker%28%0A%20%20%20%20%20%20%20%20%20%20%20%20%20%20%20%20%5B-22.32844063301152%2C%20-49.063031272747274%5D%2C%0A%20%20%20%20%20%20%20%20%20%20%20%20%20%20%20%20%7B%0A%20%20%22bubblingMouseEvents%22%3A%20true%2C%0A%20%20%22color%22%3A%20%22red%22%2C%0A%20%20%22dashArray%22%3A%20null%2C%0A%20%20%22dashOffset%22%3A%20null%2C%0A%20%20%22fill%22%3A%20true%2C%0A%20%20%22fillColor%22%3A%20%22%233186cc%22%2C%0A%20%20%22fillOpacity%22%3A%200.7%2C%0A%20%20%22fillRule%22%3A%20%22evenodd%22%2C%0A%20%20%22lineCap%22%3A%20%22round%22%2C%0A%20%20%22lineJoin%22%3A%20%22round%22%2C%0A%20%20%22opacity%22%3A%201.0%2C%0A%20%20%22radius%22%3A%205%2C%0A%20%20%22stroke%22%3A%20true%2C%0A%20%20%22weight%22%3A%203%0A%7D%0A%20%20%20%20%20%20%20%20%20%20%20%20%20%20%20%20%29%0A%20%20%20%20%20%20%20%20%20%20%20%20%20%20%20%20.addTo%28map_9fd153ca0f114a97b68141f12bbae1a1%29%3B%0A%20%20%20%20%20%20%20%20%20%20%20%20%0A%20%20%20%20%0A%20%20%20%20%20%20%20%20%20%20%20%20var%20popup_769bac5eee314cb69d3389f70129a8e9%20%3D%20L.popup%28%7BmaxWidth%3A%20%27100%25%27%0A%20%20%20%20%20%20%20%20%20%20%20%20%0A%20%20%20%20%20%20%20%20%20%20%20%20%7D%29%3B%0A%0A%20%20%20%20%20%20%20%20%20%20%20%20%0A%20%20%20%20%20%20%20%20%20%20%20%20%20%20%20%20var%20html_40ef1485d8a247e19198342bb01cb87b%20%3D%20%24%28%60%3Cdiv%20id%3D%22html_40ef1485d8a247e19198342bb01cb87b%22%20style%3D%22width%3A%20100.0%25%3B%20height%3A%20100.0%25%3B%22%3EBar%20da%20Rosa%3C/div%3E%60%29%5B0%5D%3B%0A%20%20%20%20%20%20%20%20%20%20%20%20%20%20%20%20popup_769bac5eee314cb69d3389f70129a8e9.setContent%28html_40ef1485d8a247e19198342bb01cb87b%29%3B%0A%20%20%20%20%20%20%20%20%20%20%20%20%0A%0A%20%20%20%20%20%20%20%20%20%20%20%20circle_marker_5c0b587f1a8c41b384621901718b8a40.bindPopup%28popup_769bac5eee314cb69d3389f70129a8e9%29%0A%20%20%20%20%20%20%20%20%20%20%20%20%3B%0A%0A%20%20%20%20%20%20%20%20%20%20%20%20%0A%20%20%20%20%20%20%20%20%0A%20%20%20%20%0A%20%20%20%20%20%20%20%20%20%20%20%20var%20circle_marker_b891f13214644ae4ac33c23655331044%20%3D%20L.circleMarker%28%0A%20%20%20%20%20%20%20%20%20%20%20%20%20%20%20%20%5B-22.316144880180996%2C%20-49.06606631866441%5D%2C%0A%20%20%20%20%20%20%20%20%20%20%20%20%20%20%20%20%7B%0A%20%20%22bubblingMouseEvents%22%3A%20true%2C%0A%20%20%22color%22%3A%20%22red%22%2C%0A%20%20%22dashArray%22%3A%20null%2C%0A%20%20%22dashOffset%22%3A%20null%2C%0A%20%20%22fill%22%3A%20true%2C%0A%20%20%22fillColor%22%3A%20%22%233186cc%22%2C%0A%20%20%22fillOpacity%22%3A%200.7%2C%0A%20%20%22fillRule%22%3A%20%22evenodd%22%2C%0A%20%20%22lineCap%22%3A%20%22round%22%2C%0A%20%20%22lineJoin%22%3A%20%22round%22%2C%0A%20%20%22opacity%22%3A%201.0%2C%0A%20%20%22radius%22%3A%205%2C%0A%20%20%22stroke%22%3A%20true%2C%0A%20%20%22weight%22%3A%203%0A%7D%0A%20%20%20%20%20%20%20%20%20%20%20%20%20%20%20%20%29%0A%20%20%20%20%20%20%20%20%20%20%20%20%20%20%20%20.addTo%28map_9fd153ca0f114a97b68141f12bbae1a1%29%3B%0A%20%20%20%20%20%20%20%20%20%20%20%20%0A%20%20%20%20%0A%20%20%20%20%20%20%20%20%20%20%20%20var%20popup_23b6189f1c764db0ad5bd5008d97c6ff%20%3D%20L.popup%28%7BmaxWidth%3A%20%27100%25%27%0A%20%20%20%20%20%20%20%20%20%20%20%20%0A%20%20%20%20%20%20%20%20%20%20%20%20%7D%29%3B%0A%0A%20%20%20%20%20%20%20%20%20%20%20%20%0A%20%20%20%20%20%20%20%20%20%20%20%20%20%20%20%20var%20html_7e919866bdaf45aaaea1718b0d3f79b1%20%3D%20%24%28%60%3Cdiv%20id%3D%22html_7e919866bdaf45aaaea1718b0d3f79b1%22%20style%3D%22width%3A%20100.0%25%3B%20height%3A%20100.0%25%3B%22%3EQuiosque%20Chopp%20Brahma%3C/div%3E%60%29%5B0%5D%3B%0A%20%20%20%20%20%20%20%20%20%20%20%20%20%20%20%20popup_23b6189f1c764db0ad5bd5008d97c6ff.setContent%28html_7e919866bdaf45aaaea1718b0d3f79b1%29%3B%0A%20%20%20%20%20%20%20%20%20%20%20%20%0A%0A%20%20%20%20%20%20%20%20%20%20%20%20circle_marker_b891f13214644ae4ac33c23655331044.bindPopup%28popup_23b6189f1c764db0ad5bd5008d97c6ff%29%0A%20%20%20%20%20%20%20%20%20%20%20%20%3B%0A%0A%20%20%20%20%20%20%20%20%20%20%20%20%0A%20%20%20%20%20%20%20%20%0A%20%20%20%20%0A%20%20%20%20%20%20%20%20%20%20%20%20var%20circle_marker_c8b43e891409408ea9594262fa9ee9c0%20%3D%20L.circleMarker%28%0A%20%20%20%20%20%20%20%20%20%20%20%20%20%20%20%20%5B-22.33628036822966%2C%20-49.06626257178629%5D%2C%0A%20%20%20%20%20%20%20%20%20%20%20%20%20%20%20%20%7B%0A%20%20%22bubblingMouseEvents%22%3A%20true%2C%0A%20%20%22color%22%3A%20%22red%22%2C%0A%20%20%22dashArray%22%3A%20null%2C%0A%20%20%22dashOffset%22%3A%20null%2C%0A%20%20%22fill%22%3A%20true%2C%0A%20%20%22fillColor%22%3A%20%22%233186cc%22%2C%0A%20%20%22fillOpacity%22%3A%200.7%2C%0A%20%20%22fillRule%22%3A%20%22evenodd%22%2C%0A%20%20%22lineCap%22%3A%20%22round%22%2C%0A%20%20%22lineJoin%22%3A%20%22round%22%2C%0A%20%20%22opacity%22%3A%201.0%2C%0A%20%20%22radius%22%3A%205%2C%0A%20%20%22stroke%22%3A%20true%2C%0A%20%20%22weight%22%3A%203%0A%7D%0A%20%20%20%20%20%20%20%20%20%20%20%20%20%20%20%20%29%0A%20%20%20%20%20%20%20%20%20%20%20%20%20%20%20%20.addTo%28map_9fd153ca0f114a97b68141f12bbae1a1%29%3B%0A%20%20%20%20%20%20%20%20%20%20%20%20%0A%20%20%20%20%0A%20%20%20%20%20%20%20%20%20%20%20%20var%20popup_03c23de1cabe46c2b0ed9e5efd6703c0%20%3D%20L.popup%28%7BmaxWidth%3A%20%27100%25%27%0A%20%20%20%20%20%20%20%20%20%20%20%20%0A%20%20%20%20%20%20%20%20%20%20%20%20%7D%29%3B%0A%0A%20%20%20%20%20%20%20%20%20%20%20%20%0A%20%20%20%20%20%20%20%20%20%20%20%20%20%20%20%20var%20html_0228a50671a8411ea4004e1ea9f821ea%20%3D%20%24%28%60%3Cdiv%20id%3D%22html_0228a50671a8411ea4004e1ea9f821ea%22%20style%3D%22width%3A%20100.0%25%3B%20height%3A%20100.0%25%3B%22%3ESAMPA%2027-28%3C/div%3E%60%29%5B0%5D%3B%0A%20%20%20%20%20%20%20%20%20%20%20%20%20%20%20%20popup_03c23de1cabe46c2b0ed9e5efd6703c0.setContent%28html_0228a50671a8411ea4004e1ea9f821ea%29%3B%0A%20%20%20%20%20%20%20%20%20%20%20%20%0A%0A%20%20%20%20%20%20%20%20%20%20%20%20circle_marker_c8b43e891409408ea9594262fa9ee9c0.bindPopup%28popup_03c23de1cabe46c2b0ed9e5efd6703c0%29%0A%20%20%20%20%20%20%20%20%20%20%20%20%3B%0A%0A%20%20%20%20%20%20%20%20%20%20%20%20%0A%20%20%20%20%20%20%20%20%0A%20%20%20%20%0A%20%20%20%20%20%20%20%20%20%20%20%20var%20circle_marker_03007719a5cf4a65b257bcecee6ee161%20%3D%20L.circleMarker%28%0A%20%20%20%20%20%20%20%20%20%20%20%20%20%20%20%20%5B-22.32445056467674%2C%20-49.06782299509416%5D%2C%0A%20%20%20%20%20%20%20%20%20%20%20%20%20%20%20%20%7B%0A%20%20%22bubblingMouseEvents%22%3A%20true%2C%0A%20%20%22color%22%3A%20%22red%22%2C%0A%20%20%22dashArray%22%3A%20null%2C%0A%20%20%22dashOffset%22%3A%20null%2C%0A%20%20%22fill%22%3A%20true%2C%0A%20%20%22fillColor%22%3A%20%22%233186cc%22%2C%0A%20%20%22fillOpacity%22%3A%200.7%2C%0A%20%20%22fillRule%22%3A%20%22evenodd%22%2C%0A%20%20%22lineCap%22%3A%20%22round%22%2C%0A%20%20%22lineJoin%22%3A%20%22round%22%2C%0A%20%20%22opacity%22%3A%201.0%2C%0A%20%20%22radius%22%3A%205%2C%0A%20%20%22stroke%22%3A%20true%2C%0A%20%20%22weight%22%3A%203%0A%7D%0A%20%20%20%20%20%20%20%20%20%20%20%20%20%20%20%20%29%0A%20%20%20%20%20%20%20%20%20%20%20%20%20%20%20%20.addTo%28map_9fd153ca0f114a97b68141f12bbae1a1%29%3B%0A%20%20%20%20%20%20%20%20%20%20%20%20%0A%20%20%20%20%0A%20%20%20%20%20%20%20%20%20%20%20%20var%20popup_0816c2f8614e4bc5bc7e106439de6f7b%20%3D%20L.popup%28%7BmaxWidth%3A%20%27100%25%27%0A%20%20%20%20%20%20%20%20%20%20%20%20%0A%20%20%20%20%20%20%20%20%20%20%20%20%7D%29%3B%0A%0A%20%20%20%20%20%20%20%20%20%20%20%20%0A%20%20%20%20%20%20%20%20%20%20%20%20%20%20%20%20var%20html_e4208e2a553241bd9359531dec3db18e%20%3D%20%24%28%60%3Cdiv%20id%3D%22html_e4208e2a553241bd9359531dec3db18e%22%20style%3D%22width%3A%20100.0%25%3B%20height%3A%20100.0%25%3B%22%3ETemplo%20Bar%3C/div%3E%60%29%5B0%5D%3B%0A%20%20%20%20%20%20%20%20%20%20%20%20%20%20%20%20popup_0816c2f8614e4bc5bc7e106439de6f7b.setContent%28html_e4208e2a553241bd9359531dec3db18e%29%3B%0A%20%20%20%20%20%20%20%20%20%20%20%20%0A%0A%20%20%20%20%20%20%20%20%20%20%20%20circle_marker_03007719a5cf4a65b257bcecee6ee161.bindPopup%28popup_0816c2f8614e4bc5bc7e106439de6f7b%29%0A%20%20%20%20%20%20%20%20%20%20%20%20%3B%0A%0A%20%20%20%20%20%20%20%20%20%20%20%20%0A%20%20%20%20%20%20%20%20%0A%20%20%20%20%0A%20%20%20%20%20%20%20%20%20%20%20%20var%20circle_marker_5f4a94f452f547c4886ef65c99a71b1a%20%3D%20L.circleMarker%28%0A%20%20%20%20%20%20%20%20%20%20%20%20%20%20%20%20%5B-22.32673510802182%2C%20-49.09756224498337%5D%2C%0A%20%20%20%20%20%20%20%20%20%20%20%20%20%20%20%20%7B%0A%20%20%22bubblingMouseEvents%22%3A%20true%2C%0A%20%20%22color%22%3A%20%22red%22%2C%0A%20%20%22dashArray%22%3A%20null%2C%0A%20%20%22dashOffset%22%3A%20null%2C%0A%20%20%22fill%22%3A%20true%2C%0A%20%20%22fillColor%22%3A%20%22%233186cc%22%2C%0A%20%20%22fillOpacity%22%3A%200.7%2C%0A%20%20%22fillRule%22%3A%20%22evenodd%22%2C%0A%20%20%22lineCap%22%3A%20%22round%22%2C%0A%20%20%22lineJoin%22%3A%20%22round%22%2C%0A%20%20%22opacity%22%3A%201.0%2C%0A%20%20%22radius%22%3A%205%2C%0A%20%20%22stroke%22%3A%20true%2C%0A%20%20%22weight%22%3A%203%0A%7D%0A%20%20%20%20%20%20%20%20%20%20%20%20%20%20%20%20%29%0A%20%20%20%20%20%20%20%20%20%20%20%20%20%20%20%20.addTo%28map_9fd153ca0f114a97b68141f12bbae1a1%29%3B%0A%20%20%20%20%20%20%20%20%20%20%20%20%0A%20%20%20%20%0A%20%20%20%20%20%20%20%20%20%20%20%20var%20popup_3ed1d58fe08b4a9b906739fc071a4fdc%20%3D%20L.popup%28%7BmaxWidth%3A%20%27100%25%27%0A%20%20%20%20%20%20%20%20%20%20%20%20%0A%20%20%20%20%20%20%20%20%20%20%20%20%7D%29%3B%0A%0A%20%20%20%20%20%20%20%20%20%20%20%20%0A%20%20%20%20%20%20%20%20%20%20%20%20%20%20%20%20var%20html_0fa61319d93247ffa0a11544c07f891a%20%3D%20%24%28%60%3Cdiv%20id%3D%22html_0fa61319d93247ffa0a11544c07f891a%22%20style%3D%22width%3A%20100.0%25%3B%20height%3A%20100.0%25%3B%22%3EBar%20do%20Tot%C3%B3%3C/div%3E%60%29%5B0%5D%3B%0A%20%20%20%20%20%20%20%20%20%20%20%20%20%20%20%20popup_3ed1d58fe08b4a9b906739fc071a4fdc.setContent%28html_0fa61319d93247ffa0a11544c07f891a%29%3B%0A%20%20%20%20%20%20%20%20%20%20%20%20%0A%0A%20%20%20%20%20%20%20%20%20%20%20%20circle_marker_5f4a94f452f547c4886ef65c99a71b1a.bindPopup%28popup_3ed1d58fe08b4a9b906739fc071a4fdc%29%0A%20%20%20%20%20%20%20%20%20%20%20%20%3B%0A%0A%20%20%20%20%20%20%20%20%20%20%20%20%0A%20%20%20%20%20%20%20%20%0A%20%20%20%20%0A%20%20%20%20%20%20%20%20%20%20%20%20var%20circle_marker_416f7a715da6416183db3b47cd830901%20%3D%20L.circleMarker%28%0A%20%20%20%20%20%20%20%20%20%20%20%20%20%20%20%20%5B-22.33019540909651%2C%20-49.0532576643798%5D%2C%0A%20%20%20%20%20%20%20%20%20%20%20%20%20%20%20%20%7B%0A%20%20%22bubblingMouseEvents%22%3A%20true%2C%0A%20%20%22color%22%3A%20%22red%22%2C%0A%20%20%22dashArray%22%3A%20null%2C%0A%20%20%22dashOffset%22%3A%20null%2C%0A%20%20%22fill%22%3A%20true%2C%0A%20%20%22fillColor%22%3A%20%22%233186cc%22%2C%0A%20%20%22fillOpacity%22%3A%200.7%2C%0A%20%20%22fillRule%22%3A%20%22evenodd%22%2C%0A%20%20%22lineCap%22%3A%20%22round%22%2C%0A%20%20%22lineJoin%22%3A%20%22round%22%2C%0A%20%20%22opacity%22%3A%201.0%2C%0A%20%20%22radius%22%3A%205%2C%0A%20%20%22stroke%22%3A%20true%2C%0A%20%20%22weight%22%3A%203%0A%7D%0A%20%20%20%20%20%20%20%20%20%20%20%20%20%20%20%20%29%0A%20%20%20%20%20%20%20%20%20%20%20%20%20%20%20%20.addTo%28map_9fd153ca0f114a97b68141f12bbae1a1%29%3B%0A%20%20%20%20%20%20%20%20%20%20%20%20%0A%20%20%20%20%0A%20%20%20%20%20%20%20%20%20%20%20%20var%20popup_60bac77ebddc48d591dd49ecdfd97afd%20%3D%20L.popup%28%7BmaxWidth%3A%20%27100%25%27%0A%20%20%20%20%20%20%20%20%20%20%20%20%0A%20%20%20%20%20%20%20%20%20%20%20%20%7D%29%3B%0A%0A%20%20%20%20%20%20%20%20%20%20%20%20%0A%20%20%20%20%20%20%20%20%20%20%20%20%20%20%20%20var%20html_ef6fdb5f5d5d46468f654abcac19d28f%20%3D%20%24%28%60%3Cdiv%20id%3D%22html_ef6fdb5f5d5d46468f654abcac19d28f%22%20style%3D%22width%3A%20100.0%25%3B%20height%3A%20100.0%25%3B%22%3EEsquina%20do%20Herbie%3C/div%3E%60%29%5B0%5D%3B%0A%20%20%20%20%20%20%20%20%20%20%20%20%20%20%20%20popup_60bac77ebddc48d591dd49ecdfd97afd.setContent%28html_ef6fdb5f5d5d46468f654abcac19d28f%29%3B%0A%20%20%20%20%20%20%20%20%20%20%20%20%0A%0A%20%20%20%20%20%20%20%20%20%20%20%20circle_marker_416f7a715da6416183db3b47cd830901.bindPopup%28popup_60bac77ebddc48d591dd49ecdfd97afd%29%0A%20%20%20%20%20%20%20%20%20%20%20%20%3B%0A%0A%20%20%20%20%20%20%20%20%20%20%20%20%0A%20%20%20%20%20%20%20%20%0A%20%20%20%20%0A%20%20%20%20%20%20%20%20%20%20%20%20var%20circle_marker_89379479bde242cdae3e2a130c6a1bdd%20%3D%20L.circleMarker%28%0A%20%20%20%20%20%20%20%20%20%20%20%20%20%20%20%20%5B-22.32908168378931%2C%20-49.06847209024607%5D%2C%0A%20%20%20%20%20%20%20%20%20%20%20%20%20%20%20%20%7B%0A%20%20%22bubblingMouseEvents%22%3A%20true%2C%0A%20%20%22color%22%3A%20%22red%22%2C%0A%20%20%22dashArray%22%3A%20null%2C%0A%20%20%22dashOffset%22%3A%20null%2C%0A%20%20%22fill%22%3A%20true%2C%0A%20%20%22fillColor%22%3A%20%22%233186cc%22%2C%0A%20%20%22fillOpacity%22%3A%200.7%2C%0A%20%20%22fillRule%22%3A%20%22evenodd%22%2C%0A%20%20%22lineCap%22%3A%20%22round%22%2C%0A%20%20%22lineJoin%22%3A%20%22round%22%2C%0A%20%20%22opacity%22%3A%201.0%2C%0A%20%20%22radius%22%3A%205%2C%0A%20%20%22stroke%22%3A%20true%2C%0A%20%20%22weight%22%3A%203%0A%7D%0A%20%20%20%20%20%20%20%20%20%20%20%20%20%20%20%20%29%0A%20%20%20%20%20%20%20%20%20%20%20%20%20%20%20%20.addTo%28map_9fd153ca0f114a97b68141f12bbae1a1%29%3B%0A%20%20%20%20%20%20%20%20%20%20%20%20%0A%20%20%20%20%0A%20%20%20%20%20%20%20%20%20%20%20%20var%20popup_b6cff6c4cb99439297ecea0c7d6c9648%20%3D%20L.popup%28%7BmaxWidth%3A%20%27100%25%27%0A%20%20%20%20%20%20%20%20%20%20%20%20%0A%20%20%20%20%20%20%20%20%20%20%20%20%7D%29%3B%0A%0A%20%20%20%20%20%20%20%20%20%20%20%20%0A%20%20%20%20%20%20%20%20%20%20%20%20%20%20%20%20var%20html_a9f30216a6de4b628478850828fa66bf%20%3D%20%24%28%60%3Cdiv%20id%3D%22html_a9f30216a6de4b628478850828fa66bf%22%20style%3D%22width%3A%20100.0%25%3B%20height%3A%20100.0%25%3B%22%3EJack%20Music%20Pub%3C/div%3E%60%29%5B0%5D%3B%0A%20%20%20%20%20%20%20%20%20%20%20%20%20%20%20%20popup_b6cff6c4cb99439297ecea0c7d6c9648.setContent%28html_a9f30216a6de4b628478850828fa66bf%29%3B%0A%20%20%20%20%20%20%20%20%20%20%20%20%0A%0A%20%20%20%20%20%20%20%20%20%20%20%20circle_marker_89379479bde242cdae3e2a130c6a1bdd.bindPopup%28popup_b6cff6c4cb99439297ecea0c7d6c9648%29%0A%20%20%20%20%20%20%20%20%20%20%20%20%3B%0A%0A%20%20%20%20%20%20%20%20%20%20%20%20%0A%20%20%20%20%20%20%20%20%0A%20%20%20%20%0A%20%20%20%20%20%20%20%20%20%20%20%20var%20circle_marker_87347f750f4642e4a4ece51e7d638351%20%3D%20L.circleMarker%28%0A%20%20%20%20%20%20%20%20%20%20%20%20%20%20%20%20%5B-22.341967259718395%2C%20-49.04940548953373%5D%2C%0A%20%20%20%20%20%20%20%20%20%20%20%20%20%20%20%20%7B%0A%20%20%22bubblingMouseEvents%22%3A%20true%2C%0A%20%20%22color%22%3A%20%22red%22%2C%0A%20%20%22dashArray%22%3A%20null%2C%0A%20%20%22dashOffset%22%3A%20null%2C%0A%20%20%22fill%22%3A%20true%2C%0A%20%20%22fillColor%22%3A%20%22%233186cc%22%2C%0A%20%20%22fillOpacity%22%3A%200.7%2C%0A%20%20%22fillRule%22%3A%20%22evenodd%22%2C%0A%20%20%22lineCap%22%3A%20%22round%22%2C%0A%20%20%22lineJoin%22%3A%20%22round%22%2C%0A%20%20%22opacity%22%3A%201.0%2C%0A%20%20%22radius%22%3A%205%2C%0A%20%20%22stroke%22%3A%20true%2C%0A%20%20%22weight%22%3A%203%0A%7D%0A%20%20%20%20%20%20%20%20%20%20%20%20%20%20%20%20%29%0A%20%20%20%20%20%20%20%20%20%20%20%20%20%20%20%20.addTo%28map_9fd153ca0f114a97b68141f12bbae1a1%29%3B%0A%20%20%20%20%20%20%20%20%20%20%20%20%0A%20%20%20%20%0A%20%20%20%20%20%20%20%20%20%20%20%20var%20popup_4d49d304978e47a7baa6d369c8649078%20%3D%20L.popup%28%7BmaxWidth%3A%20%27100%25%27%0A%20%20%20%20%20%20%20%20%20%20%20%20%0A%20%20%20%20%20%20%20%20%20%20%20%20%7D%29%3B%0A%0A%20%20%20%20%20%20%20%20%20%20%20%20%0A%20%20%20%20%20%20%20%20%20%20%20%20%20%20%20%20var%20html_1e910d8ff63048eda7b9eeb1bc588a56%20%3D%20%24%28%60%3Cdiv%20id%3D%22html_1e910d8ff63048eda7b9eeb1bc588a56%22%20style%3D%22width%3A%20100.0%25%3B%20height%3A%20100.0%25%3B%22%3EQuiosque%20Chopp%20Brahma%3C/div%3E%60%29%5B0%5D%3B%0A%20%20%20%20%20%20%20%20%20%20%20%20%20%20%20%20popup_4d49d304978e47a7baa6d369c8649078.setContent%28html_1e910d8ff63048eda7b9eeb1bc588a56%29%3B%0A%20%20%20%20%20%20%20%20%20%20%20%20%0A%0A%20%20%20%20%20%20%20%20%20%20%20%20circle_marker_87347f750f4642e4a4ece51e7d638351.bindPopup%28popup_4d49d304978e47a7baa6d369c8649078%29%0A%20%20%20%20%20%20%20%20%20%20%20%20%3B%0A%0A%20%20%20%20%20%20%20%20%20%20%20%20%0A%20%20%20%20%20%20%20%20%0A%20%20%20%20%0A%20%20%20%20%20%20%20%20%20%20%20%20var%20circle_marker_7fcb35a45867415f82e1df8fa6760460%20%3D%20L.circleMarker%28%0A%20%20%20%20%20%20%20%20%20%20%20%20%20%20%20%20%5B-22.347412%2C%20-49.054977%5D%2C%0A%20%20%20%20%20%20%20%20%20%20%20%20%20%20%20%20%7B%0A%20%20%22bubblingMouseEvents%22%3A%20true%2C%0A%20%20%22color%22%3A%20%22red%22%2C%0A%20%20%22dashArray%22%3A%20null%2C%0A%20%20%22dashOffset%22%3A%20null%2C%0A%20%20%22fill%22%3A%20true%2C%0A%20%20%22fillColor%22%3A%20%22%233186cc%22%2C%0A%20%20%22fillOpacity%22%3A%200.7%2C%0A%20%20%22fillRule%22%3A%20%22evenodd%22%2C%0A%20%20%22lineCap%22%3A%20%22round%22%2C%0A%20%20%22lineJoin%22%3A%20%22round%22%2C%0A%20%20%22opacity%22%3A%201.0%2C%0A%20%20%22radius%22%3A%205%2C%0A%20%20%22stroke%22%3A%20true%2C%0A%20%20%22weight%22%3A%203%0A%7D%0A%20%20%20%20%20%20%20%20%20%20%20%20%20%20%20%20%29%0A%20%20%20%20%20%20%20%20%20%20%20%20%20%20%20%20.addTo%28map_9fd153ca0f114a97b68141f12bbae1a1%29%3B%0A%20%20%20%20%20%20%20%20%20%20%20%20%0A%20%20%20%20%0A%20%20%20%20%20%20%20%20%20%20%20%20var%20popup_25062bc533454938a447d70d70488f5f%20%3D%20L.popup%28%7BmaxWidth%3A%20%27100%25%27%0A%20%20%20%20%20%20%20%20%20%20%20%20%0A%20%20%20%20%20%20%20%20%20%20%20%20%7D%29%3B%0A%0A%20%20%20%20%20%20%20%20%20%20%20%20%0A%20%20%20%20%20%20%20%20%20%20%20%20%20%20%20%20var%20html_41e42025c052428ca9ac5da561ea2e5c%20%3D%20%24%28%60%3Cdiv%20id%3D%22html_41e42025c052428ca9ac5da561ea2e5c%22%20style%3D%22width%3A%20100.0%25%3B%20height%3A%20100.0%25%3B%22%3EL%26%2339%3BOppen%20Caf%C3%A9%20Bar%3C/div%3E%60%29%5B0%5D%3B%0A%20%20%20%20%20%20%20%20%20%20%20%20%20%20%20%20popup_25062bc533454938a447d70d70488f5f.setContent%28html_41e42025c052428ca9ac5da561ea2e5c%29%3B%0A%20%20%20%20%20%20%20%20%20%20%20%20%0A%0A%20%20%20%20%20%20%20%20%20%20%20%20circle_marker_7fcb35a45867415f82e1df8fa6760460.bindPopup%28popup_25062bc533454938a447d70d70488f5f%29%0A%20%20%20%20%20%20%20%20%20%20%20%20%3B%0A%0A%20%20%20%20%20%20%20%20%20%20%20%20%0A%20%20%20%20%20%20%20%20%0A%20%20%20%20%0A%20%20%20%20%20%20%20%20%20%20%20%20var%20circle_marker_e1032c30fbf149b98683649eb344ad44%20%3D%20L.circleMarker%28%0A%20%20%20%20%20%20%20%20%20%20%20%20%20%20%20%20%5B-22.368588660491575%2C%20-49.05687598492359%5D%2C%0A%20%20%20%20%20%20%20%20%20%20%20%20%20%20%20%20%7B%0A%20%20%22bubblingMouseEvents%22%3A%20true%2C%0A%20%20%22color%22%3A%20%22red%22%2C%0A%20%20%22dashArray%22%3A%20null%2C%0A%20%20%22dashOffset%22%3A%20null%2C%0A%20%20%22fill%22%3A%20true%2C%0A%20%20%22fillColor%22%3A%20%22%233186cc%22%2C%0A%20%20%22fillOpacity%22%3A%200.7%2C%0A%20%20%22fillRule%22%3A%20%22evenodd%22%2C%0A%20%20%22lineCap%22%3A%20%22round%22%2C%0A%20%20%22lineJoin%22%3A%20%22round%22%2C%0A%20%20%22opacity%22%3A%201.0%2C%0A%20%20%22radius%22%3A%205%2C%0A%20%20%22stroke%22%3A%20true%2C%0A%20%20%22weight%22%3A%203%0A%7D%0A%20%20%20%20%20%20%20%20%20%20%20%20%20%20%20%20%29%0A%20%20%20%20%20%20%20%20%20%20%20%20%20%20%20%20.addTo%28map_9fd153ca0f114a97b68141f12bbae1a1%29%3B%0A%20%20%20%20%20%20%20%20%20%20%20%20%0A%20%20%20%20%0A%20%20%20%20%20%20%20%20%20%20%20%20var%20popup_5f35ee4116e74aa9b4bd56242889648f%20%3D%20L.popup%28%7BmaxWidth%3A%20%27100%25%27%0A%20%20%20%20%20%20%20%20%20%20%20%20%0A%20%20%20%20%20%20%20%20%20%20%20%20%7D%29%3B%0A%0A%20%20%20%20%20%20%20%20%20%20%20%20%0A%20%20%20%20%20%20%20%20%20%20%20%20%20%20%20%20var%20html_21c657264e8a40f7bcb66751fd670386%20%3D%20%24%28%60%3Cdiv%20id%3D%22html_21c657264e8a40f7bcb66751fd670386%22%20style%3D%22width%3A%20100.0%25%3B%20height%3A%20100.0%25%3B%22%3EVilla%20do%20Chopp%3C/div%3E%60%29%5B0%5D%3B%0A%20%20%20%20%20%20%20%20%20%20%20%20%20%20%20%20popup_5f35ee4116e74aa9b4bd56242889648f.setContent%28html_21c657264e8a40f7bcb66751fd670386%29%3B%0A%20%20%20%20%20%20%20%20%20%20%20%20%0A%0A%20%20%20%20%20%20%20%20%20%20%20%20circle_marker_e1032c30fbf149b98683649eb344ad44.bindPopup%28popup_5f35ee4116e74aa9b4bd56242889648f%29%0A%20%20%20%20%20%20%20%20%20%20%20%20%3B%0A%0A%20%20%20%20%20%20%20%20%20%20%20%20%0A%20%20%20%20%20%20%20%20%0A%20%20%20%20%0A%20%20%20%20%20%20%20%20%20%20%20%20var%20circle_marker_7abaf3dd0a664a9b8ba6e14af5c7a329%20%3D%20L.circleMarker%28%0A%20%20%20%20%20%20%20%20%20%20%20%20%20%20%20%20%5B-22.344769105970418%2C%20-49.0631372054267%5D%2C%0A%20%20%20%20%20%20%20%20%20%20%20%20%20%20%20%20%7B%0A%20%20%22bubblingMouseEvents%22%3A%20true%2C%0A%20%20%22color%22%3A%20%22red%22%2C%0A%20%20%22dashArray%22%3A%20null%2C%0A%20%20%22dashOffset%22%3A%20null%2C%0A%20%20%22fill%22%3A%20true%2C%0A%20%20%22fillColor%22%3A%20%22%233186cc%22%2C%0A%20%20%22fillOpacity%22%3A%200.7%2C%0A%20%20%22fillRule%22%3A%20%22evenodd%22%2C%0A%20%20%22lineCap%22%3A%20%22round%22%2C%0A%20%20%22lineJoin%22%3A%20%22round%22%2C%0A%20%20%22opacity%22%3A%201.0%2C%0A%20%20%22radius%22%3A%205%2C%0A%20%20%22stroke%22%3A%20true%2C%0A%20%20%22weight%22%3A%203%0A%7D%0A%20%20%20%20%20%20%20%20%20%20%20%20%20%20%20%20%29%0A%20%20%20%20%20%20%20%20%20%20%20%20%20%20%20%20.addTo%28map_9fd153ca0f114a97b68141f12bbae1a1%29%3B%0A%20%20%20%20%20%20%20%20%20%20%20%20%0A%20%20%20%20%0A%20%20%20%20%20%20%20%20%20%20%20%20var%20popup_e2bcafedc2444c4b9039de294925e1de%20%3D%20L.popup%28%7BmaxWidth%3A%20%27100%25%27%0A%20%20%20%20%20%20%20%20%20%20%20%20%0A%20%20%20%20%20%20%20%20%20%20%20%20%7D%29%3B%0A%0A%20%20%20%20%20%20%20%20%20%20%20%20%0A%20%20%20%20%20%20%20%20%20%20%20%20%20%20%20%20var%20html_ed1001dbcb66407b840b3b8e3408d757%20%3D%20%24%28%60%3Cdiv%20id%3D%22html_ed1001dbcb66407b840b3b8e3408d757%22%20style%3D%22width%3A%20100.0%25%3B%20height%3A%20100.0%25%3B%22%3EMaracangalha%20Bar%3C/div%3E%60%29%5B0%5D%3B%0A%20%20%20%20%20%20%20%20%20%20%20%20%20%20%20%20popup_e2bcafedc2444c4b9039de294925e1de.setContent%28html_ed1001dbcb66407b840b3b8e3408d757%29%3B%0A%20%20%20%20%20%20%20%20%20%20%20%20%0A%0A%20%20%20%20%20%20%20%20%20%20%20%20circle_marker_7abaf3dd0a664a9b8ba6e14af5c7a329.bindPopup%28popup_e2bcafedc2444c4b9039de294925e1de%29%0A%20%20%20%20%20%20%20%20%20%20%20%20%3B%0A%0A%20%20%20%20%20%20%20%20%20%20%20%20%0A%20%20%20%20%20%20%20%20%0A%20%20%20%20%0A%20%20%20%20%20%20%20%20%20%20%20%20var%20circle_marker_a768dde087c34c7db704eebee1d2145f%20%3D%20L.circleMarker%28%0A%20%20%20%20%20%20%20%20%20%20%20%20%20%20%20%20%5B-22.326501185041543%2C%20-49.078461122568775%5D%2C%0A%20%20%20%20%20%20%20%20%20%20%20%20%20%20%20%20%7B%0A%20%20%22bubblingMouseEvents%22%3A%20true%2C%0A%20%20%22color%22%3A%20%22red%22%2C%0A%20%20%22dashArray%22%3A%20null%2C%0A%20%20%22dashOffset%22%3A%20null%2C%0A%20%20%22fill%22%3A%20true%2C%0A%20%20%22fillColor%22%3A%20%22%233186cc%22%2C%0A%20%20%22fillOpacity%22%3A%200.7%2C%0A%20%20%22fillRule%22%3A%20%22evenodd%22%2C%0A%20%20%22lineCap%22%3A%20%22round%22%2C%0A%20%20%22lineJoin%22%3A%20%22round%22%2C%0A%20%20%22opacity%22%3A%201.0%2C%0A%20%20%22radius%22%3A%205%2C%0A%20%20%22stroke%22%3A%20true%2C%0A%20%20%22weight%22%3A%203%0A%7D%0A%20%20%20%20%20%20%20%20%20%20%20%20%20%20%20%20%29%0A%20%20%20%20%20%20%20%20%20%20%20%20%20%20%20%20.addTo%28map_9fd153ca0f114a97b68141f12bbae1a1%29%3B%0A%20%20%20%20%20%20%20%20%20%20%20%20%0A%20%20%20%20%0A%20%20%20%20%20%20%20%20%20%20%20%20var%20popup_b3e7d03408e54660abdbeaf7313cfc71%20%3D%20L.popup%28%7BmaxWidth%3A%20%27100%25%27%0A%20%20%20%20%20%20%20%20%20%20%20%20%0A%20%20%20%20%20%20%20%20%20%20%20%20%7D%29%3B%0A%0A%20%20%20%20%20%20%20%20%20%20%20%20%0A%20%20%20%20%20%20%20%20%20%20%20%20%20%20%20%20var%20html_d2b03d6ffe184e4e97f69b8ab0cdfb69%20%3D%20%24%28%60%3Cdiv%20id%3D%22html_d2b03d6ffe184e4e97f69b8ab0cdfb69%22%20style%3D%22width%3A%20100.0%25%3B%20height%3A%20100.0%25%3B%22%3EBar%20do%20Baga%C3%A7a%3C/div%3E%60%29%5B0%5D%3B%0A%20%20%20%20%20%20%20%20%20%20%20%20%20%20%20%20popup_b3e7d03408e54660abdbeaf7313cfc71.setContent%28html_d2b03d6ffe184e4e97f69b8ab0cdfb69%29%3B%0A%20%20%20%20%20%20%20%20%20%20%20%20%0A%0A%20%20%20%20%20%20%20%20%20%20%20%20circle_marker_a768dde087c34c7db704eebee1d2145f.bindPopup%28popup_b3e7d03408e54660abdbeaf7313cfc71%29%0A%20%20%20%20%20%20%20%20%20%20%20%20%3B%0A%0A%20%20%20%20%20%20%20%20%20%20%20%20%0A%20%20%20%20%20%20%20%20%0A%20%20%20%20%0A%20%20%20%20%20%20%20%20%20%20%20%20var%20circle_marker_09333ce3620345699951c5378f8bdb68%20%3D%20L.circleMarker%28%0A%20%20%20%20%20%20%20%20%20%20%20%20%20%20%20%20%5B-22.315927771873877%2C%20-49.06636751432487%5D%2C%0A%20%20%20%20%20%20%20%20%20%20%20%20%20%20%20%20%7B%0A%20%20%22bubblingMouseEvents%22%3A%20true%2C%0A%20%20%22color%22%3A%20%22red%22%2C%0A%20%20%22dashArray%22%3A%20null%2C%0A%20%20%22dashOffset%22%3A%20null%2C%0A%20%20%22fill%22%3A%20true%2C%0A%20%20%22fillColor%22%3A%20%22%233186cc%22%2C%0A%20%20%22fillOpacity%22%3A%200.7%2C%0A%20%20%22fillRule%22%3A%20%22evenodd%22%2C%0A%20%20%22lineCap%22%3A%20%22round%22%2C%0A%20%20%22lineJoin%22%3A%20%22round%22%2C%0A%20%20%22opacity%22%3A%201.0%2C%0A%20%20%22radius%22%3A%205%2C%0A%20%20%22stroke%22%3A%20true%2C%0A%20%20%22weight%22%3A%203%0A%7D%0A%20%20%20%20%20%20%20%20%20%20%20%20%20%20%20%20%29%0A%20%20%20%20%20%20%20%20%20%20%20%20%20%20%20%20.addTo%28map_9fd153ca0f114a97b68141f12bbae1a1%29%3B%0A%20%20%20%20%20%20%20%20%20%20%20%20%0A%20%20%20%20%0A%20%20%20%20%20%20%20%20%20%20%20%20var%20popup_18484aeb43724c96a57e086ec43e5564%20%3D%20L.popup%28%7BmaxWidth%3A%20%27100%25%27%0A%20%20%20%20%20%20%20%20%20%20%20%20%0A%20%20%20%20%20%20%20%20%20%20%20%20%7D%29%3B%0A%0A%20%20%20%20%20%20%20%20%20%20%20%20%0A%20%20%20%20%20%20%20%20%20%20%20%20%20%20%20%20var%20html_74d78e972f9b4baa81bd8ac61977ea0e%20%3D%20%24%28%60%3Cdiv%20id%3D%22html_74d78e972f9b4baa81bd8ac61977ea0e%22%20style%3D%22width%3A%20100.0%25%3B%20height%3A%20100.0%25%3B%22%3EMr.%20Beer%3C/div%3E%60%29%5B0%5D%3B%0A%20%20%20%20%20%20%20%20%20%20%20%20%20%20%20%20popup_18484aeb43724c96a57e086ec43e5564.setContent%28html_74d78e972f9b4baa81bd8ac61977ea0e%29%3B%0A%20%20%20%20%20%20%20%20%20%20%20%20%0A%0A%20%20%20%20%20%20%20%20%20%20%20%20circle_marker_09333ce3620345699951c5378f8bdb68.bindPopup%28popup_18484aeb43724c96a57e086ec43e5564%29%0A%20%20%20%20%20%20%20%20%20%20%20%20%3B%0A%0A%20%20%20%20%20%20%20%20%20%20%20%20%0A%20%20%20%20%20%20%20%20%0A%20%20%20%20%0A%20%20%20%20%20%20%20%20%20%20%20%20var%20circle_marker_3fcd814e713b416c843c1190fce150a8%20%3D%20L.circleMarker%28%0A%20%20%20%20%20%20%20%20%20%20%20%20%20%20%20%20%5B-22.35284925656565%2C%20-49.051931002965546%5D%2C%0A%20%20%20%20%20%20%20%20%20%20%20%20%20%20%20%20%7B%0A%20%20%22bubblingMouseEvents%22%3A%20true%2C%0A%20%20%22color%22%3A%20%22red%22%2C%0A%20%20%22dashArray%22%3A%20null%2C%0A%20%20%22dashOffset%22%3A%20null%2C%0A%20%20%22fill%22%3A%20true%2C%0A%20%20%22fillColor%22%3A%20%22%233186cc%22%2C%0A%20%20%22fillOpacity%22%3A%200.7%2C%0A%20%20%22fillRule%22%3A%20%22evenodd%22%2C%0A%20%20%22lineCap%22%3A%20%22round%22%2C%0A%20%20%22lineJoin%22%3A%20%22round%22%2C%0A%20%20%22opacity%22%3A%201.0%2C%0A%20%20%22radius%22%3A%205%2C%0A%20%20%22stroke%22%3A%20true%2C%0A%20%20%22weight%22%3A%203%0A%7D%0A%20%20%20%20%20%20%20%20%20%20%20%20%20%20%20%20%29%0A%20%20%20%20%20%20%20%20%20%20%20%20%20%20%20%20.addTo%28map_9fd153ca0f114a97b68141f12bbae1a1%29%3B%0A%20%20%20%20%20%20%20%20%20%20%20%20%0A%20%20%20%20%0A%20%20%20%20%20%20%20%20%20%20%20%20var%20popup_95163081058149b1af905aea91c1f15d%20%3D%20L.popup%28%7BmaxWidth%3A%20%27100%25%27%0A%20%20%20%20%20%20%20%20%20%20%20%20%0A%20%20%20%20%20%20%20%20%20%20%20%20%7D%29%3B%0A%0A%20%20%20%20%20%20%20%20%20%20%20%20%0A%20%20%20%20%20%20%20%20%20%20%20%20%20%20%20%20var%20html_216096ea3cb04d088e9932f709786f33%20%3D%20%24%28%60%3Cdiv%20id%3D%22html_216096ea3cb04d088e9932f709786f33%22%20style%3D%22width%3A%20100.0%25%3B%20height%3A%20100.0%25%3B%22%3ETaco%20Cabana%3C/div%3E%60%29%5B0%5D%3B%0A%20%20%20%20%20%20%20%20%20%20%20%20%20%20%20%20popup_95163081058149b1af905aea91c1f15d.setContent%28html_216096ea3cb04d088e9932f709786f33%29%3B%0A%20%20%20%20%20%20%20%20%20%20%20%20%0A%0A%20%20%20%20%20%20%20%20%20%20%20%20circle_marker_3fcd814e713b416c843c1190fce150a8.bindPopup%28popup_95163081058149b1af905aea91c1f15d%29%0A%20%20%20%20%20%20%20%20%20%20%20%20%3B%0A%0A%20%20%20%20%20%20%20%20%20%20%20%20%0A%20%20%20%20%20%20%20%20%0A%20%20%20%20%0A%20%20%20%20%20%20%20%20%20%20%20%20var%20circle_marker_6bcd2a422f724518992fa5f6a6406a3b%20%3D%20L.circleMarker%28%0A%20%20%20%20%20%20%20%20%20%20%20%20%20%20%20%20%5B-22.370358383199626%2C%20-49.032405029438856%5D%2C%0A%20%20%20%20%20%20%20%20%20%20%20%20%20%20%20%20%7B%0A%20%20%22bubblingMouseEvents%22%3A%20true%2C%0A%20%20%22color%22%3A%20%22red%22%2C%0A%20%20%22dashArray%22%3A%20null%2C%0A%20%20%22dashOffset%22%3A%20null%2C%0A%20%20%22fill%22%3A%20true%2C%0A%20%20%22fillColor%22%3A%20%22%233186cc%22%2C%0A%20%20%22fillOpacity%22%3A%200.7%2C%0A%20%20%22fillRule%22%3A%20%22evenodd%22%2C%0A%20%20%22lineCap%22%3A%20%22round%22%2C%0A%20%20%22lineJoin%22%3A%20%22round%22%2C%0A%20%20%22opacity%22%3A%201.0%2C%0A%20%20%22radius%22%3A%205%2C%0A%20%20%22stroke%22%3A%20true%2C%0A%20%20%22weight%22%3A%203%0A%7D%0A%20%20%20%20%20%20%20%20%20%20%20%20%20%20%20%20%29%0A%20%20%20%20%20%20%20%20%20%20%20%20%20%20%20%20.addTo%28map_9fd153ca0f114a97b68141f12bbae1a1%29%3B%0A%20%20%20%20%20%20%20%20%20%20%20%20%0A%20%20%20%20%0A%20%20%20%20%20%20%20%20%20%20%20%20var%20popup_786fa49b9fce42ebb514ea3ca870b40e%20%3D%20L.popup%28%7BmaxWidth%3A%20%27100%25%27%0A%20%20%20%20%20%20%20%20%20%20%20%20%0A%20%20%20%20%20%20%20%20%20%20%20%20%7D%29%3B%0A%0A%20%20%20%20%20%20%20%20%20%20%20%20%0A%20%20%20%20%20%20%20%20%20%20%20%20%20%20%20%20var%20html_4104345766744b9db676a064292e2f6b%20%3D%20%24%28%60%3Cdiv%20id%3D%22html_4104345766744b9db676a064292e2f6b%22%20style%3D%22width%3A%20100.0%25%3B%20height%3A%20100.0%25%3B%22%3ELabirinthus%20International%3C/div%3E%60%29%5B0%5D%3B%0A%20%20%20%20%20%20%20%20%20%20%20%20%20%20%20%20popup_786fa49b9fce42ebb514ea3ca870b40e.setContent%28html_4104345766744b9db676a064292e2f6b%29%3B%0A%20%20%20%20%20%20%20%20%20%20%20%20%0A%0A%20%20%20%20%20%20%20%20%20%20%20%20circle_marker_6bcd2a422f724518992fa5f6a6406a3b.bindPopup%28popup_786fa49b9fce42ebb514ea3ca870b40e%29%0A%20%20%20%20%20%20%20%20%20%20%20%20%3B%0A%0A%20%20%20%20%20%20%20%20%20%20%20%20%0A%20%20%20%20%20%20%20%20%0A%20%20%20%20%0A%20%20%20%20%20%20%20%20%20%20%20%20var%20circle_marker_82cd6f7f71824cb3b67d0d671067fb4b%20%3D%20L.circleMarker%28%0A%20%20%20%20%20%20%20%20%20%20%20%20%20%20%20%20%5B-22.370384180275366%2C%20-49.03171944711336%5D%2C%0A%20%20%20%20%20%20%20%20%20%20%20%20%20%20%20%20%7B%0A%20%20%22bubblingMouseEvents%22%3A%20true%2C%0A%20%20%22color%22%3A%20%22red%22%2C%0A%20%20%22dashArray%22%3A%20null%2C%0A%20%20%22dashOffset%22%3A%20null%2C%0A%20%20%22fill%22%3A%20true%2C%0A%20%20%22fillColor%22%3A%20%22%233186cc%22%2C%0A%20%20%22fillOpacity%22%3A%200.7%2C%0A%20%20%22fillRule%22%3A%20%22evenodd%22%2C%0A%20%20%22lineCap%22%3A%20%22round%22%2C%0A%20%20%22lineJoin%22%3A%20%22round%22%2C%0A%20%20%22opacity%22%3A%201.0%2C%0A%20%20%22radius%22%3A%205%2C%0A%20%20%22stroke%22%3A%20true%2C%0A%20%20%22weight%22%3A%203%0A%7D%0A%20%20%20%20%20%20%20%20%20%20%20%20%20%20%20%20%29%0A%20%20%20%20%20%20%20%20%20%20%20%20%20%20%20%20.addTo%28map_9fd153ca0f114a97b68141f12bbae1a1%29%3B%0A%20%20%20%20%20%20%20%20%20%20%20%20%0A%20%20%20%20%0A%20%20%20%20%20%20%20%20%20%20%20%20var%20popup_74591a8356b2403f99c8f0847107ef8f%20%3D%20L.popup%28%7BmaxWidth%3A%20%27100%25%27%0A%20%20%20%20%20%20%20%20%20%20%20%20%0A%20%20%20%20%20%20%20%20%20%20%20%20%7D%29%3B%0A%0A%20%20%20%20%20%20%20%20%20%20%20%20%0A%20%20%20%20%20%20%20%20%20%20%20%20%20%20%20%20var%20html_871bd5bfef8e4ab69d835e2403757ee4%20%3D%20%24%28%60%3Cdiv%20id%3D%22html_871bd5bfef8e4ab69d835e2403757ee4%22%20style%3D%22width%3A%20100.0%25%3B%20height%3A%20100.0%25%3B%22%3EBar%20Rep%C3%BAblica%20do%20Espanhol%3C/div%3E%60%29%5B0%5D%3B%0A%20%20%20%20%20%20%20%20%20%20%20%20%20%20%20%20popup_74591a8356b2403f99c8f0847107ef8f.setContent%28html_871bd5bfef8e4ab69d835e2403757ee4%29%3B%0A%20%20%20%20%20%20%20%20%20%20%20%20%0A%0A%20%20%20%20%20%20%20%20%20%20%20%20circle_marker_82cd6f7f71824cb3b67d0d671067fb4b.bindPopup%28popup_74591a8356b2403f99c8f0847107ef8f%29%0A%20%20%20%20%20%20%20%20%20%20%20%20%3B%0A%0A%20%20%20%20%20%20%20%20%20%20%20%20%0A%20%20%20%20%20%20%20%20%0A%20%20%20%20%0A%20%20%20%20%20%20%20%20%20%20%20%20var%20circle_marker_73ff3cd9657446e59127b87f26e61192%20%3D%20L.circleMarker%28%0A%20%20%20%20%20%20%20%20%20%20%20%20%20%20%20%20%5B-22.370671350396268%2C%20-49.03650495039735%5D%2C%0A%20%20%20%20%20%20%20%20%20%20%20%20%20%20%20%20%7B%0A%20%20%22bubblingMouseEvents%22%3A%20true%2C%0A%20%20%22color%22%3A%20%22red%22%2C%0A%20%20%22dashArray%22%3A%20null%2C%0A%20%20%22dashOffset%22%3A%20null%2C%0A%20%20%22fill%22%3A%20true%2C%0A%20%20%22fillColor%22%3A%20%22%233186cc%22%2C%0A%20%20%22fillOpacity%22%3A%200.7%2C%0A%20%20%22fillRule%22%3A%20%22evenodd%22%2C%0A%20%20%22lineCap%22%3A%20%22round%22%2C%0A%20%20%22lineJoin%22%3A%20%22round%22%2C%0A%20%20%22opacity%22%3A%201.0%2C%0A%20%20%22radius%22%3A%205%2C%0A%20%20%22stroke%22%3A%20true%2C%0A%20%20%22weight%22%3A%203%0A%7D%0A%20%20%20%20%20%20%20%20%20%20%20%20%20%20%20%20%29%0A%20%20%20%20%20%20%20%20%20%20%20%20%20%20%20%20.addTo%28map_9fd153ca0f114a97b68141f12bbae1a1%29%3B%0A%20%20%20%20%20%20%20%20%20%20%20%20%0A%20%20%20%20%0A%20%20%20%20%20%20%20%20%20%20%20%20var%20popup_c5aec73070ed45719ee76a76ebb60830%20%3D%20L.popup%28%7BmaxWidth%3A%20%27100%25%27%0A%20%20%20%20%20%20%20%20%20%20%20%20%0A%20%20%20%20%20%20%20%20%20%20%20%20%7D%29%3B%0A%0A%20%20%20%20%20%20%20%20%20%20%20%20%0A%20%20%20%20%20%20%20%20%20%20%20%20%20%20%20%20var%20html_b9437b107dfd4b5e9f086a530d014a1d%20%3D%20%24%28%60%3Cdiv%20id%3D%22html_b9437b107dfd4b5e9f086a530d014a1d%22%20style%3D%22width%3A%20100.0%25%3B%20height%3A%20100.0%25%3B%22%3EBeef%20Street%20Steakhouse%3C/div%3E%60%29%5B0%5D%3B%0A%20%20%20%20%20%20%20%20%20%20%20%20%20%20%20%20popup_c5aec73070ed45719ee76a76ebb60830.setContent%28html_b9437b107dfd4b5e9f086a530d014a1d%29%3B%0A%20%20%20%20%20%20%20%20%20%20%20%20%0A%0A%20%20%20%20%20%20%20%20%20%20%20%20circle_marker_73ff3cd9657446e59127b87f26e61192.bindPopup%28popup_c5aec73070ed45719ee76a76ebb60830%29%0A%20%20%20%20%20%20%20%20%20%20%20%20%3B%0A%0A%20%20%20%20%20%20%20%20%20%20%20%20%0A%20%20%20%20%20%20%20%20%0A%20%20%20%20%0A%20%20%20%20%20%20%20%20%20%20%20%20var%20circle_marker_8c55957ac88840a9bd54496bb878747c%20%3D%20L.circleMarker%28%0A%20%20%20%20%20%20%20%20%20%20%20%20%20%20%20%20%5B-22.370368253592012%2C%20-49.03208854626301%5D%2C%0A%20%20%20%20%20%20%20%20%20%20%20%20%20%20%20%20%7B%0A%20%20%22bubblingMouseEvents%22%3A%20true%2C%0A%20%20%22color%22%3A%20%22red%22%2C%0A%20%20%22dashArray%22%3A%20null%2C%0A%20%20%22dashOffset%22%3A%20null%2C%0A%20%20%22fill%22%3A%20true%2C%0A%20%20%22fillColor%22%3A%20%22%233186cc%22%2C%0A%20%20%22fillOpacity%22%3A%200.7%2C%0A%20%20%22fillRule%22%3A%20%22evenodd%22%2C%0A%20%20%22lineCap%22%3A%20%22round%22%2C%0A%20%20%22lineJoin%22%3A%20%22round%22%2C%0A%20%20%22opacity%22%3A%201.0%2C%0A%20%20%22radius%22%3A%205%2C%0A%20%20%22stroke%22%3A%20true%2C%0A%20%20%22weight%22%3A%203%0A%7D%0A%20%20%20%20%20%20%20%20%20%20%20%20%20%20%20%20%29%0A%20%20%20%20%20%20%20%20%20%20%20%20%20%20%20%20.addTo%28map_9fd153ca0f114a97b68141f12bbae1a1%29%3B%0A%20%20%20%20%20%20%20%20%20%20%20%20%0A%20%20%20%20%0A%20%20%20%20%20%20%20%20%20%20%20%20var%20popup_8eb492f474a54a56bf906517fc98cf6f%20%3D%20L.popup%28%7BmaxWidth%3A%20%27100%25%27%0A%20%20%20%20%20%20%20%20%20%20%20%20%0A%20%20%20%20%20%20%20%20%20%20%20%20%7D%29%3B%0A%0A%20%20%20%20%20%20%20%20%20%20%20%20%0A%20%20%20%20%20%20%20%20%20%20%20%20%20%20%20%20var%20html_cc3609edf250440abd6662ecdb5414bd%20%3D%20%24%28%60%3Cdiv%20id%3D%22html_cc3609edf250440abd6662ecdb5414bd%22%20style%3D%22width%3A%20100.0%25%3B%20height%3A%20100.0%25%3B%22%3EBarbaridade%3C/div%3E%60%29%5B0%5D%3B%0A%20%20%20%20%20%20%20%20%20%20%20%20%20%20%20%20popup_8eb492f474a54a56bf906517fc98cf6f.setContent%28html_cc3609edf250440abd6662ecdb5414bd%29%3B%0A%20%20%20%20%20%20%20%20%20%20%20%20%0A%0A%20%20%20%20%20%20%20%20%20%20%20%20circle_marker_8c55957ac88840a9bd54496bb878747c.bindPopup%28popup_8eb492f474a54a56bf906517fc98cf6f%29%0A%20%20%20%20%20%20%20%20%20%20%20%20%3B%0A%0A%20%20%20%20%20%20%20%20%20%20%20%20%0A%20%20%20%20%20%20%20%20%0A%20%20%20%20%0A%20%20%20%20%20%20%20%20%20%20%20%20var%20circle_marker_8252834b21da4da78f58790f20883c28%20%3D%20L.circleMarker%28%0A%20%20%20%20%20%20%20%20%20%20%20%20%20%20%20%20%5B-22.370440444286245%2C%20-49.03207873443307%5D%2C%0A%20%20%20%20%20%20%20%20%20%20%20%20%20%20%20%20%7B%0A%20%20%22bubblingMouseEvents%22%3A%20true%2C%0A%20%20%22color%22%3A%20%22red%22%2C%0A%20%20%22dashArray%22%3A%20null%2C%0A%20%20%22dashOffset%22%3A%20null%2C%0A%20%20%22fill%22%3A%20true%2C%0A%20%20%22fillColor%22%3A%20%22%233186cc%22%2C%0A%20%20%22fillOpacity%22%3A%200.7%2C%0A%20%20%22fillRule%22%3A%20%22evenodd%22%2C%0A%20%20%22lineCap%22%3A%20%22round%22%2C%0A%20%20%22lineJoin%22%3A%20%22round%22%2C%0A%20%20%22opacity%22%3A%201.0%2C%0A%20%20%22radius%22%3A%205%2C%0A%20%20%22stroke%22%3A%20true%2C%0A%20%20%22weight%22%3A%203%0A%7D%0A%20%20%20%20%20%20%20%20%20%20%20%20%20%20%20%20%29%0A%20%20%20%20%20%20%20%20%20%20%20%20%20%20%20%20.addTo%28map_9fd153ca0f114a97b68141f12bbae1a1%29%3B%0A%20%20%20%20%20%20%20%20%20%20%20%20%0A%20%20%20%20%0A%20%20%20%20%20%20%20%20%20%20%20%20var%20popup_34653407cf2e46d0b1224bedccfcba4f%20%3D%20L.popup%28%7BmaxWidth%3A%20%27100%25%27%0A%20%20%20%20%20%20%20%20%20%20%20%20%0A%20%20%20%20%20%20%20%20%20%20%20%20%7D%29%3B%0A%0A%20%20%20%20%20%20%20%20%20%20%20%20%0A%20%20%20%20%20%20%20%20%20%20%20%20%20%20%20%20var%20html_a96fadaa8a4b4c5096c5b4abb0aa918b%20%3D%20%24%28%60%3Cdiv%20id%3D%22html_a96fadaa8a4b4c5096c5b4abb0aa918b%22%20style%3D%22width%3A%20100.0%25%3B%20height%3A%20100.0%25%3B%22%3EWiskrit%C3%B3rio%20Beer%3C/div%3E%60%29%5B0%5D%3B%0A%20%20%20%20%20%20%20%20%20%20%20%20%20%20%20%20popup_34653407cf2e46d0b1224bedccfcba4f.setContent%28html_a96fadaa8a4b4c5096c5b4abb0aa918b%29%3B%0A%20%20%20%20%20%20%20%20%20%20%20%20%0A%0A%20%20%20%20%20%20%20%20%20%20%20%20circle_marker_8252834b21da4da78f58790f20883c28.bindPopup%28popup_34653407cf2e46d0b1224bedccfcba4f%29%0A%20%20%20%20%20%20%20%20%20%20%20%20%3B%0A%0A%20%20%20%20%20%20%20%20%20%20%20%20%0A%20%20%20%20%20%20%20%20%0A%20%20%20%20%0A%20%20%20%20%20%20%20%20%20%20%20%20var%20heat_map_e2bbce42efef4d3cafd60abfd9de3feb%20%3D%20L.heatLayer%28%0A%20%20%20%20%20%20%20%20%20%20%20%20%20%20%20%20%5B%5B-22.32081804942013%2C%20-49.06109806793662%5D%2C%20%5B-22.327265281788748%2C%20-49.08034527551882%5D%2C%20%5B-22.32844063301152%2C%20-49.063031272747274%5D%2C%20%5B-22.316144880180996%2C%20-49.06606631866441%5D%2C%20%5B-22.33628036822966%2C%20-49.06626257178629%5D%2C%20%5B-22.32445056467674%2C%20-49.06782299509416%5D%2C%20%5B-22.32673510802182%2C%20-49.09756224498337%5D%2C%20%5B-22.33019540909651%2C%20-49.0532576643798%5D%2C%20%5B-22.32908168378931%2C%20-49.06847209024607%5D%2C%20%5B-22.341967259718395%2C%20-49.04940548953373%5D%2C%20%5B-22.347412%2C%20-49.054977%5D%2C%20%5B-22.368588660491575%2C%20-49.05687598492359%5D%2C%20%5B-22.344769105970418%2C%20-49.0631372054267%5D%2C%20%5B-22.326501185041543%2C%20-49.078461122568775%5D%2C%20%5B-22.315927771873877%2C%20-49.06636751432487%5D%2C%20%5B-22.35284925656565%2C%20-49.051931002965546%5D%2C%20%5B-22.370358383199626%2C%20-49.032405029438856%5D%2C%20%5B-22.370384180275366%2C%20-49.03171944711336%5D%2C%20%5B-22.370671350396268%2C%20-49.03650495039735%5D%2C%20%5B-22.370368253592012%2C%20-49.03208854626301%5D%2C%20%5B-22.370440444286245%2C%20-49.03207873443307%5D%5D%2C%0A%20%20%20%20%20%20%20%20%20%20%20%20%20%20%20%20%7B%0A%20%20%20%20%20%20%20%20%20%20%20%20%20%20%20%20%20%20%20%20minOpacity%3A%200.5%2C%0A%20%20%20%20%20%20%20%20%20%20%20%20%20%20%20%20%20%20%20%20maxZoom%3A%2018%2C%0A%20%20%20%20%20%20%20%20%20%20%20%20%20%20%20%20%20%20%20%20max%3A%201.0%2C%0A%20%20%20%20%20%20%20%20%20%20%20%20%20%20%20%20%20%20%20%20radius%3A%2025%2C%0A%20%20%20%20%20%20%20%20%20%20%20%20%20%20%20%20%20%20%20%20blur%3A%2015%2C%0A%20%20%20%20%20%20%20%20%20%20%20%20%20%20%20%20%20%20%20%20gradient%3A%20null%0A%20%20%20%20%20%20%20%20%20%20%20%20%20%20%20%20%20%20%20%20%7D%29%0A%20%20%20%20%20%20%20%20%20%20%20%20%20%20%20%20.addTo%28map_9fd153ca0f114a97b68141f12bbae1a1%29%3B%0A%20%20%20%20%20%20%20%20%0A%3C/script%3E onload=\"this.contentDocument.open();this.contentDocument.write(    decodeURIComponent(this.getAttribute('data-html')));this.contentDocument.close();\" allowfullscreen webkitallowfullscreen mozallowfullscreen></iframe></div></div>"
            ],
            "text/plain": [
              "<folium.folium.Map at 0x7ff294432450>"
            ]
          },
          "metadata": {
            "tags": []
          },
          "execution_count": 13
        }
      ]
    },
    {
      "cell_type": "code",
      "metadata": {
        "colab": {
          "base_uri": "https://localhost:8080/",
          "height": 854
        },
        "id": "zJWyTRhkCasR",
        "outputId": "3bc4ac79-f91c-47b2-e521-ae865e6049c2"
      },
      "source": [
        "lat = -22.31472\n",
        "lng = -49.06056\n",
        "map_Bauru = folium.Map(location=[lat, lng], zoom_start=17)\n",
        "add_markers(df)\n",
        "folium.CircleMarker(\n",
        "    [lat, lng],\n",
        "    radius=15,\n",
        "    popup=\"Best Point!\",\n",
        "    color='green',\n",
        "    fill=True,\n",
        "    fill_color='#0000FF',\n",
        "    fill_opacity=0.7,\n",
        "    parse_html=False).add_to(map_Bauru)\n",
        "map_Bauru"
      ],
      "execution_count": 22,
      "outputs": [
        {
          "output_type": "execute_result",
          "data": {
            "text/html": [
              "<div style=\"width:100%;\"><div style=\"position:relative;width:100%;height:0;padding-bottom:60%;\"><span style=\"color:#565656\">Make this Notebook Trusted to load map: File -> Trust Notebook</span><iframe src=\"about:blank\" style=\"position:absolute;width:100%;height:100%;left:0;top:0;border:none !important;\" data-html=%3C%21DOCTYPE%20html%3E%0A%3Chead%3E%20%20%20%20%0A%20%20%20%20%3Cmeta%20http-equiv%3D%22content-type%22%20content%3D%22text/html%3B%20charset%3DUTF-8%22%20/%3E%0A%20%20%20%20%3Cscript%3EL_PREFER_CANVAS%3Dfalse%3B%20L_NO_TOUCH%3Dfalse%3B%20L_DISABLE_3D%3Dfalse%3B%3C/script%3E%0A%20%20%20%20%3Cscript%20src%3D%22https%3A//cdn.jsdelivr.net/npm/leaflet%401.4.0/dist/leaflet.js%22%3E%3C/script%3E%0A%20%20%20%20%3Cscript%20src%3D%22https%3A//code.jquery.com/jquery-1.12.4.min.js%22%3E%3C/script%3E%0A%20%20%20%20%3Cscript%20src%3D%22https%3A//maxcdn.bootstrapcdn.com/bootstrap/3.2.0/js/bootstrap.min.js%22%3E%3C/script%3E%0A%20%20%20%20%3Cscript%20src%3D%22https%3A//cdnjs.cloudflare.com/ajax/libs/Leaflet.awesome-markers/2.0.2/leaflet.awesome-markers.js%22%3E%3C/script%3E%0A%20%20%20%20%3Clink%20rel%3D%22stylesheet%22%20href%3D%22https%3A//cdn.jsdelivr.net/npm/leaflet%401.4.0/dist/leaflet.css%22/%3E%0A%20%20%20%20%3Clink%20rel%3D%22stylesheet%22%20href%3D%22https%3A//maxcdn.bootstrapcdn.com/bootstrap/3.2.0/css/bootstrap.min.css%22/%3E%0A%20%20%20%20%3Clink%20rel%3D%22stylesheet%22%20href%3D%22https%3A//maxcdn.bootstrapcdn.com/bootstrap/3.2.0/css/bootstrap-theme.min.css%22/%3E%0A%20%20%20%20%3Clink%20rel%3D%22stylesheet%22%20href%3D%22https%3A//maxcdn.bootstrapcdn.com/font-awesome/4.6.3/css/font-awesome.min.css%22/%3E%0A%20%20%20%20%3Clink%20rel%3D%22stylesheet%22%20href%3D%22https%3A//cdnjs.cloudflare.com/ajax/libs/Leaflet.awesome-markers/2.0.2/leaflet.awesome-markers.css%22/%3E%0A%20%20%20%20%3Clink%20rel%3D%22stylesheet%22%20href%3D%22https%3A//rawcdn.githack.com/python-visualization/folium/master/folium/templates/leaflet.awesome.rotate.css%22/%3E%0A%20%20%20%20%3Cstyle%3Ehtml%2C%20body%20%7Bwidth%3A%20100%25%3Bheight%3A%20100%25%3Bmargin%3A%200%3Bpadding%3A%200%3B%7D%3C/style%3E%0A%20%20%20%20%3Cstyle%3E%23map%20%7Bposition%3Aabsolute%3Btop%3A0%3Bbottom%3A0%3Bright%3A0%3Bleft%3A0%3B%7D%3C/style%3E%0A%20%20%20%20%0A%20%20%20%20%3Cmeta%20name%3D%22viewport%22%20content%3D%22width%3Ddevice-width%2C%0A%20%20%20%20%20%20%20%20initial-scale%3D1.0%2C%20maximum-scale%3D1.0%2C%20user-scalable%3Dno%22%20/%3E%0A%20%20%20%20%3Cstyle%3E%23map_e5b0404d5d6b48b795d5399e600dbad6%20%7B%0A%20%20%20%20%20%20%20%20position%3A%20relative%3B%0A%20%20%20%20%20%20%20%20width%3A%20100.0%25%3B%0A%20%20%20%20%20%20%20%20height%3A%20100.0%25%3B%0A%20%20%20%20%20%20%20%20left%3A%200.0%25%3B%0A%20%20%20%20%20%20%20%20top%3A%200.0%25%3B%0A%20%20%20%20%20%20%20%20%7D%0A%20%20%20%20%3C/style%3E%0A%3C/head%3E%0A%3Cbody%3E%20%20%20%20%0A%20%20%20%20%0A%20%20%20%20%3Cdiv%20class%3D%22folium-map%22%20id%3D%22map_e5b0404d5d6b48b795d5399e600dbad6%22%20%3E%3C/div%3E%0A%3C/body%3E%0A%3Cscript%3E%20%20%20%20%0A%20%20%20%20%0A%20%20%20%20%0A%20%20%20%20%20%20%20%20var%20bounds%20%3D%20null%3B%0A%20%20%20%20%0A%0A%20%20%20%20var%20map_e5b0404d5d6b48b795d5399e600dbad6%20%3D%20L.map%28%0A%20%20%20%20%20%20%20%20%27map_e5b0404d5d6b48b795d5399e600dbad6%27%2C%20%7B%0A%20%20%20%20%20%20%20%20center%3A%20%5B-22.31472%2C%20-49.06056%5D%2C%0A%20%20%20%20%20%20%20%20zoom%3A%2017%2C%0A%20%20%20%20%20%20%20%20maxBounds%3A%20bounds%2C%0A%20%20%20%20%20%20%20%20layers%3A%20%5B%5D%2C%0A%20%20%20%20%20%20%20%20worldCopyJump%3A%20false%2C%0A%20%20%20%20%20%20%20%20crs%3A%20L.CRS.EPSG3857%2C%0A%20%20%20%20%20%20%20%20zoomControl%3A%20true%2C%0A%20%20%20%20%20%20%20%20%7D%29%3B%0A%0A%0A%20%20%20%20%0A%20%20%20%20var%20tile_layer_7c9d5698f8d841cbaff0f231ec9272d0%20%3D%20L.tileLayer%28%0A%20%20%20%20%20%20%20%20%27https%3A//%7Bs%7D.tile.openstreetmap.org/%7Bz%7D/%7Bx%7D/%7By%7D.png%27%2C%0A%20%20%20%20%20%20%20%20%7B%0A%20%20%20%20%20%20%20%20%22attribution%22%3A%20null%2C%0A%20%20%20%20%20%20%20%20%22detectRetina%22%3A%20false%2C%0A%20%20%20%20%20%20%20%20%22maxNativeZoom%22%3A%2018%2C%0A%20%20%20%20%20%20%20%20%22maxZoom%22%3A%2018%2C%0A%20%20%20%20%20%20%20%20%22minZoom%22%3A%200%2C%0A%20%20%20%20%20%20%20%20%22noWrap%22%3A%20false%2C%0A%20%20%20%20%20%20%20%20%22opacity%22%3A%201%2C%0A%20%20%20%20%20%20%20%20%22subdomains%22%3A%20%22abc%22%2C%0A%20%20%20%20%20%20%20%20%22tms%22%3A%20false%0A%7D%29.addTo%28map_e5b0404d5d6b48b795d5399e600dbad6%29%3B%0A%20%20%20%20%0A%20%20%20%20%20%20%20%20%20%20%20%20var%20circle_marker_de5fd48b45554e158d68a81e2454c1a3%20%3D%20L.circleMarker%28%0A%20%20%20%20%20%20%20%20%20%20%20%20%20%20%20%20%5B-22.32081804942013%2C%20-49.06109806793662%5D%2C%0A%20%20%20%20%20%20%20%20%20%20%20%20%20%20%20%20%7B%0A%20%20%22bubblingMouseEvents%22%3A%20true%2C%0A%20%20%22color%22%3A%20%22red%22%2C%0A%20%20%22dashArray%22%3A%20null%2C%0A%20%20%22dashOffset%22%3A%20null%2C%0A%20%20%22fill%22%3A%20true%2C%0A%20%20%22fillColor%22%3A%20%22%233186cc%22%2C%0A%20%20%22fillOpacity%22%3A%200.7%2C%0A%20%20%22fillRule%22%3A%20%22evenodd%22%2C%0A%20%20%22lineCap%22%3A%20%22round%22%2C%0A%20%20%22lineJoin%22%3A%20%22round%22%2C%0A%20%20%22opacity%22%3A%201.0%2C%0A%20%20%22radius%22%3A%205%2C%0A%20%20%22stroke%22%3A%20true%2C%0A%20%20%22weight%22%3A%203%0A%7D%0A%20%20%20%20%20%20%20%20%20%20%20%20%20%20%20%20%29%0A%20%20%20%20%20%20%20%20%20%20%20%20%20%20%20%20.addTo%28map_e5b0404d5d6b48b795d5399e600dbad6%29%3B%0A%20%20%20%20%20%20%20%20%20%20%20%20%0A%20%20%20%20%0A%20%20%20%20%20%20%20%20%20%20%20%20var%20popup_0bf5a2ba4967426ca55abdd2549e394f%20%3D%20L.popup%28%7BmaxWidth%3A%20%27100%25%27%0A%20%20%20%20%20%20%20%20%20%20%20%20%0A%20%20%20%20%20%20%20%20%20%20%20%20%7D%29%3B%0A%0A%20%20%20%20%20%20%20%20%20%20%20%20%0A%20%20%20%20%20%20%20%20%20%20%20%20%20%20%20%20var%20html_07bd4041cbc346afbc57e5ca2a87dc8c%20%3D%20%24%28%60%3Cdiv%20id%3D%22html_07bd4041cbc346afbc57e5ca2a87dc8c%22%20style%3D%22width%3A%20100.0%25%3B%20height%3A%20100.0%25%3B%22%3EBar%20do%20Brecha%3C/div%3E%60%29%5B0%5D%3B%0A%20%20%20%20%20%20%20%20%20%20%20%20%20%20%20%20popup_0bf5a2ba4967426ca55abdd2549e394f.setContent%28html_07bd4041cbc346afbc57e5ca2a87dc8c%29%3B%0A%20%20%20%20%20%20%20%20%20%20%20%20%0A%0A%20%20%20%20%20%20%20%20%20%20%20%20circle_marker_de5fd48b45554e158d68a81e2454c1a3.bindPopup%28popup_0bf5a2ba4967426ca55abdd2549e394f%29%0A%20%20%20%20%20%20%20%20%20%20%20%20%3B%0A%0A%20%20%20%20%20%20%20%20%20%20%20%20%0A%20%20%20%20%20%20%20%20%0A%20%20%20%20%0A%20%20%20%20%20%20%20%20%20%20%20%20var%20circle_marker_00ba59dca23d4005a98e14eea6457637%20%3D%20L.circleMarker%28%0A%20%20%20%20%20%20%20%20%20%20%20%20%20%20%20%20%5B-22.327265281788748%2C%20-49.08034527551882%5D%2C%0A%20%20%20%20%20%20%20%20%20%20%20%20%20%20%20%20%7B%0A%20%20%22bubblingMouseEvents%22%3A%20true%2C%0A%20%20%22color%22%3A%20%22red%22%2C%0A%20%20%22dashArray%22%3A%20null%2C%0A%20%20%22dashOffset%22%3A%20null%2C%0A%20%20%22fill%22%3A%20true%2C%0A%20%20%22fillColor%22%3A%20%22%233186cc%22%2C%0A%20%20%22fillOpacity%22%3A%200.7%2C%0A%20%20%22fillRule%22%3A%20%22evenodd%22%2C%0A%20%20%22lineCap%22%3A%20%22round%22%2C%0A%20%20%22lineJoin%22%3A%20%22round%22%2C%0A%20%20%22opacity%22%3A%201.0%2C%0A%20%20%22radius%22%3A%205%2C%0A%20%20%22stroke%22%3A%20true%2C%0A%20%20%22weight%22%3A%203%0A%7D%0A%20%20%20%20%20%20%20%20%20%20%20%20%20%20%20%20%29%0A%20%20%20%20%20%20%20%20%20%20%20%20%20%20%20%20.addTo%28map_e5b0404d5d6b48b795d5399e600dbad6%29%3B%0A%20%20%20%20%20%20%20%20%20%20%20%20%0A%20%20%20%20%0A%20%20%20%20%20%20%20%20%20%20%20%20var%20popup_93c6c0cf7a4545eb87e34ebffb0e0ccb%20%3D%20L.popup%28%7BmaxWidth%3A%20%27100%25%27%0A%20%20%20%20%20%20%20%20%20%20%20%20%0A%20%20%20%20%20%20%20%20%20%20%20%20%7D%29%3B%0A%0A%20%20%20%20%20%20%20%20%20%20%20%20%0A%20%20%20%20%20%20%20%20%20%20%20%20%20%20%20%20var%20html_ea3c052039de46b8a4e0ae6145a8531f%20%3D%20%24%28%60%3Cdiv%20id%3D%22html_ea3c052039de46b8a4e0ae6145a8531f%22%20style%3D%22width%3A%20100.0%25%3B%20height%3A%20100.0%25%3B%22%3EArmaz%C3%A9n%20Bar%3C/div%3E%60%29%5B0%5D%3B%0A%20%20%20%20%20%20%20%20%20%20%20%20%20%20%20%20popup_93c6c0cf7a4545eb87e34ebffb0e0ccb.setContent%28html_ea3c052039de46b8a4e0ae6145a8531f%29%3B%0A%20%20%20%20%20%20%20%20%20%20%20%20%0A%0A%20%20%20%20%20%20%20%20%20%20%20%20circle_marker_00ba59dca23d4005a98e14eea6457637.bindPopup%28popup_93c6c0cf7a4545eb87e34ebffb0e0ccb%29%0A%20%20%20%20%20%20%20%20%20%20%20%20%3B%0A%0A%20%20%20%20%20%20%20%20%20%20%20%20%0A%20%20%20%20%20%20%20%20%0A%20%20%20%20%0A%20%20%20%20%20%20%20%20%20%20%20%20var%20circle_marker_d8bd7360a936428fa103d1367fd68572%20%3D%20L.circleMarker%28%0A%20%20%20%20%20%20%20%20%20%20%20%20%20%20%20%20%5B-22.32844063301152%2C%20-49.063031272747274%5D%2C%0A%20%20%20%20%20%20%20%20%20%20%20%20%20%20%20%20%7B%0A%20%20%22bubblingMouseEvents%22%3A%20true%2C%0A%20%20%22color%22%3A%20%22red%22%2C%0A%20%20%22dashArray%22%3A%20null%2C%0A%20%20%22dashOffset%22%3A%20null%2C%0A%20%20%22fill%22%3A%20true%2C%0A%20%20%22fillColor%22%3A%20%22%233186cc%22%2C%0A%20%20%22fillOpacity%22%3A%200.7%2C%0A%20%20%22fillRule%22%3A%20%22evenodd%22%2C%0A%20%20%22lineCap%22%3A%20%22round%22%2C%0A%20%20%22lineJoin%22%3A%20%22round%22%2C%0A%20%20%22opacity%22%3A%201.0%2C%0A%20%20%22radius%22%3A%205%2C%0A%20%20%22stroke%22%3A%20true%2C%0A%20%20%22weight%22%3A%203%0A%7D%0A%20%20%20%20%20%20%20%20%20%20%20%20%20%20%20%20%29%0A%20%20%20%20%20%20%20%20%20%20%20%20%20%20%20%20.addTo%28map_e5b0404d5d6b48b795d5399e600dbad6%29%3B%0A%20%20%20%20%20%20%20%20%20%20%20%20%0A%20%20%20%20%0A%20%20%20%20%20%20%20%20%20%20%20%20var%20popup_f52539bc0cef4f25a586b1472ee73565%20%3D%20L.popup%28%7BmaxWidth%3A%20%27100%25%27%0A%20%20%20%20%20%20%20%20%20%20%20%20%0A%20%20%20%20%20%20%20%20%20%20%20%20%7D%29%3B%0A%0A%20%20%20%20%20%20%20%20%20%20%20%20%0A%20%20%20%20%20%20%20%20%20%20%20%20%20%20%20%20var%20html_ab1059993e414bb8aa61f1e653759865%20%3D%20%24%28%60%3Cdiv%20id%3D%22html_ab1059993e414bb8aa61f1e653759865%22%20style%3D%22width%3A%20100.0%25%3B%20height%3A%20100.0%25%3B%22%3EBar%20da%20Rosa%3C/div%3E%60%29%5B0%5D%3B%0A%20%20%20%20%20%20%20%20%20%20%20%20%20%20%20%20popup_f52539bc0cef4f25a586b1472ee73565.setContent%28html_ab1059993e414bb8aa61f1e653759865%29%3B%0A%20%20%20%20%20%20%20%20%20%20%20%20%0A%0A%20%20%20%20%20%20%20%20%20%20%20%20circle_marker_d8bd7360a936428fa103d1367fd68572.bindPopup%28popup_f52539bc0cef4f25a586b1472ee73565%29%0A%20%20%20%20%20%20%20%20%20%20%20%20%3B%0A%0A%20%20%20%20%20%20%20%20%20%20%20%20%0A%20%20%20%20%20%20%20%20%0A%20%20%20%20%0A%20%20%20%20%20%20%20%20%20%20%20%20var%20circle_marker_64c91f4f74da4c1d8ae3ff07f93ed64c%20%3D%20L.circleMarker%28%0A%20%20%20%20%20%20%20%20%20%20%20%20%20%20%20%20%5B-22.316144880180996%2C%20-49.06606631866441%5D%2C%0A%20%20%20%20%20%20%20%20%20%20%20%20%20%20%20%20%7B%0A%20%20%22bubblingMouseEvents%22%3A%20true%2C%0A%20%20%22color%22%3A%20%22red%22%2C%0A%20%20%22dashArray%22%3A%20null%2C%0A%20%20%22dashOffset%22%3A%20null%2C%0A%20%20%22fill%22%3A%20true%2C%0A%20%20%22fillColor%22%3A%20%22%233186cc%22%2C%0A%20%20%22fillOpacity%22%3A%200.7%2C%0A%20%20%22fillRule%22%3A%20%22evenodd%22%2C%0A%20%20%22lineCap%22%3A%20%22round%22%2C%0A%20%20%22lineJoin%22%3A%20%22round%22%2C%0A%20%20%22opacity%22%3A%201.0%2C%0A%20%20%22radius%22%3A%205%2C%0A%20%20%22stroke%22%3A%20true%2C%0A%20%20%22weight%22%3A%203%0A%7D%0A%20%20%20%20%20%20%20%20%20%20%20%20%20%20%20%20%29%0A%20%20%20%20%20%20%20%20%20%20%20%20%20%20%20%20.addTo%28map_e5b0404d5d6b48b795d5399e600dbad6%29%3B%0A%20%20%20%20%20%20%20%20%20%20%20%20%0A%20%20%20%20%0A%20%20%20%20%20%20%20%20%20%20%20%20var%20popup_abf262c3fc6247b5bca6bf8e46b7c633%20%3D%20L.popup%28%7BmaxWidth%3A%20%27100%25%27%0A%20%20%20%20%20%20%20%20%20%20%20%20%0A%20%20%20%20%20%20%20%20%20%20%20%20%7D%29%3B%0A%0A%20%20%20%20%20%20%20%20%20%20%20%20%0A%20%20%20%20%20%20%20%20%20%20%20%20%20%20%20%20var%20html_99e8823411d74f8ba726aedc2a4e6a43%20%3D%20%24%28%60%3Cdiv%20id%3D%22html_99e8823411d74f8ba726aedc2a4e6a43%22%20style%3D%22width%3A%20100.0%25%3B%20height%3A%20100.0%25%3B%22%3EQuiosque%20Chopp%20Brahma%3C/div%3E%60%29%5B0%5D%3B%0A%20%20%20%20%20%20%20%20%20%20%20%20%20%20%20%20popup_abf262c3fc6247b5bca6bf8e46b7c633.setContent%28html_99e8823411d74f8ba726aedc2a4e6a43%29%3B%0A%20%20%20%20%20%20%20%20%20%20%20%20%0A%0A%20%20%20%20%20%20%20%20%20%20%20%20circle_marker_64c91f4f74da4c1d8ae3ff07f93ed64c.bindPopup%28popup_abf262c3fc6247b5bca6bf8e46b7c633%29%0A%20%20%20%20%20%20%20%20%20%20%20%20%3B%0A%0A%20%20%20%20%20%20%20%20%20%20%20%20%0A%20%20%20%20%20%20%20%20%0A%20%20%20%20%0A%20%20%20%20%20%20%20%20%20%20%20%20var%20circle_marker_e483b9e82ce8479d9fcee3b0ea4d9a32%20%3D%20L.circleMarker%28%0A%20%20%20%20%20%20%20%20%20%20%20%20%20%20%20%20%5B-22.33628036822966%2C%20-49.06626257178629%5D%2C%0A%20%20%20%20%20%20%20%20%20%20%20%20%20%20%20%20%7B%0A%20%20%22bubblingMouseEvents%22%3A%20true%2C%0A%20%20%22color%22%3A%20%22red%22%2C%0A%20%20%22dashArray%22%3A%20null%2C%0A%20%20%22dashOffset%22%3A%20null%2C%0A%20%20%22fill%22%3A%20true%2C%0A%20%20%22fillColor%22%3A%20%22%233186cc%22%2C%0A%20%20%22fillOpacity%22%3A%200.7%2C%0A%20%20%22fillRule%22%3A%20%22evenodd%22%2C%0A%20%20%22lineCap%22%3A%20%22round%22%2C%0A%20%20%22lineJoin%22%3A%20%22round%22%2C%0A%20%20%22opacity%22%3A%201.0%2C%0A%20%20%22radius%22%3A%205%2C%0A%20%20%22stroke%22%3A%20true%2C%0A%20%20%22weight%22%3A%203%0A%7D%0A%20%20%20%20%20%20%20%20%20%20%20%20%20%20%20%20%29%0A%20%20%20%20%20%20%20%20%20%20%20%20%20%20%20%20.addTo%28map_e5b0404d5d6b48b795d5399e600dbad6%29%3B%0A%20%20%20%20%20%20%20%20%20%20%20%20%0A%20%20%20%20%0A%20%20%20%20%20%20%20%20%20%20%20%20var%20popup_23283a85bef54603b9880e293dd514c8%20%3D%20L.popup%28%7BmaxWidth%3A%20%27100%25%27%0A%20%20%20%20%20%20%20%20%20%20%20%20%0A%20%20%20%20%20%20%20%20%20%20%20%20%7D%29%3B%0A%0A%20%20%20%20%20%20%20%20%20%20%20%20%0A%20%20%20%20%20%20%20%20%20%20%20%20%20%20%20%20var%20html_665b8fbba6f84de28f9ad52316fa2d9a%20%3D%20%24%28%60%3Cdiv%20id%3D%22html_665b8fbba6f84de28f9ad52316fa2d9a%22%20style%3D%22width%3A%20100.0%25%3B%20height%3A%20100.0%25%3B%22%3ESAMPA%2027-28%3C/div%3E%60%29%5B0%5D%3B%0A%20%20%20%20%20%20%20%20%20%20%20%20%20%20%20%20popup_23283a85bef54603b9880e293dd514c8.setContent%28html_665b8fbba6f84de28f9ad52316fa2d9a%29%3B%0A%20%20%20%20%20%20%20%20%20%20%20%20%0A%0A%20%20%20%20%20%20%20%20%20%20%20%20circle_marker_e483b9e82ce8479d9fcee3b0ea4d9a32.bindPopup%28popup_23283a85bef54603b9880e293dd514c8%29%0A%20%20%20%20%20%20%20%20%20%20%20%20%3B%0A%0A%20%20%20%20%20%20%20%20%20%20%20%20%0A%20%20%20%20%20%20%20%20%0A%20%20%20%20%0A%20%20%20%20%20%20%20%20%20%20%20%20var%20circle_marker_15b75042bfcf4e0f82bc05ef518db304%20%3D%20L.circleMarker%28%0A%20%20%20%20%20%20%20%20%20%20%20%20%20%20%20%20%5B-22.32445056467674%2C%20-49.06782299509416%5D%2C%0A%20%20%20%20%20%20%20%20%20%20%20%20%20%20%20%20%7B%0A%20%20%22bubblingMouseEvents%22%3A%20true%2C%0A%20%20%22color%22%3A%20%22red%22%2C%0A%20%20%22dashArray%22%3A%20null%2C%0A%20%20%22dashOffset%22%3A%20null%2C%0A%20%20%22fill%22%3A%20true%2C%0A%20%20%22fillColor%22%3A%20%22%233186cc%22%2C%0A%20%20%22fillOpacity%22%3A%200.7%2C%0A%20%20%22fillRule%22%3A%20%22evenodd%22%2C%0A%20%20%22lineCap%22%3A%20%22round%22%2C%0A%20%20%22lineJoin%22%3A%20%22round%22%2C%0A%20%20%22opacity%22%3A%201.0%2C%0A%20%20%22radius%22%3A%205%2C%0A%20%20%22stroke%22%3A%20true%2C%0A%20%20%22weight%22%3A%203%0A%7D%0A%20%20%20%20%20%20%20%20%20%20%20%20%20%20%20%20%29%0A%20%20%20%20%20%20%20%20%20%20%20%20%20%20%20%20.addTo%28map_e5b0404d5d6b48b795d5399e600dbad6%29%3B%0A%20%20%20%20%20%20%20%20%20%20%20%20%0A%20%20%20%20%0A%20%20%20%20%20%20%20%20%20%20%20%20var%20popup_303667abd6454555bdf60233cfa7d54f%20%3D%20L.popup%28%7BmaxWidth%3A%20%27100%25%27%0A%20%20%20%20%20%20%20%20%20%20%20%20%0A%20%20%20%20%20%20%20%20%20%20%20%20%7D%29%3B%0A%0A%20%20%20%20%20%20%20%20%20%20%20%20%0A%20%20%20%20%20%20%20%20%20%20%20%20%20%20%20%20var%20html_ffa4c66f622b45038cc9544de2d00175%20%3D%20%24%28%60%3Cdiv%20id%3D%22html_ffa4c66f622b45038cc9544de2d00175%22%20style%3D%22width%3A%20100.0%25%3B%20height%3A%20100.0%25%3B%22%3ETemplo%20Bar%3C/div%3E%60%29%5B0%5D%3B%0A%20%20%20%20%20%20%20%20%20%20%20%20%20%20%20%20popup_303667abd6454555bdf60233cfa7d54f.setContent%28html_ffa4c66f622b45038cc9544de2d00175%29%3B%0A%20%20%20%20%20%20%20%20%20%20%20%20%0A%0A%20%20%20%20%20%20%20%20%20%20%20%20circle_marker_15b75042bfcf4e0f82bc05ef518db304.bindPopup%28popup_303667abd6454555bdf60233cfa7d54f%29%0A%20%20%20%20%20%20%20%20%20%20%20%20%3B%0A%0A%20%20%20%20%20%20%20%20%20%20%20%20%0A%20%20%20%20%20%20%20%20%0A%20%20%20%20%0A%20%20%20%20%20%20%20%20%20%20%20%20var%20circle_marker_e69b9a11fbb945f988cd0b2ed9ceb530%20%3D%20L.circleMarker%28%0A%20%20%20%20%20%20%20%20%20%20%20%20%20%20%20%20%5B-22.32673510802182%2C%20-49.09756224498337%5D%2C%0A%20%20%20%20%20%20%20%20%20%20%20%20%20%20%20%20%7B%0A%20%20%22bubblingMouseEvents%22%3A%20true%2C%0A%20%20%22color%22%3A%20%22red%22%2C%0A%20%20%22dashArray%22%3A%20null%2C%0A%20%20%22dashOffset%22%3A%20null%2C%0A%20%20%22fill%22%3A%20true%2C%0A%20%20%22fillColor%22%3A%20%22%233186cc%22%2C%0A%20%20%22fillOpacity%22%3A%200.7%2C%0A%20%20%22fillRule%22%3A%20%22evenodd%22%2C%0A%20%20%22lineCap%22%3A%20%22round%22%2C%0A%20%20%22lineJoin%22%3A%20%22round%22%2C%0A%20%20%22opacity%22%3A%201.0%2C%0A%20%20%22radius%22%3A%205%2C%0A%20%20%22stroke%22%3A%20true%2C%0A%20%20%22weight%22%3A%203%0A%7D%0A%20%20%20%20%20%20%20%20%20%20%20%20%20%20%20%20%29%0A%20%20%20%20%20%20%20%20%20%20%20%20%20%20%20%20.addTo%28map_e5b0404d5d6b48b795d5399e600dbad6%29%3B%0A%20%20%20%20%20%20%20%20%20%20%20%20%0A%20%20%20%20%0A%20%20%20%20%20%20%20%20%20%20%20%20var%20popup_62eb796dcea944df8c3d0b5de661750b%20%3D%20L.popup%28%7BmaxWidth%3A%20%27100%25%27%0A%20%20%20%20%20%20%20%20%20%20%20%20%0A%20%20%20%20%20%20%20%20%20%20%20%20%7D%29%3B%0A%0A%20%20%20%20%20%20%20%20%20%20%20%20%0A%20%20%20%20%20%20%20%20%20%20%20%20%20%20%20%20var%20html_c939400b4bd94556b853740c57c619d0%20%3D%20%24%28%60%3Cdiv%20id%3D%22html_c939400b4bd94556b853740c57c619d0%22%20style%3D%22width%3A%20100.0%25%3B%20height%3A%20100.0%25%3B%22%3EBar%20do%20Tot%C3%B3%3C/div%3E%60%29%5B0%5D%3B%0A%20%20%20%20%20%20%20%20%20%20%20%20%20%20%20%20popup_62eb796dcea944df8c3d0b5de661750b.setContent%28html_c939400b4bd94556b853740c57c619d0%29%3B%0A%20%20%20%20%20%20%20%20%20%20%20%20%0A%0A%20%20%20%20%20%20%20%20%20%20%20%20circle_marker_e69b9a11fbb945f988cd0b2ed9ceb530.bindPopup%28popup_62eb796dcea944df8c3d0b5de661750b%29%0A%20%20%20%20%20%20%20%20%20%20%20%20%3B%0A%0A%20%20%20%20%20%20%20%20%20%20%20%20%0A%20%20%20%20%20%20%20%20%0A%20%20%20%20%0A%20%20%20%20%20%20%20%20%20%20%20%20var%20circle_marker_e8da50bcc944499b8a606b17168ce396%20%3D%20L.circleMarker%28%0A%20%20%20%20%20%20%20%20%20%20%20%20%20%20%20%20%5B-22.33019540909651%2C%20-49.0532576643798%5D%2C%0A%20%20%20%20%20%20%20%20%20%20%20%20%20%20%20%20%7B%0A%20%20%22bubblingMouseEvents%22%3A%20true%2C%0A%20%20%22color%22%3A%20%22red%22%2C%0A%20%20%22dashArray%22%3A%20null%2C%0A%20%20%22dashOffset%22%3A%20null%2C%0A%20%20%22fill%22%3A%20true%2C%0A%20%20%22fillColor%22%3A%20%22%233186cc%22%2C%0A%20%20%22fillOpacity%22%3A%200.7%2C%0A%20%20%22fillRule%22%3A%20%22evenodd%22%2C%0A%20%20%22lineCap%22%3A%20%22round%22%2C%0A%20%20%22lineJoin%22%3A%20%22round%22%2C%0A%20%20%22opacity%22%3A%201.0%2C%0A%20%20%22radius%22%3A%205%2C%0A%20%20%22stroke%22%3A%20true%2C%0A%20%20%22weight%22%3A%203%0A%7D%0A%20%20%20%20%20%20%20%20%20%20%20%20%20%20%20%20%29%0A%20%20%20%20%20%20%20%20%20%20%20%20%20%20%20%20.addTo%28map_e5b0404d5d6b48b795d5399e600dbad6%29%3B%0A%20%20%20%20%20%20%20%20%20%20%20%20%0A%20%20%20%20%0A%20%20%20%20%20%20%20%20%20%20%20%20var%20popup_7a497760aa6240ac869c687649114beb%20%3D%20L.popup%28%7BmaxWidth%3A%20%27100%25%27%0A%20%20%20%20%20%20%20%20%20%20%20%20%0A%20%20%20%20%20%20%20%20%20%20%20%20%7D%29%3B%0A%0A%20%20%20%20%20%20%20%20%20%20%20%20%0A%20%20%20%20%20%20%20%20%20%20%20%20%20%20%20%20var%20html_97102601f94241caa4012238e35e1b29%20%3D%20%24%28%60%3Cdiv%20id%3D%22html_97102601f94241caa4012238e35e1b29%22%20style%3D%22width%3A%20100.0%25%3B%20height%3A%20100.0%25%3B%22%3EEsquina%20do%20Herbie%3C/div%3E%60%29%5B0%5D%3B%0A%20%20%20%20%20%20%20%20%20%20%20%20%20%20%20%20popup_7a497760aa6240ac869c687649114beb.setContent%28html_97102601f94241caa4012238e35e1b29%29%3B%0A%20%20%20%20%20%20%20%20%20%20%20%20%0A%0A%20%20%20%20%20%20%20%20%20%20%20%20circle_marker_e8da50bcc944499b8a606b17168ce396.bindPopup%28popup_7a497760aa6240ac869c687649114beb%29%0A%20%20%20%20%20%20%20%20%20%20%20%20%3B%0A%0A%20%20%20%20%20%20%20%20%20%20%20%20%0A%20%20%20%20%20%20%20%20%0A%20%20%20%20%0A%20%20%20%20%20%20%20%20%20%20%20%20var%20circle_marker_99f971dcd00244d18d011f0075e90bbc%20%3D%20L.circleMarker%28%0A%20%20%20%20%20%20%20%20%20%20%20%20%20%20%20%20%5B-22.32908168378931%2C%20-49.06847209024607%5D%2C%0A%20%20%20%20%20%20%20%20%20%20%20%20%20%20%20%20%7B%0A%20%20%22bubblingMouseEvents%22%3A%20true%2C%0A%20%20%22color%22%3A%20%22red%22%2C%0A%20%20%22dashArray%22%3A%20null%2C%0A%20%20%22dashOffset%22%3A%20null%2C%0A%20%20%22fill%22%3A%20true%2C%0A%20%20%22fillColor%22%3A%20%22%233186cc%22%2C%0A%20%20%22fillOpacity%22%3A%200.7%2C%0A%20%20%22fillRule%22%3A%20%22evenodd%22%2C%0A%20%20%22lineCap%22%3A%20%22round%22%2C%0A%20%20%22lineJoin%22%3A%20%22round%22%2C%0A%20%20%22opacity%22%3A%201.0%2C%0A%20%20%22radius%22%3A%205%2C%0A%20%20%22stroke%22%3A%20true%2C%0A%20%20%22weight%22%3A%203%0A%7D%0A%20%20%20%20%20%20%20%20%20%20%20%20%20%20%20%20%29%0A%20%20%20%20%20%20%20%20%20%20%20%20%20%20%20%20.addTo%28map_e5b0404d5d6b48b795d5399e600dbad6%29%3B%0A%20%20%20%20%20%20%20%20%20%20%20%20%0A%20%20%20%20%0A%20%20%20%20%20%20%20%20%20%20%20%20var%20popup_4b5c5309a8cf451da513016e544ff264%20%3D%20L.popup%28%7BmaxWidth%3A%20%27100%25%27%0A%20%20%20%20%20%20%20%20%20%20%20%20%0A%20%20%20%20%20%20%20%20%20%20%20%20%7D%29%3B%0A%0A%20%20%20%20%20%20%20%20%20%20%20%20%0A%20%20%20%20%20%20%20%20%20%20%20%20%20%20%20%20var%20html_633a8160042e408189d417ccab3c39f0%20%3D%20%24%28%60%3Cdiv%20id%3D%22html_633a8160042e408189d417ccab3c39f0%22%20style%3D%22width%3A%20100.0%25%3B%20height%3A%20100.0%25%3B%22%3EJack%20Music%20Pub%3C/div%3E%60%29%5B0%5D%3B%0A%20%20%20%20%20%20%20%20%20%20%20%20%20%20%20%20popup_4b5c5309a8cf451da513016e544ff264.setContent%28html_633a8160042e408189d417ccab3c39f0%29%3B%0A%20%20%20%20%20%20%20%20%20%20%20%20%0A%0A%20%20%20%20%20%20%20%20%20%20%20%20circle_marker_99f971dcd00244d18d011f0075e90bbc.bindPopup%28popup_4b5c5309a8cf451da513016e544ff264%29%0A%20%20%20%20%20%20%20%20%20%20%20%20%3B%0A%0A%20%20%20%20%20%20%20%20%20%20%20%20%0A%20%20%20%20%20%20%20%20%0A%20%20%20%20%0A%20%20%20%20%20%20%20%20%20%20%20%20var%20circle_marker_12306c0a0bfa4d5aaf2cd715a4fca7fc%20%3D%20L.circleMarker%28%0A%20%20%20%20%20%20%20%20%20%20%20%20%20%20%20%20%5B-22.341967259718395%2C%20-49.04940548953373%5D%2C%0A%20%20%20%20%20%20%20%20%20%20%20%20%20%20%20%20%7B%0A%20%20%22bubblingMouseEvents%22%3A%20true%2C%0A%20%20%22color%22%3A%20%22red%22%2C%0A%20%20%22dashArray%22%3A%20null%2C%0A%20%20%22dashOffset%22%3A%20null%2C%0A%20%20%22fill%22%3A%20true%2C%0A%20%20%22fillColor%22%3A%20%22%233186cc%22%2C%0A%20%20%22fillOpacity%22%3A%200.7%2C%0A%20%20%22fillRule%22%3A%20%22evenodd%22%2C%0A%20%20%22lineCap%22%3A%20%22round%22%2C%0A%20%20%22lineJoin%22%3A%20%22round%22%2C%0A%20%20%22opacity%22%3A%201.0%2C%0A%20%20%22radius%22%3A%205%2C%0A%20%20%22stroke%22%3A%20true%2C%0A%20%20%22weight%22%3A%203%0A%7D%0A%20%20%20%20%20%20%20%20%20%20%20%20%20%20%20%20%29%0A%20%20%20%20%20%20%20%20%20%20%20%20%20%20%20%20.addTo%28map_e5b0404d5d6b48b795d5399e600dbad6%29%3B%0A%20%20%20%20%20%20%20%20%20%20%20%20%0A%20%20%20%20%0A%20%20%20%20%20%20%20%20%20%20%20%20var%20popup_936a28fa08dc455a854c587342e4b8c7%20%3D%20L.popup%28%7BmaxWidth%3A%20%27100%25%27%0A%20%20%20%20%20%20%20%20%20%20%20%20%0A%20%20%20%20%20%20%20%20%20%20%20%20%7D%29%3B%0A%0A%20%20%20%20%20%20%20%20%20%20%20%20%0A%20%20%20%20%20%20%20%20%20%20%20%20%20%20%20%20var%20html_8d31cd0acacd4c40b2beaebf0d8a0618%20%3D%20%24%28%60%3Cdiv%20id%3D%22html_8d31cd0acacd4c40b2beaebf0d8a0618%22%20style%3D%22width%3A%20100.0%25%3B%20height%3A%20100.0%25%3B%22%3EQuiosque%20Chopp%20Brahma%3C/div%3E%60%29%5B0%5D%3B%0A%20%20%20%20%20%20%20%20%20%20%20%20%20%20%20%20popup_936a28fa08dc455a854c587342e4b8c7.setContent%28html_8d31cd0acacd4c40b2beaebf0d8a0618%29%3B%0A%20%20%20%20%20%20%20%20%20%20%20%20%0A%0A%20%20%20%20%20%20%20%20%20%20%20%20circle_marker_12306c0a0bfa4d5aaf2cd715a4fca7fc.bindPopup%28popup_936a28fa08dc455a854c587342e4b8c7%29%0A%20%20%20%20%20%20%20%20%20%20%20%20%3B%0A%0A%20%20%20%20%20%20%20%20%20%20%20%20%0A%20%20%20%20%20%20%20%20%0A%20%20%20%20%0A%20%20%20%20%20%20%20%20%20%20%20%20var%20circle_marker_54c498ea83c54bfd9311d4f566b5b4d2%20%3D%20L.circleMarker%28%0A%20%20%20%20%20%20%20%20%20%20%20%20%20%20%20%20%5B-22.347412%2C%20-49.054977%5D%2C%0A%20%20%20%20%20%20%20%20%20%20%20%20%20%20%20%20%7B%0A%20%20%22bubblingMouseEvents%22%3A%20true%2C%0A%20%20%22color%22%3A%20%22red%22%2C%0A%20%20%22dashArray%22%3A%20null%2C%0A%20%20%22dashOffset%22%3A%20null%2C%0A%20%20%22fill%22%3A%20true%2C%0A%20%20%22fillColor%22%3A%20%22%233186cc%22%2C%0A%20%20%22fillOpacity%22%3A%200.7%2C%0A%20%20%22fillRule%22%3A%20%22evenodd%22%2C%0A%20%20%22lineCap%22%3A%20%22round%22%2C%0A%20%20%22lineJoin%22%3A%20%22round%22%2C%0A%20%20%22opacity%22%3A%201.0%2C%0A%20%20%22radius%22%3A%205%2C%0A%20%20%22stroke%22%3A%20true%2C%0A%20%20%22weight%22%3A%203%0A%7D%0A%20%20%20%20%20%20%20%20%20%20%20%20%20%20%20%20%29%0A%20%20%20%20%20%20%20%20%20%20%20%20%20%20%20%20.addTo%28map_e5b0404d5d6b48b795d5399e600dbad6%29%3B%0A%20%20%20%20%20%20%20%20%20%20%20%20%0A%20%20%20%20%0A%20%20%20%20%20%20%20%20%20%20%20%20var%20popup_54b357f992404587865da1a6bf814e4d%20%3D%20L.popup%28%7BmaxWidth%3A%20%27100%25%27%0A%20%20%20%20%20%20%20%20%20%20%20%20%0A%20%20%20%20%20%20%20%20%20%20%20%20%7D%29%3B%0A%0A%20%20%20%20%20%20%20%20%20%20%20%20%0A%20%20%20%20%20%20%20%20%20%20%20%20%20%20%20%20var%20html_b2665c8c0612471b8019d6a8412349d9%20%3D%20%24%28%60%3Cdiv%20id%3D%22html_b2665c8c0612471b8019d6a8412349d9%22%20style%3D%22width%3A%20100.0%25%3B%20height%3A%20100.0%25%3B%22%3EL%26%2339%3BOppen%20Caf%C3%A9%20Bar%3C/div%3E%60%29%5B0%5D%3B%0A%20%20%20%20%20%20%20%20%20%20%20%20%20%20%20%20popup_54b357f992404587865da1a6bf814e4d.setContent%28html_b2665c8c0612471b8019d6a8412349d9%29%3B%0A%20%20%20%20%20%20%20%20%20%20%20%20%0A%0A%20%20%20%20%20%20%20%20%20%20%20%20circle_marker_54c498ea83c54bfd9311d4f566b5b4d2.bindPopup%28popup_54b357f992404587865da1a6bf814e4d%29%0A%20%20%20%20%20%20%20%20%20%20%20%20%3B%0A%0A%20%20%20%20%20%20%20%20%20%20%20%20%0A%20%20%20%20%20%20%20%20%0A%20%20%20%20%0A%20%20%20%20%20%20%20%20%20%20%20%20var%20circle_marker_cfc4fe6d12514fdcb77c1fc89cb4a71b%20%3D%20L.circleMarker%28%0A%20%20%20%20%20%20%20%20%20%20%20%20%20%20%20%20%5B-22.368588660491575%2C%20-49.05687598492359%5D%2C%0A%20%20%20%20%20%20%20%20%20%20%20%20%20%20%20%20%7B%0A%20%20%22bubblingMouseEvents%22%3A%20true%2C%0A%20%20%22color%22%3A%20%22red%22%2C%0A%20%20%22dashArray%22%3A%20null%2C%0A%20%20%22dashOffset%22%3A%20null%2C%0A%20%20%22fill%22%3A%20true%2C%0A%20%20%22fillColor%22%3A%20%22%233186cc%22%2C%0A%20%20%22fillOpacity%22%3A%200.7%2C%0A%20%20%22fillRule%22%3A%20%22evenodd%22%2C%0A%20%20%22lineCap%22%3A%20%22round%22%2C%0A%20%20%22lineJoin%22%3A%20%22round%22%2C%0A%20%20%22opacity%22%3A%201.0%2C%0A%20%20%22radius%22%3A%205%2C%0A%20%20%22stroke%22%3A%20true%2C%0A%20%20%22weight%22%3A%203%0A%7D%0A%20%20%20%20%20%20%20%20%20%20%20%20%20%20%20%20%29%0A%20%20%20%20%20%20%20%20%20%20%20%20%20%20%20%20.addTo%28map_e5b0404d5d6b48b795d5399e600dbad6%29%3B%0A%20%20%20%20%20%20%20%20%20%20%20%20%0A%20%20%20%20%0A%20%20%20%20%20%20%20%20%20%20%20%20var%20popup_c14d041a78dc4f6dbf669d0d37629e73%20%3D%20L.popup%28%7BmaxWidth%3A%20%27100%25%27%0A%20%20%20%20%20%20%20%20%20%20%20%20%0A%20%20%20%20%20%20%20%20%20%20%20%20%7D%29%3B%0A%0A%20%20%20%20%20%20%20%20%20%20%20%20%0A%20%20%20%20%20%20%20%20%20%20%20%20%20%20%20%20var%20html_2fcdaec080d449b4b55a5a71d90f56b3%20%3D%20%24%28%60%3Cdiv%20id%3D%22html_2fcdaec080d449b4b55a5a71d90f56b3%22%20style%3D%22width%3A%20100.0%25%3B%20height%3A%20100.0%25%3B%22%3EVilla%20do%20Chopp%3C/div%3E%60%29%5B0%5D%3B%0A%20%20%20%20%20%20%20%20%20%20%20%20%20%20%20%20popup_c14d041a78dc4f6dbf669d0d37629e73.setContent%28html_2fcdaec080d449b4b55a5a71d90f56b3%29%3B%0A%20%20%20%20%20%20%20%20%20%20%20%20%0A%0A%20%20%20%20%20%20%20%20%20%20%20%20circle_marker_cfc4fe6d12514fdcb77c1fc89cb4a71b.bindPopup%28popup_c14d041a78dc4f6dbf669d0d37629e73%29%0A%20%20%20%20%20%20%20%20%20%20%20%20%3B%0A%0A%20%20%20%20%20%20%20%20%20%20%20%20%0A%20%20%20%20%20%20%20%20%0A%20%20%20%20%0A%20%20%20%20%20%20%20%20%20%20%20%20var%20circle_marker_fbf4554379c14cd6bc7bb1ac8d2e6add%20%3D%20L.circleMarker%28%0A%20%20%20%20%20%20%20%20%20%20%20%20%20%20%20%20%5B-22.344769105970418%2C%20-49.0631372054267%5D%2C%0A%20%20%20%20%20%20%20%20%20%20%20%20%20%20%20%20%7B%0A%20%20%22bubblingMouseEvents%22%3A%20true%2C%0A%20%20%22color%22%3A%20%22red%22%2C%0A%20%20%22dashArray%22%3A%20null%2C%0A%20%20%22dashOffset%22%3A%20null%2C%0A%20%20%22fill%22%3A%20true%2C%0A%20%20%22fillColor%22%3A%20%22%233186cc%22%2C%0A%20%20%22fillOpacity%22%3A%200.7%2C%0A%20%20%22fillRule%22%3A%20%22evenodd%22%2C%0A%20%20%22lineCap%22%3A%20%22round%22%2C%0A%20%20%22lineJoin%22%3A%20%22round%22%2C%0A%20%20%22opacity%22%3A%201.0%2C%0A%20%20%22radius%22%3A%205%2C%0A%20%20%22stroke%22%3A%20true%2C%0A%20%20%22weight%22%3A%203%0A%7D%0A%20%20%20%20%20%20%20%20%20%20%20%20%20%20%20%20%29%0A%20%20%20%20%20%20%20%20%20%20%20%20%20%20%20%20.addTo%28map_e5b0404d5d6b48b795d5399e600dbad6%29%3B%0A%20%20%20%20%20%20%20%20%20%20%20%20%0A%20%20%20%20%0A%20%20%20%20%20%20%20%20%20%20%20%20var%20popup_99b8f2545ec54ee5b9ac871d7b703a5f%20%3D%20L.popup%28%7BmaxWidth%3A%20%27100%25%27%0A%20%20%20%20%20%20%20%20%20%20%20%20%0A%20%20%20%20%20%20%20%20%20%20%20%20%7D%29%3B%0A%0A%20%20%20%20%20%20%20%20%20%20%20%20%0A%20%20%20%20%20%20%20%20%20%20%20%20%20%20%20%20var%20html_1fe11a2a1a2944d888fd2283f68ede7a%20%3D%20%24%28%60%3Cdiv%20id%3D%22html_1fe11a2a1a2944d888fd2283f68ede7a%22%20style%3D%22width%3A%20100.0%25%3B%20height%3A%20100.0%25%3B%22%3EMaracangalha%20Bar%3C/div%3E%60%29%5B0%5D%3B%0A%20%20%20%20%20%20%20%20%20%20%20%20%20%20%20%20popup_99b8f2545ec54ee5b9ac871d7b703a5f.setContent%28html_1fe11a2a1a2944d888fd2283f68ede7a%29%3B%0A%20%20%20%20%20%20%20%20%20%20%20%20%0A%0A%20%20%20%20%20%20%20%20%20%20%20%20circle_marker_fbf4554379c14cd6bc7bb1ac8d2e6add.bindPopup%28popup_99b8f2545ec54ee5b9ac871d7b703a5f%29%0A%20%20%20%20%20%20%20%20%20%20%20%20%3B%0A%0A%20%20%20%20%20%20%20%20%20%20%20%20%0A%20%20%20%20%20%20%20%20%0A%20%20%20%20%0A%20%20%20%20%20%20%20%20%20%20%20%20var%20circle_marker_21c2133b1ca047708bb2e7a6f305f53e%20%3D%20L.circleMarker%28%0A%20%20%20%20%20%20%20%20%20%20%20%20%20%20%20%20%5B-22.326501185041543%2C%20-49.078461122568775%5D%2C%0A%20%20%20%20%20%20%20%20%20%20%20%20%20%20%20%20%7B%0A%20%20%22bubblingMouseEvents%22%3A%20true%2C%0A%20%20%22color%22%3A%20%22red%22%2C%0A%20%20%22dashArray%22%3A%20null%2C%0A%20%20%22dashOffset%22%3A%20null%2C%0A%20%20%22fill%22%3A%20true%2C%0A%20%20%22fillColor%22%3A%20%22%233186cc%22%2C%0A%20%20%22fillOpacity%22%3A%200.7%2C%0A%20%20%22fillRule%22%3A%20%22evenodd%22%2C%0A%20%20%22lineCap%22%3A%20%22round%22%2C%0A%20%20%22lineJoin%22%3A%20%22round%22%2C%0A%20%20%22opacity%22%3A%201.0%2C%0A%20%20%22radius%22%3A%205%2C%0A%20%20%22stroke%22%3A%20true%2C%0A%20%20%22weight%22%3A%203%0A%7D%0A%20%20%20%20%20%20%20%20%20%20%20%20%20%20%20%20%29%0A%20%20%20%20%20%20%20%20%20%20%20%20%20%20%20%20.addTo%28map_e5b0404d5d6b48b795d5399e600dbad6%29%3B%0A%20%20%20%20%20%20%20%20%20%20%20%20%0A%20%20%20%20%0A%20%20%20%20%20%20%20%20%20%20%20%20var%20popup_71fe2a13d5a046529d72a75f63a5e832%20%3D%20L.popup%28%7BmaxWidth%3A%20%27100%25%27%0A%20%20%20%20%20%20%20%20%20%20%20%20%0A%20%20%20%20%20%20%20%20%20%20%20%20%7D%29%3B%0A%0A%20%20%20%20%20%20%20%20%20%20%20%20%0A%20%20%20%20%20%20%20%20%20%20%20%20%20%20%20%20var%20html_1b6781fdb1f24b76a2875f4c05e8bf71%20%3D%20%24%28%60%3Cdiv%20id%3D%22html_1b6781fdb1f24b76a2875f4c05e8bf71%22%20style%3D%22width%3A%20100.0%25%3B%20height%3A%20100.0%25%3B%22%3EBar%20do%20Baga%C3%A7a%3C/div%3E%60%29%5B0%5D%3B%0A%20%20%20%20%20%20%20%20%20%20%20%20%20%20%20%20popup_71fe2a13d5a046529d72a75f63a5e832.setContent%28html_1b6781fdb1f24b76a2875f4c05e8bf71%29%3B%0A%20%20%20%20%20%20%20%20%20%20%20%20%0A%0A%20%20%20%20%20%20%20%20%20%20%20%20circle_marker_21c2133b1ca047708bb2e7a6f305f53e.bindPopup%28popup_71fe2a13d5a046529d72a75f63a5e832%29%0A%20%20%20%20%20%20%20%20%20%20%20%20%3B%0A%0A%20%20%20%20%20%20%20%20%20%20%20%20%0A%20%20%20%20%20%20%20%20%0A%20%20%20%20%0A%20%20%20%20%20%20%20%20%20%20%20%20var%20circle_marker_6c2a3aaa1c2b41b2beb01962a49f9e9f%20%3D%20L.circleMarker%28%0A%20%20%20%20%20%20%20%20%20%20%20%20%20%20%20%20%5B-22.315927771873877%2C%20-49.06636751432487%5D%2C%0A%20%20%20%20%20%20%20%20%20%20%20%20%20%20%20%20%7B%0A%20%20%22bubblingMouseEvents%22%3A%20true%2C%0A%20%20%22color%22%3A%20%22red%22%2C%0A%20%20%22dashArray%22%3A%20null%2C%0A%20%20%22dashOffset%22%3A%20null%2C%0A%20%20%22fill%22%3A%20true%2C%0A%20%20%22fillColor%22%3A%20%22%233186cc%22%2C%0A%20%20%22fillOpacity%22%3A%200.7%2C%0A%20%20%22fillRule%22%3A%20%22evenodd%22%2C%0A%20%20%22lineCap%22%3A%20%22round%22%2C%0A%20%20%22lineJoin%22%3A%20%22round%22%2C%0A%20%20%22opacity%22%3A%201.0%2C%0A%20%20%22radius%22%3A%205%2C%0A%20%20%22stroke%22%3A%20true%2C%0A%20%20%22weight%22%3A%203%0A%7D%0A%20%20%20%20%20%20%20%20%20%20%20%20%20%20%20%20%29%0A%20%20%20%20%20%20%20%20%20%20%20%20%20%20%20%20.addTo%28map_e5b0404d5d6b48b795d5399e600dbad6%29%3B%0A%20%20%20%20%20%20%20%20%20%20%20%20%0A%20%20%20%20%0A%20%20%20%20%20%20%20%20%20%20%20%20var%20popup_2f054c5c7851448190a1cf02fe64c0a7%20%3D%20L.popup%28%7BmaxWidth%3A%20%27100%25%27%0A%20%20%20%20%20%20%20%20%20%20%20%20%0A%20%20%20%20%20%20%20%20%20%20%20%20%7D%29%3B%0A%0A%20%20%20%20%20%20%20%20%20%20%20%20%0A%20%20%20%20%20%20%20%20%20%20%20%20%20%20%20%20var%20html_0250677b751f46f0aa45b418644d331e%20%3D%20%24%28%60%3Cdiv%20id%3D%22html_0250677b751f46f0aa45b418644d331e%22%20style%3D%22width%3A%20100.0%25%3B%20height%3A%20100.0%25%3B%22%3EMr.%20Beer%3C/div%3E%60%29%5B0%5D%3B%0A%20%20%20%20%20%20%20%20%20%20%20%20%20%20%20%20popup_2f054c5c7851448190a1cf02fe64c0a7.setContent%28html_0250677b751f46f0aa45b418644d331e%29%3B%0A%20%20%20%20%20%20%20%20%20%20%20%20%0A%0A%20%20%20%20%20%20%20%20%20%20%20%20circle_marker_6c2a3aaa1c2b41b2beb01962a49f9e9f.bindPopup%28popup_2f054c5c7851448190a1cf02fe64c0a7%29%0A%20%20%20%20%20%20%20%20%20%20%20%20%3B%0A%0A%20%20%20%20%20%20%20%20%20%20%20%20%0A%20%20%20%20%20%20%20%20%0A%20%20%20%20%0A%20%20%20%20%20%20%20%20%20%20%20%20var%20circle_marker_aa9b0c4ea0bc4b94a428a3dd430efc19%20%3D%20L.circleMarker%28%0A%20%20%20%20%20%20%20%20%20%20%20%20%20%20%20%20%5B-22.35284925656565%2C%20-49.051931002965546%5D%2C%0A%20%20%20%20%20%20%20%20%20%20%20%20%20%20%20%20%7B%0A%20%20%22bubblingMouseEvents%22%3A%20true%2C%0A%20%20%22color%22%3A%20%22red%22%2C%0A%20%20%22dashArray%22%3A%20null%2C%0A%20%20%22dashOffset%22%3A%20null%2C%0A%20%20%22fill%22%3A%20true%2C%0A%20%20%22fillColor%22%3A%20%22%233186cc%22%2C%0A%20%20%22fillOpacity%22%3A%200.7%2C%0A%20%20%22fillRule%22%3A%20%22evenodd%22%2C%0A%20%20%22lineCap%22%3A%20%22round%22%2C%0A%20%20%22lineJoin%22%3A%20%22round%22%2C%0A%20%20%22opacity%22%3A%201.0%2C%0A%20%20%22radius%22%3A%205%2C%0A%20%20%22stroke%22%3A%20true%2C%0A%20%20%22weight%22%3A%203%0A%7D%0A%20%20%20%20%20%20%20%20%20%20%20%20%20%20%20%20%29%0A%20%20%20%20%20%20%20%20%20%20%20%20%20%20%20%20.addTo%28map_e5b0404d5d6b48b795d5399e600dbad6%29%3B%0A%20%20%20%20%20%20%20%20%20%20%20%20%0A%20%20%20%20%0A%20%20%20%20%20%20%20%20%20%20%20%20var%20popup_4095a933375d42b594bda982cf64d249%20%3D%20L.popup%28%7BmaxWidth%3A%20%27100%25%27%0A%20%20%20%20%20%20%20%20%20%20%20%20%0A%20%20%20%20%20%20%20%20%20%20%20%20%7D%29%3B%0A%0A%20%20%20%20%20%20%20%20%20%20%20%20%0A%20%20%20%20%20%20%20%20%20%20%20%20%20%20%20%20var%20html_da2b730df1c14cbba0cb0cfdb3b89ef4%20%3D%20%24%28%60%3Cdiv%20id%3D%22html_da2b730df1c14cbba0cb0cfdb3b89ef4%22%20style%3D%22width%3A%20100.0%25%3B%20height%3A%20100.0%25%3B%22%3ETaco%20Cabana%3C/div%3E%60%29%5B0%5D%3B%0A%20%20%20%20%20%20%20%20%20%20%20%20%20%20%20%20popup_4095a933375d42b594bda982cf64d249.setContent%28html_da2b730df1c14cbba0cb0cfdb3b89ef4%29%3B%0A%20%20%20%20%20%20%20%20%20%20%20%20%0A%0A%20%20%20%20%20%20%20%20%20%20%20%20circle_marker_aa9b0c4ea0bc4b94a428a3dd430efc19.bindPopup%28popup_4095a933375d42b594bda982cf64d249%29%0A%20%20%20%20%20%20%20%20%20%20%20%20%3B%0A%0A%20%20%20%20%20%20%20%20%20%20%20%20%0A%20%20%20%20%20%20%20%20%0A%20%20%20%20%0A%20%20%20%20%20%20%20%20%20%20%20%20var%20circle_marker_ca716863a238497da3c26b096a9016e2%20%3D%20L.circleMarker%28%0A%20%20%20%20%20%20%20%20%20%20%20%20%20%20%20%20%5B-22.370358383199626%2C%20-49.032405029438856%5D%2C%0A%20%20%20%20%20%20%20%20%20%20%20%20%20%20%20%20%7B%0A%20%20%22bubblingMouseEvents%22%3A%20true%2C%0A%20%20%22color%22%3A%20%22red%22%2C%0A%20%20%22dashArray%22%3A%20null%2C%0A%20%20%22dashOffset%22%3A%20null%2C%0A%20%20%22fill%22%3A%20true%2C%0A%20%20%22fillColor%22%3A%20%22%233186cc%22%2C%0A%20%20%22fillOpacity%22%3A%200.7%2C%0A%20%20%22fillRule%22%3A%20%22evenodd%22%2C%0A%20%20%22lineCap%22%3A%20%22round%22%2C%0A%20%20%22lineJoin%22%3A%20%22round%22%2C%0A%20%20%22opacity%22%3A%201.0%2C%0A%20%20%22radius%22%3A%205%2C%0A%20%20%22stroke%22%3A%20true%2C%0A%20%20%22weight%22%3A%203%0A%7D%0A%20%20%20%20%20%20%20%20%20%20%20%20%20%20%20%20%29%0A%20%20%20%20%20%20%20%20%20%20%20%20%20%20%20%20.addTo%28map_e5b0404d5d6b48b795d5399e600dbad6%29%3B%0A%20%20%20%20%20%20%20%20%20%20%20%20%0A%20%20%20%20%0A%20%20%20%20%20%20%20%20%20%20%20%20var%20popup_b0b2a59dceac4ee2bc2b61179933108d%20%3D%20L.popup%28%7BmaxWidth%3A%20%27100%25%27%0A%20%20%20%20%20%20%20%20%20%20%20%20%0A%20%20%20%20%20%20%20%20%20%20%20%20%7D%29%3B%0A%0A%20%20%20%20%20%20%20%20%20%20%20%20%0A%20%20%20%20%20%20%20%20%20%20%20%20%20%20%20%20var%20html_6a3574e4130a44d686082c3b5fe7af14%20%3D%20%24%28%60%3Cdiv%20id%3D%22html_6a3574e4130a44d686082c3b5fe7af14%22%20style%3D%22width%3A%20100.0%25%3B%20height%3A%20100.0%25%3B%22%3ELabirinthus%20International%3C/div%3E%60%29%5B0%5D%3B%0A%20%20%20%20%20%20%20%20%20%20%20%20%20%20%20%20popup_b0b2a59dceac4ee2bc2b61179933108d.setContent%28html_6a3574e4130a44d686082c3b5fe7af14%29%3B%0A%20%20%20%20%20%20%20%20%20%20%20%20%0A%0A%20%20%20%20%20%20%20%20%20%20%20%20circle_marker_ca716863a238497da3c26b096a9016e2.bindPopup%28popup_b0b2a59dceac4ee2bc2b61179933108d%29%0A%20%20%20%20%20%20%20%20%20%20%20%20%3B%0A%0A%20%20%20%20%20%20%20%20%20%20%20%20%0A%20%20%20%20%20%20%20%20%0A%20%20%20%20%0A%20%20%20%20%20%20%20%20%20%20%20%20var%20circle_marker_18ee06a5d3164eeb9ca062da9a891dcd%20%3D%20L.circleMarker%28%0A%20%20%20%20%20%20%20%20%20%20%20%20%20%20%20%20%5B-22.370384180275366%2C%20-49.03171944711336%5D%2C%0A%20%20%20%20%20%20%20%20%20%20%20%20%20%20%20%20%7B%0A%20%20%22bubblingMouseEvents%22%3A%20true%2C%0A%20%20%22color%22%3A%20%22red%22%2C%0A%20%20%22dashArray%22%3A%20null%2C%0A%20%20%22dashOffset%22%3A%20null%2C%0A%20%20%22fill%22%3A%20true%2C%0A%20%20%22fillColor%22%3A%20%22%233186cc%22%2C%0A%20%20%22fillOpacity%22%3A%200.7%2C%0A%20%20%22fillRule%22%3A%20%22evenodd%22%2C%0A%20%20%22lineCap%22%3A%20%22round%22%2C%0A%20%20%22lineJoin%22%3A%20%22round%22%2C%0A%20%20%22opacity%22%3A%201.0%2C%0A%20%20%22radius%22%3A%205%2C%0A%20%20%22stroke%22%3A%20true%2C%0A%20%20%22weight%22%3A%203%0A%7D%0A%20%20%20%20%20%20%20%20%20%20%20%20%20%20%20%20%29%0A%20%20%20%20%20%20%20%20%20%20%20%20%20%20%20%20.addTo%28map_e5b0404d5d6b48b795d5399e600dbad6%29%3B%0A%20%20%20%20%20%20%20%20%20%20%20%20%0A%20%20%20%20%0A%20%20%20%20%20%20%20%20%20%20%20%20var%20popup_176be68dacdf49d284e6c0e2807a61cc%20%3D%20L.popup%28%7BmaxWidth%3A%20%27100%25%27%0A%20%20%20%20%20%20%20%20%20%20%20%20%0A%20%20%20%20%20%20%20%20%20%20%20%20%7D%29%3B%0A%0A%20%20%20%20%20%20%20%20%20%20%20%20%0A%20%20%20%20%20%20%20%20%20%20%20%20%20%20%20%20var%20html_f8e58eec0f584e45b8284908f17e50b1%20%3D%20%24%28%60%3Cdiv%20id%3D%22html_f8e58eec0f584e45b8284908f17e50b1%22%20style%3D%22width%3A%20100.0%25%3B%20height%3A%20100.0%25%3B%22%3EBar%20Rep%C3%BAblica%20do%20Espanhol%3C/div%3E%60%29%5B0%5D%3B%0A%20%20%20%20%20%20%20%20%20%20%20%20%20%20%20%20popup_176be68dacdf49d284e6c0e2807a61cc.setContent%28html_f8e58eec0f584e45b8284908f17e50b1%29%3B%0A%20%20%20%20%20%20%20%20%20%20%20%20%0A%0A%20%20%20%20%20%20%20%20%20%20%20%20circle_marker_18ee06a5d3164eeb9ca062da9a891dcd.bindPopup%28popup_176be68dacdf49d284e6c0e2807a61cc%29%0A%20%20%20%20%20%20%20%20%20%20%20%20%3B%0A%0A%20%20%20%20%20%20%20%20%20%20%20%20%0A%20%20%20%20%20%20%20%20%0A%20%20%20%20%0A%20%20%20%20%20%20%20%20%20%20%20%20var%20circle_marker_c7bb21d0c1cc49fbbfe29907b17f8fe3%20%3D%20L.circleMarker%28%0A%20%20%20%20%20%20%20%20%20%20%20%20%20%20%20%20%5B-22.370671350396268%2C%20-49.03650495039735%5D%2C%0A%20%20%20%20%20%20%20%20%20%20%20%20%20%20%20%20%7B%0A%20%20%22bubblingMouseEvents%22%3A%20true%2C%0A%20%20%22color%22%3A%20%22red%22%2C%0A%20%20%22dashArray%22%3A%20null%2C%0A%20%20%22dashOffset%22%3A%20null%2C%0A%20%20%22fill%22%3A%20true%2C%0A%20%20%22fillColor%22%3A%20%22%233186cc%22%2C%0A%20%20%22fillOpacity%22%3A%200.7%2C%0A%20%20%22fillRule%22%3A%20%22evenodd%22%2C%0A%20%20%22lineCap%22%3A%20%22round%22%2C%0A%20%20%22lineJoin%22%3A%20%22round%22%2C%0A%20%20%22opacity%22%3A%201.0%2C%0A%20%20%22radius%22%3A%205%2C%0A%20%20%22stroke%22%3A%20true%2C%0A%20%20%22weight%22%3A%203%0A%7D%0A%20%20%20%20%20%20%20%20%20%20%20%20%20%20%20%20%29%0A%20%20%20%20%20%20%20%20%20%20%20%20%20%20%20%20.addTo%28map_e5b0404d5d6b48b795d5399e600dbad6%29%3B%0A%20%20%20%20%20%20%20%20%20%20%20%20%0A%20%20%20%20%0A%20%20%20%20%20%20%20%20%20%20%20%20var%20popup_2d203598872d42768f6c0b9e724ff68a%20%3D%20L.popup%28%7BmaxWidth%3A%20%27100%25%27%0A%20%20%20%20%20%20%20%20%20%20%20%20%0A%20%20%20%20%20%20%20%20%20%20%20%20%7D%29%3B%0A%0A%20%20%20%20%20%20%20%20%20%20%20%20%0A%20%20%20%20%20%20%20%20%20%20%20%20%20%20%20%20var%20html_59ef3c3ef7254cecad1459dec842b36b%20%3D%20%24%28%60%3Cdiv%20id%3D%22html_59ef3c3ef7254cecad1459dec842b36b%22%20style%3D%22width%3A%20100.0%25%3B%20height%3A%20100.0%25%3B%22%3EBeef%20Street%20Steakhouse%3C/div%3E%60%29%5B0%5D%3B%0A%20%20%20%20%20%20%20%20%20%20%20%20%20%20%20%20popup_2d203598872d42768f6c0b9e724ff68a.setContent%28html_59ef3c3ef7254cecad1459dec842b36b%29%3B%0A%20%20%20%20%20%20%20%20%20%20%20%20%0A%0A%20%20%20%20%20%20%20%20%20%20%20%20circle_marker_c7bb21d0c1cc49fbbfe29907b17f8fe3.bindPopup%28popup_2d203598872d42768f6c0b9e724ff68a%29%0A%20%20%20%20%20%20%20%20%20%20%20%20%3B%0A%0A%20%20%20%20%20%20%20%20%20%20%20%20%0A%20%20%20%20%20%20%20%20%0A%20%20%20%20%0A%20%20%20%20%20%20%20%20%20%20%20%20var%20circle_marker_c51fe467ae5943fb97dcb0e608ea9cb4%20%3D%20L.circleMarker%28%0A%20%20%20%20%20%20%20%20%20%20%20%20%20%20%20%20%5B-22.370368253592012%2C%20-49.03208854626301%5D%2C%0A%20%20%20%20%20%20%20%20%20%20%20%20%20%20%20%20%7B%0A%20%20%22bubblingMouseEvents%22%3A%20true%2C%0A%20%20%22color%22%3A%20%22red%22%2C%0A%20%20%22dashArray%22%3A%20null%2C%0A%20%20%22dashOffset%22%3A%20null%2C%0A%20%20%22fill%22%3A%20true%2C%0A%20%20%22fillColor%22%3A%20%22%233186cc%22%2C%0A%20%20%22fillOpacity%22%3A%200.7%2C%0A%20%20%22fillRule%22%3A%20%22evenodd%22%2C%0A%20%20%22lineCap%22%3A%20%22round%22%2C%0A%20%20%22lineJoin%22%3A%20%22round%22%2C%0A%20%20%22opacity%22%3A%201.0%2C%0A%20%20%22radius%22%3A%205%2C%0A%20%20%22stroke%22%3A%20true%2C%0A%20%20%22weight%22%3A%203%0A%7D%0A%20%20%20%20%20%20%20%20%20%20%20%20%20%20%20%20%29%0A%20%20%20%20%20%20%20%20%20%20%20%20%20%20%20%20.addTo%28map_e5b0404d5d6b48b795d5399e600dbad6%29%3B%0A%20%20%20%20%20%20%20%20%20%20%20%20%0A%20%20%20%20%0A%20%20%20%20%20%20%20%20%20%20%20%20var%20popup_a98e9d10430d41c38cf32060c018dfff%20%3D%20L.popup%28%7BmaxWidth%3A%20%27100%25%27%0A%20%20%20%20%20%20%20%20%20%20%20%20%0A%20%20%20%20%20%20%20%20%20%20%20%20%7D%29%3B%0A%0A%20%20%20%20%20%20%20%20%20%20%20%20%0A%20%20%20%20%20%20%20%20%20%20%20%20%20%20%20%20var%20html_6eb69a2d63244290a6898475879f912a%20%3D%20%24%28%60%3Cdiv%20id%3D%22html_6eb69a2d63244290a6898475879f912a%22%20style%3D%22width%3A%20100.0%25%3B%20height%3A%20100.0%25%3B%22%3EBarbaridade%3C/div%3E%60%29%5B0%5D%3B%0A%20%20%20%20%20%20%20%20%20%20%20%20%20%20%20%20popup_a98e9d10430d41c38cf32060c018dfff.setContent%28html_6eb69a2d63244290a6898475879f912a%29%3B%0A%20%20%20%20%20%20%20%20%20%20%20%20%0A%0A%20%20%20%20%20%20%20%20%20%20%20%20circle_marker_c51fe467ae5943fb97dcb0e608ea9cb4.bindPopup%28popup_a98e9d10430d41c38cf32060c018dfff%29%0A%20%20%20%20%20%20%20%20%20%20%20%20%3B%0A%0A%20%20%20%20%20%20%20%20%20%20%20%20%0A%20%20%20%20%20%20%20%20%0A%20%20%20%20%0A%20%20%20%20%20%20%20%20%20%20%20%20var%20circle_marker_f773866beb8d42b083b08152d6320c43%20%3D%20L.circleMarker%28%0A%20%20%20%20%20%20%20%20%20%20%20%20%20%20%20%20%5B-22.370440444286245%2C%20-49.03207873443307%5D%2C%0A%20%20%20%20%20%20%20%20%20%20%20%20%20%20%20%20%7B%0A%20%20%22bubblingMouseEvents%22%3A%20true%2C%0A%20%20%22color%22%3A%20%22red%22%2C%0A%20%20%22dashArray%22%3A%20null%2C%0A%20%20%22dashOffset%22%3A%20null%2C%0A%20%20%22fill%22%3A%20true%2C%0A%20%20%22fillColor%22%3A%20%22%233186cc%22%2C%0A%20%20%22fillOpacity%22%3A%200.7%2C%0A%20%20%22fillRule%22%3A%20%22evenodd%22%2C%0A%20%20%22lineCap%22%3A%20%22round%22%2C%0A%20%20%22lineJoin%22%3A%20%22round%22%2C%0A%20%20%22opacity%22%3A%201.0%2C%0A%20%20%22radius%22%3A%205%2C%0A%20%20%22stroke%22%3A%20true%2C%0A%20%20%22weight%22%3A%203%0A%7D%0A%20%20%20%20%20%20%20%20%20%20%20%20%20%20%20%20%29%0A%20%20%20%20%20%20%20%20%20%20%20%20%20%20%20%20.addTo%28map_e5b0404d5d6b48b795d5399e600dbad6%29%3B%0A%20%20%20%20%20%20%20%20%20%20%20%20%0A%20%20%20%20%0A%20%20%20%20%20%20%20%20%20%20%20%20var%20popup_ae84fb94fd3e4791b33edc27241179bd%20%3D%20L.popup%28%7BmaxWidth%3A%20%27100%25%27%0A%20%20%20%20%20%20%20%20%20%20%20%20%0A%20%20%20%20%20%20%20%20%20%20%20%20%7D%29%3B%0A%0A%20%20%20%20%20%20%20%20%20%20%20%20%0A%20%20%20%20%20%20%20%20%20%20%20%20%20%20%20%20var%20html_bd78e0802bbc40ea86946129e9b3b35a%20%3D%20%24%28%60%3Cdiv%20id%3D%22html_bd78e0802bbc40ea86946129e9b3b35a%22%20style%3D%22width%3A%20100.0%25%3B%20height%3A%20100.0%25%3B%22%3EWiskrit%C3%B3rio%20Beer%3C/div%3E%60%29%5B0%5D%3B%0A%20%20%20%20%20%20%20%20%20%20%20%20%20%20%20%20popup_ae84fb94fd3e4791b33edc27241179bd.setContent%28html_bd78e0802bbc40ea86946129e9b3b35a%29%3B%0A%20%20%20%20%20%20%20%20%20%20%20%20%0A%0A%20%20%20%20%20%20%20%20%20%20%20%20circle_marker_f773866beb8d42b083b08152d6320c43.bindPopup%28popup_ae84fb94fd3e4791b33edc27241179bd%29%0A%20%20%20%20%20%20%20%20%20%20%20%20%3B%0A%0A%20%20%20%20%20%20%20%20%20%20%20%20%0A%20%20%20%20%20%20%20%20%0A%20%20%20%20%0A%20%20%20%20%20%20%20%20%20%20%20%20var%20circle_marker_b10c8a4d55ef4e66856a9f3f7f805a32%20%3D%20L.circleMarker%28%0A%20%20%20%20%20%20%20%20%20%20%20%20%20%20%20%20%5B-22.31472%2C%20-49.06056%5D%2C%0A%20%20%20%20%20%20%20%20%20%20%20%20%20%20%20%20%7B%0A%20%20%22bubblingMouseEvents%22%3A%20true%2C%0A%20%20%22color%22%3A%20%22green%22%2C%0A%20%20%22dashArray%22%3A%20null%2C%0A%20%20%22dashOffset%22%3A%20null%2C%0A%20%20%22fill%22%3A%20true%2C%0A%20%20%22fillColor%22%3A%20%22%230000FF%22%2C%0A%20%20%22fillOpacity%22%3A%200.7%2C%0A%20%20%22fillRule%22%3A%20%22evenodd%22%2C%0A%20%20%22lineCap%22%3A%20%22round%22%2C%0A%20%20%22lineJoin%22%3A%20%22round%22%2C%0A%20%20%22opacity%22%3A%201.0%2C%0A%20%20%22radius%22%3A%2015%2C%0A%20%20%22stroke%22%3A%20true%2C%0A%20%20%22weight%22%3A%203%0A%7D%0A%20%20%20%20%20%20%20%20%20%20%20%20%20%20%20%20%29%0A%20%20%20%20%20%20%20%20%20%20%20%20%20%20%20%20.addTo%28map_e5b0404d5d6b48b795d5399e600dbad6%29%3B%0A%20%20%20%20%20%20%20%20%20%20%20%20%0A%20%20%20%20%0A%20%20%20%20%20%20%20%20%20%20%20%20var%20popup_b2bd210d15cb43a18b2a7e6f1c45e849%20%3D%20L.popup%28%7BmaxWidth%3A%20%27100%25%27%0A%20%20%20%20%20%20%20%20%20%20%20%20%0A%20%20%20%20%20%20%20%20%20%20%20%20%7D%29%3B%0A%0A%20%20%20%20%20%20%20%20%20%20%20%20%0A%20%20%20%20%20%20%20%20%20%20%20%20%20%20%20%20var%20html_e540dd6cb4f4497392b88b05446ce76c%20%3D%20%24%28%60%3Cdiv%20id%3D%22html_e540dd6cb4f4497392b88b05446ce76c%22%20style%3D%22width%3A%20100.0%25%3B%20height%3A%20100.0%25%3B%22%3EBest%20Point%21%3C/div%3E%60%29%5B0%5D%3B%0A%20%20%20%20%20%20%20%20%20%20%20%20%20%20%20%20popup_b2bd210d15cb43a18b2a7e6f1c45e849.setContent%28html_e540dd6cb4f4497392b88b05446ce76c%29%3B%0A%20%20%20%20%20%20%20%20%20%20%20%20%0A%0A%20%20%20%20%20%20%20%20%20%20%20%20circle_marker_b10c8a4d55ef4e66856a9f3f7f805a32.bindPopup%28popup_b2bd210d15cb43a18b2a7e6f1c45e849%29%0A%20%20%20%20%20%20%20%20%20%20%20%20%3B%0A%0A%20%20%20%20%20%20%20%20%20%20%20%20%0A%20%20%20%20%20%20%20%20%0A%3C/script%3E onload=\"this.contentDocument.open();this.contentDocument.write(    decodeURIComponent(this.getAttribute('data-html')));this.contentDocument.close();\" allowfullscreen webkitallowfullscreen mozallowfullscreen></iframe></div></div>"
            ],
            "text/plain": [
              "<folium.folium.Map at 0x7ff2903cc690>"
            ]
          },
          "metadata": {
            "tags": []
          },
          "execution_count": 22
        }
      ]
    }
  ]
}